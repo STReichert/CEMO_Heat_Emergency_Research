{
 "cells": [
  {
   "cell_type": "markdown",
   "metadata": {},
   "source": [
    "# Intitial Exploratory Results\n",
    "This notebook provides the initial results of analysis of call volumes alongside heat event data. It outlines the identification of consecutive days over a heat threshold "
   ]
  },
  {
   "cell_type": "code",
   "execution_count": 1,
   "metadata": {},
   "outputs": [],
   "source": [
    "import pandas as pd \n",
    "import geopandas as gpd\n",
    "import numpy as np\n",
    "\n",
    "from scipy import stats\n",
    "\n",
    "import seaborn as sns\n",
    "import matplotlib.pyplot as plt\n",
    "from sklearn.linear_model import LinearRegression\n",
    "\n",
    "### Import Cemo functions from parent directory\n",
    "import sys \n",
    "# setting path to include parent directory\n",
    "sys.path.append('../')\n",
    "# importing\n",
    "import cemo_functions as cemo"
   ]
  },
  {
   "cell_type": "code",
   "execution_count": 2,
   "metadata": {},
   "outputs": [],
   "source": [
    "def streak(s:pd.Series):\n",
    "    \"\"\"\n",
    "    Takes in a pandas series of boolean values and returns a series with a count of the number of cumulative true values.\\n\n",
    "    For heat events series must be restricted to a specific district and in order of dates.\n",
    "\n",
    "    Arguments:\n",
    "        s: Ordered boolean Pandas series\n",
    "    \n",
    "    \"\"\"\n",
    "    \n",
    "    return np.multiply(s, s.cumsum()).diff().where(lambda x:x<0).ffill().add(s.cumsum(), fill_value=0)\n",
    "\n",
    "def grouping(day):\n",
    "    if day >= 2:\n",
    "        return 'Heat Event'\n",
    "    else:\n",
    "        return 'Not a Heat Event'"
   ]
  },
  {
   "attachments": {},
   "cell_type": "markdown",
   "metadata": {},
   "source": [
    "### Pulling in Data"
   ]
  },
  {
   "cell_type": "code",
   "execution_count": 4,
   "metadata": {},
   "outputs": [
    {
     "name": "stdout",
     "output_type": "stream",
     "text": [
      "<class 'pandas.core.frame.DataFrame'>\n",
      "RangeIndex: 186354 entries, 0 to 186353\n",
      "Data columns (total 4 columns):\n",
      " #   Column           Non-Null Count   Dtype  \n",
      "---  ------           --------------   -----  \n",
      " 0   District         186354 non-null  int64  \n",
      " 1   date_time        186354 non-null  object \n",
      " 2   heat_index_high  186354 non-null  float64\n",
      " 3   heat_index_low   186354 non-null  float64\n",
      "dtypes: float64(2), int64(1), object(1)\n",
      "memory usage: 5.7+ MB\n"
     ]
    }
   ],
   "source": [
    "heat_df = pd.read_csv('../data/District_Heat/District_Heat.csv')\n",
    "heat_df.info()"
   ]
  },
  {
   "cell_type": "code",
   "execution_count": 5,
   "metadata": {},
   "outputs": [
    {
     "data": {
      "application/vnd.microsoft.datawrangler.viewer.v0+json": {
       "columns": [
        {
         "name": "index",
         "rawType": "int64",
         "type": "integer"
        },
        {
         "name": "District",
         "rawType": "int64",
         "type": "integer"
        },
        {
         "name": "date_time",
         "rawType": "datetime64[ns]",
         "type": "datetime"
        },
        {
         "name": "heat_index_high",
         "rawType": "float64",
         "type": "float"
        },
        {
         "name": "heat_index_low",
         "rawType": "float64",
         "type": "float"
        }
       ],
       "conversionMethod": "pd.DataFrame",
       "ref": "bc3b6b7d-fe56-42f5-8c8a-264a14da6bc5",
       "rows": [
        [
         "0",
         "1",
         "2018-01-01 00:00:00",
         "67.96404998512615",
         "44.97537861992213"
        ],
        [
         "102",
         "1",
         "2018-01-02 00:00:00",
         "75.18376851894213",
         "51.33057144363101"
        ],
        [
         "204",
         "1",
         "2018-01-03 00:00:00",
         "72.57599976066521",
         "51.703379908988715"
        ],
        [
         "306",
         "1",
         "2018-01-04 00:00:00",
         "72.90137996384665",
         "51.7617418214786"
        ],
        [
         "408",
         "1",
         "2018-01-05 00:00:00",
         "71.47271538320487",
         "53.01201863595499"
        ]
       ],
       "shape": {
        "columns": 4,
        "rows": 5
       }
      },
      "text/html": [
       "<div>\n",
       "<style scoped>\n",
       "    .dataframe tbody tr th:only-of-type {\n",
       "        vertical-align: middle;\n",
       "    }\n",
       "\n",
       "    .dataframe tbody tr th {\n",
       "        vertical-align: top;\n",
       "    }\n",
       "\n",
       "    .dataframe thead th {\n",
       "        text-align: right;\n",
       "    }\n",
       "</style>\n",
       "<table border=\"1\" class=\"dataframe\">\n",
       "  <thead>\n",
       "    <tr style=\"text-align: right;\">\n",
       "      <th></th>\n",
       "      <th>District</th>\n",
       "      <th>date_time</th>\n",
       "      <th>heat_index_high</th>\n",
       "      <th>heat_index_low</th>\n",
       "    </tr>\n",
       "  </thead>\n",
       "  <tbody>\n",
       "    <tr>\n",
       "      <th>0</th>\n",
       "      <td>1</td>\n",
       "      <td>2018-01-01</td>\n",
       "      <td>67.964050</td>\n",
       "      <td>44.975379</td>\n",
       "    </tr>\n",
       "    <tr>\n",
       "      <th>102</th>\n",
       "      <td>1</td>\n",
       "      <td>2018-01-02</td>\n",
       "      <td>75.183769</td>\n",
       "      <td>51.330571</td>\n",
       "    </tr>\n",
       "    <tr>\n",
       "      <th>204</th>\n",
       "      <td>1</td>\n",
       "      <td>2018-01-03</td>\n",
       "      <td>72.576000</td>\n",
       "      <td>51.703380</td>\n",
       "    </tr>\n",
       "    <tr>\n",
       "      <th>306</th>\n",
       "      <td>1</td>\n",
       "      <td>2018-01-04</td>\n",
       "      <td>72.901380</td>\n",
       "      <td>51.761742</td>\n",
       "    </tr>\n",
       "    <tr>\n",
       "      <th>408</th>\n",
       "      <td>1</td>\n",
       "      <td>2018-01-05</td>\n",
       "      <td>71.472715</td>\n",
       "      <td>53.012019</td>\n",
       "    </tr>\n",
       "  </tbody>\n",
       "</table>\n",
       "</div>"
      ],
      "text/plain": [
       "     District  date_time  heat_index_high  heat_index_low\n",
       "0           1 2018-01-01        67.964050       44.975379\n",
       "102         1 2018-01-02        75.183769       51.330571\n",
       "204         1 2018-01-03        72.576000       51.703380\n",
       "306         1 2018-01-04        72.901380       51.761742\n",
       "408         1 2018-01-05        71.472715       53.012019"
      ]
     },
     "execution_count": 5,
     "metadata": {},
     "output_type": "execute_result"
    }
   ],
   "source": [
    "#Process date and integer datatypes needed\n",
    "heat_df['date_time'] = pd.to_datetime(heat_df['date_time']) \n",
    "\n",
    "#Sort on district and date, needed to calculate streaks acurately later on.\n",
    "heat_df.sort_values(\n",
    "    by=['District', 'date_time'],\n",
    "    ascending=[True,True], \n",
    "    inplace=True\n",
    ")\n",
    "heat_df.head()"
   ]
  },
  {
   "attachments": {},
   "cell_type": "markdown",
   "metadata": {},
   "source": [
    "### Populaiton Join and Cleaning"
   ]
  },
  {
   "cell_type": "code",
   "execution_count": 6,
   "metadata": {},
   "outputs": [],
   "source": [
    "lcva_fd_gdf = gpd.read_file('../data/LCVA/LCVA_pop.gpkg')"
   ]
  },
  {
   "cell_type": "code",
   "execution_count": 7,
   "metadata": {},
   "outputs": [
    {
     "name": "stderr",
     "output_type": "stream",
     "text": [
      "<ipython-input-7-d603204718aa>:2: SettingWithCopyWarning: \n",
      "A value is trying to be set on a copy of a slice from a DataFrame.\n",
      "Try using .loc[row_indexer,col_indexer] = value instead\n",
      "\n",
      "See the caveats in the documentation: https://pandas.pydata.org/pandas-docs/stable/user_guide/indexing.html#returning-a-view-versus-a-copy\n",
      "  pop_df['District'] = pop_df['District'].astype(int)\n"
     ]
    }
   ],
   "source": [
    "pop_df = lcva_fd_gdf[['District', 'Population']]\n",
    "pop_df['District'] = pop_df['District'].astype(int)\n",
    "\n",
    "heat_df = pd.merge(heat_df, pop_df, on='District', how='left')"
   ]
  },
  {
   "cell_type": "code",
   "execution_count": 9,
   "metadata": {},
   "outputs": [],
   "source": [
    "ems_volumes = pd.read_csv('../data/FireStatLA/ems_call_counts.csv', \n",
    "                          names=['District', 'date_time', 'calls'],\n",
    "                          parse_dates=['date_time'], header=0)\n"
   ]
  },
  {
   "cell_type": "code",
   "execution_count": 11,
   "metadata": {},
   "outputs": [
    {
     "data": {
      "application/vnd.microsoft.datawrangler.viewer.v0+json": {
       "columns": [
        {
         "name": "index",
         "rawType": "int64",
         "type": "integer"
        },
        {
         "name": "District",
         "rawType": "int64",
         "type": "integer"
        },
        {
         "name": "date_time",
         "rawType": "datetime64[ns]",
         "type": "datetime"
        },
        {
         "name": "heat_index_high",
         "rawType": "float64",
         "type": "float"
        },
        {
         "name": "heat_index_low",
         "rawType": "float64",
         "type": "float"
        },
        {
         "name": "Population",
         "rawType": "float64",
         "type": "float"
        },
        {
         "name": "calls",
         "rawType": "int64",
         "type": "integer"
        }
       ],
       "conversionMethod": "pd.DataFrame",
       "ref": "e75fa6ad-c4ca-42c4-a7a6-957d622afa0c",
       "rows": [
        [
         "0",
         "1",
         "2018-01-01 00:00:00",
         "67.96404998512615",
         "44.97537861992213",
         "37620.0",
         "9"
        ],
        [
         "1",
         "1",
         "2018-01-02 00:00:00",
         "75.18376851894213",
         "51.33057144363101",
         "37620.0",
         "7"
        ],
        [
         "2",
         "1",
         "2018-01-03 00:00:00",
         "72.57599976066521",
         "51.703379908988715",
         "37620.0",
         "5"
        ],
        [
         "3",
         "1",
         "2018-01-04 00:00:00",
         "72.90137996384665",
         "51.7617418214786",
         "37620.0",
         "1"
        ],
        [
         "4",
         "1",
         "2018-01-05 00:00:00",
         "71.47271538320487",
         "53.01201863595499",
         "37620.0",
         "6"
        ]
       ],
       "shape": {
        "columns": 6,
        "rows": 5
       }
      },
      "text/html": [
       "<div>\n",
       "<style scoped>\n",
       "    .dataframe tbody tr th:only-of-type {\n",
       "        vertical-align: middle;\n",
       "    }\n",
       "\n",
       "    .dataframe tbody tr th {\n",
       "        vertical-align: top;\n",
       "    }\n",
       "\n",
       "    .dataframe thead th {\n",
       "        text-align: right;\n",
       "    }\n",
       "</style>\n",
       "<table border=\"1\" class=\"dataframe\">\n",
       "  <thead>\n",
       "    <tr style=\"text-align: right;\">\n",
       "      <th></th>\n",
       "      <th>District</th>\n",
       "      <th>date_time</th>\n",
       "      <th>heat_index_high</th>\n",
       "      <th>heat_index_low</th>\n",
       "      <th>Population</th>\n",
       "      <th>calls</th>\n",
       "    </tr>\n",
       "  </thead>\n",
       "  <tbody>\n",
       "    <tr>\n",
       "      <th>0</th>\n",
       "      <td>1</td>\n",
       "      <td>2018-01-01</td>\n",
       "      <td>67.964050</td>\n",
       "      <td>44.975379</td>\n",
       "      <td>37620.0</td>\n",
       "      <td>9</td>\n",
       "    </tr>\n",
       "    <tr>\n",
       "      <th>1</th>\n",
       "      <td>1</td>\n",
       "      <td>2018-01-02</td>\n",
       "      <td>75.183769</td>\n",
       "      <td>51.330571</td>\n",
       "      <td>37620.0</td>\n",
       "      <td>7</td>\n",
       "    </tr>\n",
       "    <tr>\n",
       "      <th>2</th>\n",
       "      <td>1</td>\n",
       "      <td>2018-01-03</td>\n",
       "      <td>72.576000</td>\n",
       "      <td>51.703380</td>\n",
       "      <td>37620.0</td>\n",
       "      <td>5</td>\n",
       "    </tr>\n",
       "    <tr>\n",
       "      <th>3</th>\n",
       "      <td>1</td>\n",
       "      <td>2018-01-04</td>\n",
       "      <td>72.901380</td>\n",
       "      <td>51.761742</td>\n",
       "      <td>37620.0</td>\n",
       "      <td>1</td>\n",
       "    </tr>\n",
       "    <tr>\n",
       "      <th>4</th>\n",
       "      <td>1</td>\n",
       "      <td>2018-01-05</td>\n",
       "      <td>71.472715</td>\n",
       "      <td>53.012019</td>\n",
       "      <td>37620.0</td>\n",
       "      <td>6</td>\n",
       "    </tr>\n",
       "  </tbody>\n",
       "</table>\n",
       "</div>"
      ],
      "text/plain": [
       "   District  date_time  heat_index_high  heat_index_low  Population  calls\n",
       "0         1 2018-01-01        67.964050       44.975379     37620.0      9\n",
       "1         1 2018-01-02        75.183769       51.330571     37620.0      7\n",
       "2         1 2018-01-03        72.576000       51.703380     37620.0      5\n",
       "3         1 2018-01-04        72.901380       51.761742     37620.0      1\n",
       "4         1 2018-01-05        71.472715       53.012019     37620.0      6"
      ]
     },
     "execution_count": 11,
     "metadata": {},
     "output_type": "execute_result"
    }
   ],
   "source": [
    "ems_volumes = pd.read_csv('../data/FireStatLA/ems_call_counts.csv', \n",
    "                          names=['District', 'date_time', 'calls'],\n",
    "                          parse_dates=['date_time'], header=0)\n",
    "\n",
    "#Joins heat data with call volumes\n",
    "joined_df = heat_df.merge(ems_volumes, how=\"left\", on=['District', 'date_time'])\n",
    "joined_df.fillna(value=0, inplace=True) #Fills rows with no observation with zero\n",
    "joined_df['calls'] = joined_df['calls'].astype(int)\n",
    "joined_df.head()\n"
   ]
  },
  {
   "cell_type": "code",
   "execution_count": 12,
   "metadata": {},
   "outputs": [
    {
     "name": "stdout",
     "output_type": "stream",
     "text": [
      "<class 'pandas.core.frame.DataFrame'>\n",
      "Int64Index: 186354 entries, 0 to 186353\n",
      "Data columns (total 6 columns):\n",
      " #   Column           Non-Null Count   Dtype         \n",
      "---  ------           --------------   -----         \n",
      " 0   District         186354 non-null  int64         \n",
      " 1   date_time        186354 non-null  datetime64[ns]\n",
      " 2   heat_index_high  186354 non-null  float64       \n",
      " 3   heat_index_low   186354 non-null  float64       \n",
      " 4   Population       186354 non-null  float64       \n",
      " 5   calls            186354 non-null  int64         \n",
      "dtypes: datetime64[ns](1), float64(3), int64(2)\n",
      "memory usage: 10.0 MB\n"
     ]
    }
   ],
   "source": [
    "joined_df.info()"
   ]
  },
  {
   "cell_type": "code",
   "execution_count": 13,
   "metadata": {},
   "outputs": [
    {
     "data": {
      "text/plain": [
       "count    186354.000000\n",
       "mean          7.835280\n",
       "std          60.953518\n",
       "min           0.000000\n",
       "25%           1.306943\n",
       "50%           1.964347\n",
       "75%           2.806274\n",
       "max        1435.185185\n",
       "Name: calls_per_10000, dtype: float64"
      ]
     },
     "execution_count": 13,
     "metadata": {},
     "output_type": "execute_result"
    }
   ],
   "source": [
    "joined_df['calls_per_10000'] = (joined_df['calls']/joined_df['Population'])*10000\n",
    "joined_df['calls_per_10000'].describe()"
   ]
  },
  {
   "cell_type": "code",
   "execution_count": 14,
   "metadata": {},
   "outputs": [
    {
     "data": {
      "application/vnd.microsoft.datawrangler.viewer.v0+json": {
       "columns": [
        {
         "name": "index",
         "rawType": "int64",
         "type": "integer"
        },
        {
         "name": "District",
         "rawType": "int64",
         "type": "integer"
        },
        {
         "name": "date_time",
         "rawType": "datetime64[ns]",
         "type": "datetime"
        },
        {
         "name": "heat_index_high",
         "rawType": "float64",
         "type": "float"
        },
        {
         "name": "heat_index_low",
         "rawType": "float64",
         "type": "float"
        },
        {
         "name": "Population",
         "rawType": "float64",
         "type": "float"
        },
        {
         "name": "calls",
         "rawType": "int64",
         "type": "integer"
        },
        {
         "name": "calls_per_10000",
         "rawType": "float64",
         "type": "float"
        }
       ],
       "conversionMethod": "pd.DataFrame",
       "ref": "606544ea-7f92-49ee-923d-0aa6ffed76d2",
       "rows": [
        [
         "82217",
         "51",
         "2018-01-03 00:00:00",
         "73.6060452132621",
         "52.93772417341451",
         "216.0",
         "24",
         "1111.111111111111"
        ],
        [
         "82230",
         "51",
         "2018-01-16 00:00:00",
         "68.01585272472504",
         "52.78370600274948",
         "216.0",
         "29",
         "1342.5925925925928"
        ],
        [
         "82239",
         "51",
         "2018-01-25 00:00:00",
         "64.17693866191186",
         "46.43856560820571",
         "216.0",
         "23",
         "1064.8148148148148"
        ],
        [
         "82246",
         "51",
         "2018-02-01 00:00:00",
         "71.0177945565311",
         "50.795712886423296",
         "216.0",
         "25",
         "1157.4074074074074"
        ],
        [
         "82250",
         "51",
         "2018-02-05 00:00:00",
         "69.88931252226456",
         "50.844502549474704",
         "216.0",
         "22",
         "1018.5185185185185"
        ],
        [
         "82294",
         "51",
         "2018-03-21 00:00:00",
         "64.59088196730389",
         "54.22931202402402",
         "216.0",
         "23",
         "1064.8148148148148"
        ],
        [
         "82324",
         "51",
         "2018-04-20 00:00:00",
         "70.48505294269624",
         "50.563155516185816",
         "216.0",
         "30",
         "1388.888888888889"
        ],
        [
         "82359",
         "51",
         "2018-05-25 00:00:00",
         "66.78888510631626",
         "56.32791341172264",
         "216.0",
         "24",
         "1111.111111111111"
        ],
        [
         "82365",
         "51",
         "2018-05-31 00:00:00",
         "69.17366127376695",
         "60.43239515254605",
         "216.0",
         "22",
         "1018.5185185185185"
        ],
        [
         "82367",
         "51",
         "2018-06-02 00:00:00",
         "71.98949980415183",
         "58.34047588711992",
         "216.0",
         "24",
         "1111.111111111111"
        ],
        [
         "82384",
         "51",
         "2018-06-19 00:00:00",
         "70.08425814963695",
         "59.628858725699345",
         "216.0",
         "22",
         "1018.5185185185185"
        ],
        [
         "82389",
         "51",
         "2018-06-24 00:00:00",
         "73.24462982920063",
         "62.370223361467886",
         "216.0",
         "22",
         "1018.5185185185185"
        ],
        [
         "82392",
         "51",
         "2018-06-27 00:00:00",
         "72.70649802387132",
         "63.98587806106227",
         "216.0",
         "24",
         "1111.111111111111"
        ],
        [
         "82393",
         "51",
         "2018-06-28 00:00:00",
         "72.34448161854658",
         "63.59635168755872",
         "216.0",
         "23",
         "1064.8148148148148"
        ],
        [
         "82402",
         "51",
         "2018-07-07 00:00:00",
         "94.33124952503664",
         "74.26327898673165",
         "216.0",
         "22",
         "1018.5185185185185"
        ],
        [
         "82416",
         "51",
         "2018-07-21 00:00:00",
         "77.50813418243376",
         "69.01743889463064",
         "216.0",
         "22",
         "1018.5185185185185"
        ],
        [
         "82418",
         "51",
         "2018-07-23 00:00:00",
         "86.08787063010574",
         "70.0619400674754",
         "216.0",
         "22",
         "1018.5185185185185"
        ],
        [
         "82419",
         "51",
         "2018-07-24 00:00:00",
         "87.59450724721378",
         "70.3899180846597",
         "216.0",
         "22",
         "1018.5185185185185"
        ],
        [
         "82423",
         "51",
         "2018-07-28 00:00:00",
         "80.21086543644671",
         "68.21527297397708",
         "216.0",
         "26",
         "1203.7037037037037"
        ],
        [
         "82428",
         "51",
         "2018-08-02 00:00:00",
         "83.22162784919101",
         "70.7642933200089",
         "216.0",
         "25",
         "1157.4074074074074"
        ],
        [
         "82432",
         "51",
         "2018-08-06 00:00:00",
         "85.7525551869756",
         "68.2946896021652",
         "216.0",
         "23",
         "1064.8148148148148"
        ],
        [
         "82434",
         "51",
         "2018-08-08 00:00:00",
         "92.44686543726851",
         "70.6345924881442",
         "216.0",
         "26",
         "1203.7037037037037"
        ],
        [
         "82443",
         "51",
         "2018-08-17 00:00:00",
         "84.74304883833433",
         "74.02693497701213",
         "216.0",
         "22",
         "1018.5185185185185"
        ],
        [
         "82469",
         "51",
         "2018-09-12 00:00:00",
         "76.68905334507573",
         "68.00079040019658",
         "216.0",
         "23",
         "1064.8148148148148"
        ],
        [
         "82489",
         "51",
         "2018-10-02 00:00:00",
         "79.16383867757177",
         "67.08367728056628",
         "216.0",
         "22",
         "1018.5185185185185"
        ],
        [
         "82490",
         "51",
         "2018-10-03 00:00:00",
         "77.2176137856759",
         "68.1901928038702",
         "216.0",
         "27",
         "1250.0"
        ],
        [
         "82494",
         "51",
         "2018-10-07 00:00:00",
         "73.85261816871848",
         "60.941496158334104",
         "216.0",
         "24",
         "1111.111111111111"
        ],
        [
         "82495",
         "51",
         "2018-10-08 00:00:00",
         "73.8075014783993",
         "63.828266215767414",
         "216.0",
         "22",
         "1018.5185185185185"
        ],
        [
         "82498",
         "51",
         "2018-10-11 00:00:00",
         "72.76688763373397",
         "61.38812282763516",
         "216.0",
         "22",
         "1018.5185185185185"
        ],
        [
         "82500",
         "51",
         "2018-10-13 00:00:00",
         "70.41955794022822",
         "62.94443946562562",
         "216.0",
         "22",
         "1018.5185185185185"
        ],
        [
         "82515",
         "51",
         "2018-10-28 00:00:00",
         "72.76675729867583",
         "58.97980305126369",
         "216.0",
         "27",
         "1250.0"
        ],
        [
         "82528",
         "51",
         "2018-11-10 00:00:00",
         "75.64724152431633",
         "50.795061194268",
         "216.0",
         "30",
         "1388.888888888889"
        ],
        [
         "82531",
         "51",
         "2018-11-13 00:00:00",
         "74.43491729699848",
         "48.01665068912899",
         "216.0",
         "23",
         "1064.8148148148148"
        ],
        [
         "82537",
         "51",
         "2018-11-19 00:00:00",
         "68.73765777735129",
         "51.991545345665095",
         "216.0",
         "24",
         "1111.111111111111"
        ],
        [
         "82545",
         "51",
         "2018-11-27 00:00:00",
         "71.89628743636638",
         "53.77084382974452",
         "216.0",
         "24",
         "1111.111111111111"
        ],
        [
         "82549",
         "51",
         "2018-12-01 00:00:00",
         "63.34718810961271",
         "49.08218471074627",
         "216.0",
         "23",
         "1064.8148148148148"
        ],
        [
         "82564",
         "51",
         "2018-12-16 00:00:00",
         "66.35721785896732",
         "46.8625536133537",
         "216.0",
         "24",
         "1111.111111111111"
        ],
        [
         "82567",
         "51",
         "2018-12-19 00:00:00",
         "71.04481883427839",
         "48.85235523049669",
         "216.0",
         "24",
         "1111.111111111111"
        ],
        [
         "82568",
         "51",
         "2018-12-20 00:00:00",
         "70.08570629915506",
         "47.38973344342801",
         "216.0",
         "26",
         "1203.7037037037037"
        ],
        [
         "82571",
         "51",
         "2018-12-23 00:00:00",
         "64.36371102278267",
         "49.170454607751054",
         "216.0",
         "23",
         "1064.8148148148148"
        ],
        [
         "82577",
         "51",
         "2018-12-29 00:00:00",
         "58.14587804928429",
         "35.87489028407297",
         "216.0",
         "23",
         "1064.8148148148148"
        ],
        [
         "82584",
         "51",
         "2019-01-05 00:00:00",
         "58.74151945597708",
         "46.24748712162717",
         "216.0",
         "29",
         "1342.5925925925928"
        ],
        [
         "82593",
         "51",
         "2019-01-14 00:00:00",
         "59.720092392120264",
         "50.36402412467228",
         "216.0",
         "22",
         "1018.5185185185185"
        ],
        [
         "82598",
         "51",
         "2019-01-19 00:00:00",
         "74.80031484366877",
         "50.37559007373623",
         "216.0",
         "22",
         "1018.5185185185185"
        ],
        [
         "82607",
         "51",
         "2019-01-28 00:00:00",
         "69.80184634157409",
         "46.90300639347903",
         "216.0",
         "22",
         "1018.5185185185185"
        ],
        [
         "82627",
         "51",
         "2019-02-17 00:00:00",
         "57.35893327024225",
         "42.36543749083661",
         "216.0",
         "25",
         "1157.4074074074074"
        ],
        [
         "82631",
         "51",
         "2019-02-21 00:00:00",
         "54.39922878866567",
         "42.307511832592816",
         "216.0",
         "22",
         "1018.5185185185185"
        ],
        [
         "82638",
         "51",
         "2019-02-28 00:00:00",
         "64.17332229613416",
         "54.69551636434409",
         "216.0",
         "22",
         "1018.5185185185185"
        ],
        [
         "82643",
         "51",
         "2019-03-05 00:00:00",
         "62.096851954488045",
         "46.961190962744666",
         "216.0",
         "26",
         "1203.7037037037037"
        ],
        [
         "82650",
         "51",
         "2019-03-12 00:00:00",
         "66.57078239246245",
         "52.83612179872398",
         "216.0",
         "22",
         "1018.5185185185185"
        ]
       ],
       "shape": {
        "columns": 7,
        "rows": 118
       }
      },
      "text/html": [
       "<div>\n",
       "<style scoped>\n",
       "    .dataframe tbody tr th:only-of-type {\n",
       "        vertical-align: middle;\n",
       "    }\n",
       "\n",
       "    .dataframe tbody tr th {\n",
       "        vertical-align: top;\n",
       "    }\n",
       "\n",
       "    .dataframe thead th {\n",
       "        text-align: right;\n",
       "    }\n",
       "</style>\n",
       "<table border=\"1\" class=\"dataframe\">\n",
       "  <thead>\n",
       "    <tr style=\"text-align: right;\">\n",
       "      <th></th>\n",
       "      <th>District</th>\n",
       "      <th>date_time</th>\n",
       "      <th>heat_index_high</th>\n",
       "      <th>heat_index_low</th>\n",
       "      <th>Population</th>\n",
       "      <th>calls</th>\n",
       "      <th>calls_per_10000</th>\n",
       "    </tr>\n",
       "  </thead>\n",
       "  <tbody>\n",
       "    <tr>\n",
       "      <th>82217</th>\n",
       "      <td>51</td>\n",
       "      <td>2018-01-03</td>\n",
       "      <td>73.606045</td>\n",
       "      <td>52.937724</td>\n",
       "      <td>216.0</td>\n",
       "      <td>24</td>\n",
       "      <td>1111.111111</td>\n",
       "    </tr>\n",
       "    <tr>\n",
       "      <th>82230</th>\n",
       "      <td>51</td>\n",
       "      <td>2018-01-16</td>\n",
       "      <td>68.015853</td>\n",
       "      <td>52.783706</td>\n",
       "      <td>216.0</td>\n",
       "      <td>29</td>\n",
       "      <td>1342.592593</td>\n",
       "    </tr>\n",
       "    <tr>\n",
       "      <th>82239</th>\n",
       "      <td>51</td>\n",
       "      <td>2018-01-25</td>\n",
       "      <td>64.176939</td>\n",
       "      <td>46.438566</td>\n",
       "      <td>216.0</td>\n",
       "      <td>23</td>\n",
       "      <td>1064.814815</td>\n",
       "    </tr>\n",
       "    <tr>\n",
       "      <th>82246</th>\n",
       "      <td>51</td>\n",
       "      <td>2018-02-01</td>\n",
       "      <td>71.017795</td>\n",
       "      <td>50.795713</td>\n",
       "      <td>216.0</td>\n",
       "      <td>25</td>\n",
       "      <td>1157.407407</td>\n",
       "    </tr>\n",
       "    <tr>\n",
       "      <th>82250</th>\n",
       "      <td>51</td>\n",
       "      <td>2018-02-05</td>\n",
       "      <td>69.889313</td>\n",
       "      <td>50.844503</td>\n",
       "      <td>216.0</td>\n",
       "      <td>22</td>\n",
       "      <td>1018.518519</td>\n",
       "    </tr>\n",
       "    <tr>\n",
       "      <th>...</th>\n",
       "      <td>...</td>\n",
       "      <td>...</td>\n",
       "      <td>...</td>\n",
       "      <td>...</td>\n",
       "      <td>...</td>\n",
       "      <td>...</td>\n",
       "      <td>...</td>\n",
       "    </tr>\n",
       "    <tr>\n",
       "      <th>83012</th>\n",
       "      <td>51</td>\n",
       "      <td>2020-03-08</td>\n",
       "      <td>62.624640</td>\n",
       "      <td>50.061407</td>\n",
       "      <td>216.0</td>\n",
       "      <td>22</td>\n",
       "      <td>1018.518519</td>\n",
       "    </tr>\n",
       "    <tr>\n",
       "      <th>83019</th>\n",
       "      <td>51</td>\n",
       "      <td>2020-03-15</td>\n",
       "      <td>61.790888</td>\n",
       "      <td>52.624889</td>\n",
       "      <td>216.0</td>\n",
       "      <td>23</td>\n",
       "      <td>1064.814815</td>\n",
       "    </tr>\n",
       "    <tr>\n",
       "      <th>83805</th>\n",
       "      <td>51</td>\n",
       "      <td>2022-05-10</td>\n",
       "      <td>65.073646</td>\n",
       "      <td>50.379679</td>\n",
       "      <td>216.0</td>\n",
       "      <td>23</td>\n",
       "      <td>1064.814815</td>\n",
       "    </tr>\n",
       "    <tr>\n",
       "      <th>83993</th>\n",
       "      <td>51</td>\n",
       "      <td>2022-11-14</td>\n",
       "      <td>67.888305</td>\n",
       "      <td>45.642080</td>\n",
       "      <td>216.0</td>\n",
       "      <td>22</td>\n",
       "      <td>1018.518519</td>\n",
       "    </tr>\n",
       "    <tr>\n",
       "      <th>84028</th>\n",
       "      <td>51</td>\n",
       "      <td>2022-12-19</td>\n",
       "      <td>62.559359</td>\n",
       "      <td>39.551364</td>\n",
       "      <td>216.0</td>\n",
       "      <td>22</td>\n",
       "      <td>1018.518519</td>\n",
       "    </tr>\n",
       "  </tbody>\n",
       "</table>\n",
       "<p>118 rows × 7 columns</p>\n",
       "</div>"
      ],
      "text/plain": [
       "       District  date_time  heat_index_high  heat_index_low  Population  \\\n",
       "82217        51 2018-01-03        73.606045       52.937724       216.0   \n",
       "82230        51 2018-01-16        68.015853       52.783706       216.0   \n",
       "82239        51 2018-01-25        64.176939       46.438566       216.0   \n",
       "82246        51 2018-02-01        71.017795       50.795713       216.0   \n",
       "82250        51 2018-02-05        69.889313       50.844503       216.0   \n",
       "...         ...        ...              ...             ...         ...   \n",
       "83012        51 2020-03-08        62.624640       50.061407       216.0   \n",
       "83019        51 2020-03-15        61.790888       52.624889       216.0   \n",
       "83805        51 2022-05-10        65.073646       50.379679       216.0   \n",
       "83993        51 2022-11-14        67.888305       45.642080       216.0   \n",
       "84028        51 2022-12-19        62.559359       39.551364       216.0   \n",
       "\n",
       "       calls  calls_per_10000  \n",
       "82217     24      1111.111111  \n",
       "82230     29      1342.592593  \n",
       "82239     23      1064.814815  \n",
       "82246     25      1157.407407  \n",
       "82250     22      1018.518519  \n",
       "...      ...              ...  \n",
       "83012     22      1018.518519  \n",
       "83019     23      1064.814815  \n",
       "83805     23      1064.814815  \n",
       "83993     22      1018.518519  \n",
       "84028     22      1018.518519  \n",
       "\n",
       "[118 rows x 7 columns]"
      ]
     },
     "execution_count": 14,
     "metadata": {},
     "output_type": "execute_result"
    }
   ],
   "source": [
    "joined_df[joined_df['calls_per_10000']>1000]"
   ]
  },
  {
   "attachments": {},
   "cell_type": "markdown",
   "metadata": {},
   "source": [
    "These wildly high call rates all seem to be coming from district 51 and are because of the low population. This district is the same district LAX which is likely responsible both for a very high rate of calls and for the low population."
   ]
  },
  {
   "cell_type": "code",
   "execution_count": 15,
   "metadata": {},
   "outputs": [
    {
     "data": {
      "text/plain": [
       "count    184527.000000\n",
       "mean          2.432127\n",
       "std           2.714550\n",
       "min           0.000000\n",
       "25%           1.294767\n",
       "50%           1.947609\n",
       "75%           2.766124\n",
       "max          47.021944\n",
       "Name: calls_per_10000, dtype: float64"
      ]
     },
     "execution_count": 15,
     "metadata": {},
     "output_type": "execute_result"
    }
   ],
   "source": [
    "joined_df[joined_df['District']!=51]['calls_per_10000'].describe()"
   ]
  },
  {
   "attachments": {},
   "cell_type": "markdown",
   "metadata": {},
   "source": [
    "These seem at least a little more reasonable, I'm still curious about the high value, but it is at least in the realm of maybe being reasonable"
   ]
  },
  {
   "cell_type": "code",
   "execution_count": 16,
   "metadata": {},
   "outputs": [
    {
     "data": {
      "text/plain": [
       "array([ 4,  9, 40, 95])"
      ]
     },
     "execution_count": 16,
     "metadata": {},
     "output_type": "execute_result"
    }
   ],
   "source": [
    "no_lax = joined_df[joined_df['District']!=51]\n",
    "no_lax[no_lax['calls_per_10000']>15]['District'].unique()"
   ]
  },
  {
   "attachments": {},
   "cell_type": "markdown",
   "metadata": {},
   "source": [
    "4 and 9 are downtown, 40 is the harbor, and 95 is also near LAX, all places that make sense to have a higher call rate within their own area. To account for this I can standardize by the average call rate in each given fire district to give the ratio of the rate of calls to the average rate of calls in the district."
   ]
  },
  {
   "cell_type": "code",
   "execution_count": 17,
   "metadata": {},
   "outputs": [],
   "source": [
    "district_avg = joined_df.groupby('District')['calls_per_10000'].mean().rename('District_Avg')"
   ]
  },
  {
   "cell_type": "code",
   "execution_count": 18,
   "metadata": {},
   "outputs": [
    {
     "data": {
      "application/vnd.microsoft.datawrangler.viewer.v0+json": {
       "columns": [
        {
         "name": "index",
         "rawType": "int64",
         "type": "integer"
        },
        {
         "name": "District",
         "rawType": "int64",
         "type": "integer"
        },
        {
         "name": "date_time",
         "rawType": "datetime64[ns]",
         "type": "datetime"
        },
        {
         "name": "heat_index_high",
         "rawType": "float64",
         "type": "float"
        },
        {
         "name": "heat_index_low",
         "rawType": "float64",
         "type": "float"
        },
        {
         "name": "Population",
         "rawType": "float64",
         "type": "float"
        },
        {
         "name": "calls",
         "rawType": "int64",
         "type": "integer"
        },
        {
         "name": "calls_per_10000",
         "rawType": "float64",
         "type": "float"
        },
        {
         "name": "District_Avg",
         "rawType": "float64",
         "type": "float"
        },
        {
         "name": "normalized_rate",
         "rawType": "float64",
         "type": "float"
        }
       ],
       "conversionMethod": "pd.DataFrame",
       "ref": "4c6d6e82-6896-4d4f-a721-92dc78ded400",
       "rows": [
        [
         "0",
         "1",
         "2018-01-01 00:00:00",
         "67.96404998512615",
         "44.97537861992213",
         "37620.0",
         "9",
         "2.3923444976076556",
         "1.93171306298953",
         "1.2384574828651052"
        ],
        [
         "1",
         "1",
         "2018-01-02 00:00:00",
         "75.18376851894213",
         "51.33057144363101",
         "37620.0",
         "7",
         "1.8607123870281765",
         "1.93171306298953",
         "0.9632447088950817"
        ],
        [
         "2",
         "1",
         "2018-01-03 00:00:00",
         "72.57599976066521",
         "51.703379908988715",
         "37620.0",
         "5",
         "1.3290802764486975",
         "1.93171306298953",
         "0.6880319349250583"
        ],
        [
         "3",
         "1",
         "2018-01-04 00:00:00",
         "72.90137996384665",
         "51.7617418214786",
         "37620.0",
         "1",
         "0.2658160552897395",
         "1.93171306298953",
         "0.13760638698501168"
        ],
        [
         "4",
         "1",
         "2018-01-05 00:00:00",
         "71.47271538320487",
         "53.01201863595499",
         "37620.0",
         "6",
         "1.594896331738437",
         "1.93171306298953",
         "0.82563832191007"
        ]
       ],
       "shape": {
        "columns": 9,
        "rows": 5
       }
      },
      "text/html": [
       "<div>\n",
       "<style scoped>\n",
       "    .dataframe tbody tr th:only-of-type {\n",
       "        vertical-align: middle;\n",
       "    }\n",
       "\n",
       "    .dataframe tbody tr th {\n",
       "        vertical-align: top;\n",
       "    }\n",
       "\n",
       "    .dataframe thead th {\n",
       "        text-align: right;\n",
       "    }\n",
       "</style>\n",
       "<table border=\"1\" class=\"dataframe\">\n",
       "  <thead>\n",
       "    <tr style=\"text-align: right;\">\n",
       "      <th></th>\n",
       "      <th>District</th>\n",
       "      <th>date_time</th>\n",
       "      <th>heat_index_high</th>\n",
       "      <th>heat_index_low</th>\n",
       "      <th>Population</th>\n",
       "      <th>calls</th>\n",
       "      <th>calls_per_10000</th>\n",
       "      <th>District_Avg</th>\n",
       "      <th>normalized_rate</th>\n",
       "    </tr>\n",
       "  </thead>\n",
       "  <tbody>\n",
       "    <tr>\n",
       "      <th>0</th>\n",
       "      <td>1</td>\n",
       "      <td>2018-01-01</td>\n",
       "      <td>67.964050</td>\n",
       "      <td>44.975379</td>\n",
       "      <td>37620.0</td>\n",
       "      <td>9</td>\n",
       "      <td>2.392344</td>\n",
       "      <td>1.931713</td>\n",
       "      <td>1.238457</td>\n",
       "    </tr>\n",
       "    <tr>\n",
       "      <th>1</th>\n",
       "      <td>1</td>\n",
       "      <td>2018-01-02</td>\n",
       "      <td>75.183769</td>\n",
       "      <td>51.330571</td>\n",
       "      <td>37620.0</td>\n",
       "      <td>7</td>\n",
       "      <td>1.860712</td>\n",
       "      <td>1.931713</td>\n",
       "      <td>0.963245</td>\n",
       "    </tr>\n",
       "    <tr>\n",
       "      <th>2</th>\n",
       "      <td>1</td>\n",
       "      <td>2018-01-03</td>\n",
       "      <td>72.576000</td>\n",
       "      <td>51.703380</td>\n",
       "      <td>37620.0</td>\n",
       "      <td>5</td>\n",
       "      <td>1.329080</td>\n",
       "      <td>1.931713</td>\n",
       "      <td>0.688032</td>\n",
       "    </tr>\n",
       "    <tr>\n",
       "      <th>3</th>\n",
       "      <td>1</td>\n",
       "      <td>2018-01-04</td>\n",
       "      <td>72.901380</td>\n",
       "      <td>51.761742</td>\n",
       "      <td>37620.0</td>\n",
       "      <td>1</td>\n",
       "      <td>0.265816</td>\n",
       "      <td>1.931713</td>\n",
       "      <td>0.137606</td>\n",
       "    </tr>\n",
       "    <tr>\n",
       "      <th>4</th>\n",
       "      <td>1</td>\n",
       "      <td>2018-01-05</td>\n",
       "      <td>71.472715</td>\n",
       "      <td>53.012019</td>\n",
       "      <td>37620.0</td>\n",
       "      <td>6</td>\n",
       "      <td>1.594896</td>\n",
       "      <td>1.931713</td>\n",
       "      <td>0.825638</td>\n",
       "    </tr>\n",
       "  </tbody>\n",
       "</table>\n",
       "</div>"
      ],
      "text/plain": [
       "   District  date_time  heat_index_high  heat_index_low  Population  calls  \\\n",
       "0         1 2018-01-01        67.964050       44.975379     37620.0      9   \n",
       "1         1 2018-01-02        75.183769       51.330571     37620.0      7   \n",
       "2         1 2018-01-03        72.576000       51.703380     37620.0      5   \n",
       "3         1 2018-01-04        72.901380       51.761742     37620.0      1   \n",
       "4         1 2018-01-05        71.472715       53.012019     37620.0      6   \n",
       "\n",
       "   calls_per_10000  District_Avg  normalized_rate  \n",
       "0         2.392344      1.931713         1.238457  \n",
       "1         1.860712      1.931713         0.963245  \n",
       "2         1.329080      1.931713         0.688032  \n",
       "3         0.265816      1.931713         0.137606  \n",
       "4         1.594896      1.931713         0.825638  "
      ]
     },
     "execution_count": 18,
     "metadata": {},
     "output_type": "execute_result"
    }
   ],
   "source": [
    "rate_df = joined_df.merge(district_avg, on='District', how='left')\n",
    "rate_df['normalized_rate'] = rate_df['calls_per_10000']/rate_df['District_Avg']\n",
    "rate_df.head()"
   ]
  },
  {
   "cell_type": "code",
   "execution_count": 19,
   "metadata": {},
   "outputs": [
    {
     "data": {
      "text/plain": [
       "count    186354.000000\n",
       "mean          1.000000\n",
       "std           0.528309\n",
       "min           0.000000\n",
       "25%           0.711726\n",
       "50%           0.966258\n",
       "75%           1.245116\n",
       "max          10.747059\n",
       "Name: normalized_rate, dtype: float64"
      ]
     },
     "execution_count": 19,
     "metadata": {},
     "output_type": "execute_result"
    }
   ],
   "source": [
    "rate_df['normalized_rate'].describe()"
   ]
  },
  {
   "cell_type": "code",
   "execution_count": 20,
   "metadata": {},
   "outputs": [
    {
     "name": "stdout",
     "output_type": "stream",
     "text": [
      "Coeficient:0.0015816922506758319\n"
     ]
    },
    {
     "data": {
      "image/png": "[encoded data removed]",
      "text/plain": [
       "<Figure size 1008x720 with 1 Axes>"
      ]
     },
     "metadata": {
      "needs_background": "light"
     },
     "output_type": "display_data"
    }
   ],
   "source": [
    "data = rate_df\n",
    "x_col = 'heat_index_high'\n",
    "y_col = 'normalized_rate'\n",
    "\n",
    "fig, ax = plt.subplots(figsize=(14,10))\n",
    "sns.regplot(data=data, x=x_col, y=y_col, ax=ax, line_kws={\"color\": \"green\"}, scatter_kws={'alpha':.5})\n",
    "\n",
    "x_data = data[x_col].values.reshape(-1,1)\n",
    "y_data = data[y_col].values.reshape(-1,1)\n",
    "\n",
    "reg = LinearRegression()\n",
    "reg.fit(x_data, y_data)\n",
    "\n",
    "equation = 'y = {:.2f}x + {:.2f}'.format(reg.coef_[0][0], reg.intercept_[0])\n",
    "r_squared = 'R² = {:.2f}'.format(reg.score(x_data, y_data))\n",
    "plt.text(0.8, 0.9, equation, fontsize=14, transform=plt.gca().transAxes)\n",
    "plt.text(0.8, 0.85, r_squared, fontsize=14, transform=plt.gca().transAxes)\n",
    "\n",
    "plt.ylabel('Normalized Call Rate')\n",
    "plt.xlabel('High Heat Index')\n",
    "plt.title('Number of Calls per 10,000 People Normalized by District Average')\n",
    "print('Coeficient:' + str(reg.coef_[0][0]))\n",
    "\n",
    "plt.show()"
   ]
  },
  {
   "cell_type": "code",
   "execution_count": 18,
   "metadata": {},
   "outputs": [
    {
     "name": "stdout",
     "output_type": "stream",
     "text": [
      "Coeficient:-0.18384012319903886\n"
     ]
    },
    {
     "data": {
      "image/png": "[encoded data removed]",
      "text/plain": [
       "<Figure size 1008x720 with 1 Axes>"
      ]
     },
     "metadata": {
      "needs_background": "light"
     },
     "output_type": "display_data"
    }
   ],
   "source": [
    "data = rate_df\n",
    "x_col = 'heat_index_high'\n",
    "y_col = 'calls_per_10000'\n",
    "\n",
    "fig, ax = plt.subplots(figsize=(14,10))\n",
    "sns.regplot(data=data, x=x_col, y=y_col, ax=ax, line_kws={\"color\": \"green\"}, scatter_kws={'alpha':.5})\n",
    "\n",
    "x_data = data[x_col].values.reshape(-1,1)\n",
    "y_data = data[y_col].values.reshape(-1,1)\n",
    "\n",
    "reg = LinearRegression()\n",
    "reg.fit(x_data, y_data)\n",
    "\n",
    "equation = 'y = {:.2f}x + {:.2f}'.format(reg.coef_[0][0], reg.intercept_[0])\n",
    "r_squared = 'R² = {:.2f}'.format(reg.score(x_data, y_data))\n",
    "plt.text(0.8, 0.9, equation, fontsize=14, transform=plt.gca().transAxes)\n",
    "plt.text(0.8, 0.85, r_squared, fontsize=14, transform=plt.gca().transAxes)\n",
    "\n",
    "plt.ylabel('Number of Calls per 10,000 People')\n",
    "plt.xlabel('High Heat Index')\n",
    "plt.title('Calls per 10,000 People by Heat Index')\n",
    "print('Coeficient:' + str(reg.coef_[0][0]))\n",
    "plt.show()"
   ]
  },
  {
   "cell_type": "code",
   "execution_count": 19,
   "metadata": {},
   "outputs": [
    {
     "name": "stdout",
     "output_type": "stream",
     "text": [
      "Coeficient:0.006880848089539479\n"
     ]
    },
    {
     "data": {
      "image/png": "[encoded data removed]",
      "text/plain": [
       "<Figure size 1008x720 with 1 Axes>"
      ]
     },
     "metadata": {
      "needs_background": "light"
     },
     "output_type": "display_data"
    }
   ],
   "source": [
    "d = 40\n",
    "data = rate_df[rate_df['District']==d]\n",
    "x_col = 'heat_index_high'\n",
    "y_col = 'calls_per_10000'\n",
    "\n",
    "fig, ax = plt.subplots(figsize=(14,10))\n",
    "sns.regplot(data=data, x=x_col, y=y_col, ax=ax, line_kws={\"color\": \"green\"}, scatter_kws={'alpha':.5})\n",
    "\n",
    "x_data = data[x_col].values.reshape(-1,1)\n",
    "y_data = data[y_col].values.reshape(-1,1)\n",
    "\n",
    "reg = LinearRegression()\n",
    "reg.fit(x_data, y_data)\n",
    "\n",
    "equation = 'y = {:.2f}x + {:.2f}'.format(reg.coef_[0][0], reg.intercept_[0])\n",
    "r_squared = 'R² = {:.2f}'.format(reg.score(x_data, y_data))\n",
    "plt.text(0.8, 0.9, equation, fontsize=14, transform=plt.gca().transAxes)\n",
    "plt.text(0.8, 0.85, r_squared, fontsize=14, transform=plt.gca().transAxes)\n",
    "\n",
    "plt.ylabel('Number of Calls per 10,000 People')\n",
    "plt.xlabel('High Heat Index')\n",
    "plt.title(f'Calls per 10,000 People by Heat Index: District {d}')\n",
    "print('Coeficient:' + str(reg.coef_[0][0]))\n",
    "plt.show()"
   ]
  },
  {
   "attachments": {},
   "cell_type": "markdown",
   "metadata": {},
   "source": [
    "It appears that there may be some small association when looking within a given fire station district. When looking overall the noise may be to great to draw a reasonable association between call volumes and heat. \n",
    "\n",
    "Let's try aggregating up the call numbers and heat to the city level to see if there is an association overall."
   ]
  },
  {
   "cell_type": "code",
   "execution_count": 21,
   "metadata": {},
   "outputs": [
    {
     "data": {
      "application/vnd.microsoft.datawrangler.viewer.v0+json": {
       "columns": [
        {
         "name": "index",
         "rawType": "int64",
         "type": "integer"
        },
        {
         "name": "date_time",
         "rawType": "datetime64[ns]",
         "type": "datetime"
        },
        {
         "name": "heat_index_high",
         "rawType": "float64",
         "type": "float"
        },
        {
         "name": "Population",
         "rawType": "float64",
         "type": "float"
        },
        {
         "name": "calls",
         "rawType": "int64",
         "type": "integer"
        }
       ],
       "conversionMethod": "pd.DataFrame",
       "ref": "d688e866-53fb-4ed1-a592-e0a8975b55e3",
       "rows": [
        [
         "0",
         "2018-01-01 00:00:00",
         "67.80254110021495",
         "3971896.0",
         "1043"
        ],
        [
         "1",
         "2018-01-02 00:00:00",
         "75.38521261370899",
         "3971896.0",
         "947"
        ],
        [
         "2",
         "2018-01-03 00:00:00",
         "72.73351527224125",
         "3971896.0",
         "958"
        ],
        [
         "3",
         "2018-01-04 00:00:00",
         "72.92500934279742",
         "3971896.0",
         "927"
        ],
        [
         "4",
         "2018-01-05 00:00:00",
         "71.39898003718987",
         "3971896.0",
         "983"
        ]
       ],
       "shape": {
        "columns": 4,
        "rows": 5
       }
      },
      "text/html": [
       "<div>\n",
       "<style scoped>\n",
       "    .dataframe tbody tr th:only-of-type {\n",
       "        vertical-align: middle;\n",
       "    }\n",
       "\n",
       "    .dataframe tbody tr th {\n",
       "        vertical-align: top;\n",
       "    }\n",
       "\n",
       "    .dataframe thead th {\n",
       "        text-align: right;\n",
       "    }\n",
       "</style>\n",
       "<table border=\"1\" class=\"dataframe\">\n",
       "  <thead>\n",
       "    <tr style=\"text-align: right;\">\n",
       "      <th></th>\n",
       "      <th>date_time</th>\n",
       "      <th>heat_index_high</th>\n",
       "      <th>Population</th>\n",
       "      <th>calls</th>\n",
       "    </tr>\n",
       "  </thead>\n",
       "  <tbody>\n",
       "    <tr>\n",
       "      <th>0</th>\n",
       "      <td>2018-01-01</td>\n",
       "      <td>67.802541</td>\n",
       "      <td>3971896.0</td>\n",
       "      <td>1043</td>\n",
       "    </tr>\n",
       "    <tr>\n",
       "      <th>1</th>\n",
       "      <td>2018-01-02</td>\n",
       "      <td>75.385213</td>\n",
       "      <td>3971896.0</td>\n",
       "      <td>947</td>\n",
       "    </tr>\n",
       "    <tr>\n",
       "      <th>2</th>\n",
       "      <td>2018-01-03</td>\n",
       "      <td>72.733515</td>\n",
       "      <td>3971896.0</td>\n",
       "      <td>958</td>\n",
       "    </tr>\n",
       "    <tr>\n",
       "      <th>3</th>\n",
       "      <td>2018-01-04</td>\n",
       "      <td>72.925009</td>\n",
       "      <td>3971896.0</td>\n",
       "      <td>927</td>\n",
       "    </tr>\n",
       "    <tr>\n",
       "      <th>4</th>\n",
       "      <td>2018-01-05</td>\n",
       "      <td>71.398980</td>\n",
       "      <td>3971896.0</td>\n",
       "      <td>983</td>\n",
       "    </tr>\n",
       "  </tbody>\n",
       "</table>\n",
       "</div>"
      ],
      "text/plain": [
       "   date_time  heat_index_high  Population  calls\n",
       "0 2018-01-01        67.802541   3971896.0   1043\n",
       "1 2018-01-02        75.385213   3971896.0    947\n",
       "2 2018-01-03        72.733515   3971896.0    958\n",
       "3 2018-01-04        72.925009   3971896.0    927\n",
       "4 2018-01-05        71.398980   3971896.0    983"
      ]
     },
     "execution_count": 21,
     "metadata": {},
     "output_type": "execute_result"
    }
   ],
   "source": [
    "#aggregate variables to city level for proof of correlation\n",
    "city_df = rate_df.groupby('date_time').agg({'heat_index_high':'mean', 'Population':'sum', 'calls':'sum'}).reset_index()\n",
    "#drop row with zero calls (Jan 1st 2023), outside the study bounds\n",
    "city_df = city_df[city_df['calls']!=0]\n",
    "\n",
    "city_df.head()"
   ]
  },
  {
   "cell_type": "code",
   "execution_count": 22,
   "metadata": {},
   "outputs": [
    {
     "name": "stdout",
     "output_type": "stream",
     "text": [
      "Coeficient:1.4807756452396192\n"
     ]
    },
    {
     "data": {
      "image/png": "[encoded data removed]",
      "text/plain": [
       "<Figure size 1008x720 with 1 Axes>"
      ]
     },
     "metadata": {
      "needs_background": "light"
     },
     "output_type": "display_data"
    }
   ],
   "source": [
    "data = city_df\n",
    "x_col = 'heat_index_high'\n",
    "y_col = 'calls'\n",
    "\n",
    "fig, ax = plt.subplots(figsize=(14,10))\n",
    "sns.regplot(data=data, x=x_col, y=y_col, ax=ax, line_kws={\"color\": \"green\"}, scatter_kws={'alpha':.5})\n",
    "\n",
    "x_data = data[x_col].values.reshape(-1,1)\n",
    "y_data = data[y_col].values.reshape(-1,1)\n",
    "\n",
    "reg = LinearRegression()\n",
    "reg.fit(x_data, y_data)\n",
    "\n",
    "equation = 'y = {:.2f}x + {:.2f}'.format(reg.coef_[0][0], reg.intercept_[0])\n",
    "r_squared = 'R² = {:.2f}'.format(reg.score(x_data, y_data))\n",
    "plt.text(0.8, 0.15, equation, fontsize=14, transform=plt.gca().transAxes)\n",
    "plt.text(0.8, 0.1, r_squared, fontsize=14, transform=plt.gca().transAxes)\n",
    "\n",
    "plt.ylabel('Total EMS Call Volumes')\n",
    "plt.xlabel('High Heat Index')\n",
    "plt.title('Citywide EMS Call Volumes by Heat Index')\n",
    "print('Coeficient:' + str(reg.coef_[0][0]))\n",
    "plt.show()\n"
   ]
  },
  {
   "cell_type": "markdown",
   "metadata": {},
   "source": [
    "At the citywide level there seems like there may be a correlation to explore further. Let's look closer at a regression of heat index and call volumes city wide."
   ]
  },
  {
   "cell_type": "code",
   "execution_count": 23,
   "metadata": {},
   "outputs": [
    {
     "name": "stdout",
     "output_type": "stream",
     "text": [
      "                            OLS Regression Results                            \n",
      "==============================================================================\n",
      "Dep. Variable:                  calls   R-squared:                       0.043\n",
      "Model:                            OLS   Adj. R-squared:                  0.042\n",
      "Method:                 Least Squares   F-statistic:                     81.30\n",
      "Date:                Sun, 09 Feb 2025   Prob (F-statistic):           4.77e-19\n",
      "Time:                        23:39:33   Log-Likelihood:                -10266.\n",
      "No. Observations:                1826   AIC:                         2.054e+04\n",
      "Df Residuals:                    1824   BIC:                         2.055e+04\n",
      "Df Model:                           1                                         \n",
      "Covariance Type:            nonrobust                                         \n",
      "===================================================================================\n",
      "                      coef    std err          t      P>|t|      [0.025      0.975]\n",
      "-----------------------------------------------------------------------------------\n",
      "const             809.4006     12.335     65.617      0.000     785.208     833.593\n",
      "heat_index_high     1.4808      0.164      9.017      0.000       1.159       1.803\n",
      "==============================================================================\n",
      "Omnibus:                        2.087   Durbin-Watson:                   0.641\n",
      "Prob(Omnibus):                  0.352   Jarque-Bera (JB):                2.148\n",
      "Skew:                           0.073   Prob(JB):                        0.342\n",
      "Kurtosis:                       2.915   Cond. No.                         591.\n",
      "==============================================================================\n",
      "\n",
      "Notes:\n",
      "[1] Standard Errors assume that the covariance matrix of the errors is correctly specified.\n"
     ]
    }
   ],
   "source": [
    "import statsmodels.api as sma\n",
    "data = city_df\n",
    "x_col = 'heat_index_high'\n",
    "y_col = 'calls'\n",
    "\n",
    "X = data[x_col]\n",
    "y = data[y_col]\n",
    "\n",
    "X2 = sma.add_constant(X)\n",
    "est = sma.OLS(y, X2)\n",
    "est2 = est.fit()\n",
    "print(est2.summary())"
   ]
  },
  {
   "cell_type": "markdown",
   "metadata": {},
   "source": [
    "There is a small correlation between the high heat index and call volumes that is statisticly significant that we should continue looking at more closely. Let's now look at \"heat events\" over 90 degrees and explore the distribution of call volumes on heat event days vs the distribution on non heat event days."
   ]
  },
  {
   "cell_type": "code",
   "execution_count": 23,
   "metadata": {},
   "outputs": [
    {
     "data": {
      "text/html": [
       "<div>\n",
       "<style scoped>\n",
       "    .dataframe tbody tr th:only-of-type {\n",
       "        vertical-align: middle;\n",
       "    }\n",
       "\n",
       "    .dataframe tbody tr th {\n",
       "        vertical-align: top;\n",
       "    }\n",
       "\n",
       "    .dataframe thead th {\n",
       "        text-align: right;\n",
       "    }\n",
       "</style>\n",
       "<table border=\"1\" class=\"dataframe\">\n",
       "  <thead>\n",
       "    <tr style=\"text-align: right;\">\n",
       "      <th></th>\n",
       "      <th>date_time</th>\n",
       "      <th>heat_index_high</th>\n",
       "      <th>Population</th>\n",
       "      <th>calls</th>\n",
       "      <th>heat_day</th>\n",
       "      <th>streak</th>\n",
       "      <th>Event</th>\n",
       "    </tr>\n",
       "  </thead>\n",
       "  <tbody>\n",
       "    <tr>\n",
       "      <th>0</th>\n",
       "      <td>2018-01-01</td>\n",
       "      <td>67.802541</td>\n",
       "      <td>3971896.0</td>\n",
       "      <td>1043</td>\n",
       "      <td>False</td>\n",
       "      <td>0.0</td>\n",
       "      <td>Not a Heat Event</td>\n",
       "    </tr>\n",
       "    <tr>\n",
       "      <th>1</th>\n",
       "      <td>2018-01-02</td>\n",
       "      <td>75.385213</td>\n",
       "      <td>3971896.0</td>\n",
       "      <td>947</td>\n",
       "      <td>False</td>\n",
       "      <td>0.0</td>\n",
       "      <td>Not a Heat Event</td>\n",
       "    </tr>\n",
       "    <tr>\n",
       "      <th>2</th>\n",
       "      <td>2018-01-03</td>\n",
       "      <td>72.733515</td>\n",
       "      <td>3971896.0</td>\n",
       "      <td>958</td>\n",
       "      <td>False</td>\n",
       "      <td>0.0</td>\n",
       "      <td>Not a Heat Event</td>\n",
       "    </tr>\n",
       "    <tr>\n",
       "      <th>3</th>\n",
       "      <td>2018-01-04</td>\n",
       "      <td>72.925009</td>\n",
       "      <td>3971896.0</td>\n",
       "      <td>927</td>\n",
       "      <td>False</td>\n",
       "      <td>0.0</td>\n",
       "      <td>Not a Heat Event</td>\n",
       "    </tr>\n",
       "    <tr>\n",
       "      <th>4</th>\n",
       "      <td>2018-01-05</td>\n",
       "      <td>71.398980</td>\n",
       "      <td>3971896.0</td>\n",
       "      <td>983</td>\n",
       "      <td>False</td>\n",
       "      <td>0.0</td>\n",
       "      <td>Not a Heat Event</td>\n",
       "    </tr>\n",
       "  </tbody>\n",
       "</table>\n",
       "</div>"
      ],
      "text/plain": [
       "   date_time  heat_index_high  Population  calls  heat_day  streak  \\\n",
       "0 2018-01-01        67.802541   3971896.0   1043     False     0.0   \n",
       "1 2018-01-02        75.385213   3971896.0    947     False     0.0   \n",
       "2 2018-01-03        72.733515   3971896.0    958     False     0.0   \n",
       "3 2018-01-04        72.925009   3971896.0    927     False     0.0   \n",
       "4 2018-01-05        71.398980   3971896.0    983     False     0.0   \n",
       "\n",
       "              Event  \n",
       "0  Not a Heat Event  \n",
       "1  Not a Heat Event  \n",
       "2  Not a Heat Event  \n",
       "3  Not a Heat Event  \n",
       "4  Not a Heat Event  "
      ]
     },
     "execution_count": 23,
     "metadata": {},
     "output_type": "execute_result"
    }
   ],
   "source": [
    "city_df['heat_day'] = np.vectorize(cemo.heat_threshold)(daily_high=city_df['heat_index_high'], high_thresh=90)\n",
    "city_df['streak'] = streak(city_df['heat_day'])\n",
    "city_df['Event'] = np.vectorize(grouping)(city_df['streak'])\n",
    "city_df.head()\n"
   ]
  },
  {
   "cell_type": "code",
   "execution_count": 24,
   "metadata": {},
   "outputs": [
    {
     "data": {
      "text/plain": [
       "Text(0.5, 1.0, 'Citywide Daily Call Distribution')"
      ]
     },
     "execution_count": 24,
     "metadata": {},
     "output_type": "execute_result"
    },
    {
     "data": {
      "image/png": "[encoded data removed]",
      "text/plain": [
       "<Figure size 576x1152 with 1 Axes>"
      ]
     },
     "metadata": {
      "needs_background": "light"
     },
     "output_type": "display_data"
    }
   ],
   "source": [
    "fig, ax = plt.subplots(figsize=(8, 16))\n",
    "sns.boxplot(data=city_df, x='Event', y='calls', ax=ax)\n",
    "\n",
    "plt.xlabel('Type of Day')\n",
    "plt.ylabel('Total EMS Call Volumes')\n",
    "plt.title('Citywide Daily Call Distribution')"
   ]
  },
  {
   "cell_type": "markdown",
   "metadata": {},
   "source": [
    "This is a significant difference between heat event and not a heat event days. We should continue looking more closely at these results."
   ]
  },
  {
   "cell_type": "code",
   "execution_count": 25,
   "metadata": {},
   "outputs": [
    {
     "name": "stdout",
     "output_type": "stream",
     "text": [
      "Citywide P Value is: 3.327683325681453e-06\n"
     ]
    }
   ],
   "source": [
    "p_val = stats.ttest_ind(city_df[city_df['streak']<2]['calls'], city_df[city_df['streak']>=2]['calls'], equal_var=False, alternative='less')[1]\n",
    "print(f'Citywide P Value is: {p_val}')"
   ]
  },
  {
   "attachments": {},
   "cell_type": "markdown",
   "metadata": {},
   "source": [
    "We can reject the null hypothesis, overall there is a statistically significant greater number of 911 calls on heat events where the temperature is over 90 than non heat events."
   ]
  },
  {
   "cell_type": "code",
   "execution_count": 26,
   "metadata": {},
   "outputs": [],
   "source": [
    "city_df.to_csv('data/Analysis/city_summary.csv', index=False)"
   ]
  },
  {
   "attachments": {},
   "cell_type": "markdown",
   "metadata": {},
   "source": [
    "\n",
    "### Heat Day Definitions\n",
    "Heat Day definitions are tricky, at their simplist, definitions are above 90°F, but some definitions are 95°F, even 100°F in the Valley. Other definitions use over 90° during the day and over 70° at night. We can explore the heat day definitions later but for now we use the simplist definition: two or more days over 90°F"
   ]
  },
  {
   "cell_type": "code",
   "execution_count": 24,
   "metadata": {},
   "outputs": [
    {
     "data": {
      "application/vnd.microsoft.datawrangler.viewer.v0+json": {
       "columns": [
        {
         "name": "index",
         "rawType": "int64",
         "type": "integer"
        },
        {
         "name": "District",
         "rawType": "int64",
         "type": "integer"
        },
        {
         "name": "date_time",
         "rawType": "datetime64[ns]",
         "type": "datetime"
        },
        {
         "name": "heat_index_high",
         "rawType": "float64",
         "type": "float"
        },
        {
         "name": "heat_index_low",
         "rawType": "float64",
         "type": "float"
        },
        {
         "name": "Population",
         "rawType": "float64",
         "type": "float"
        },
        {
         "name": "calls",
         "rawType": "int64",
         "type": "integer"
        },
        {
         "name": "calls_per_10000",
         "rawType": "float64",
         "type": "float"
        },
        {
         "name": "heat_day",
         "rawType": "bool",
         "type": "boolean"
        }
       ],
       "conversionMethod": "pd.DataFrame",
       "ref": "2546820b-0b1a-4ada-af3c-3cba5b13fe76",
       "rows": [
        [
         "0",
         "1",
         "2018-01-01 00:00:00",
         "67.96404998512615",
         "44.97537861992213",
         "37620.0",
         "9",
         "2.3923444976076556",
         "False"
        ],
        [
         "1",
         "1",
         "2018-01-02 00:00:00",
         "75.18376851894213",
         "51.33057144363101",
         "37620.0",
         "7",
         "1.8607123870281765",
         "False"
        ],
        [
         "2",
         "1",
         "2018-01-03 00:00:00",
         "72.57599976066521",
         "51.703379908988715",
         "37620.0",
         "5",
         "1.3290802764486975",
         "False"
        ],
        [
         "3",
         "1",
         "2018-01-04 00:00:00",
         "72.90137996384665",
         "51.7617418214786",
         "37620.0",
         "1",
         "0.2658160552897395",
         "False"
        ],
        [
         "4",
         "1",
         "2018-01-05 00:00:00",
         "71.47271538320487",
         "53.01201863595499",
         "37620.0",
         "6",
         "1.594896331738437",
         "False"
        ]
       ],
       "shape": {
        "columns": 8,
        "rows": 5
       }
      },
      "text/html": [
       "<div>\n",
       "<style scoped>\n",
       "    .dataframe tbody tr th:only-of-type {\n",
       "        vertical-align: middle;\n",
       "    }\n",
       "\n",
       "    .dataframe tbody tr th {\n",
       "        vertical-align: top;\n",
       "    }\n",
       "\n",
       "    .dataframe thead th {\n",
       "        text-align: right;\n",
       "    }\n",
       "</style>\n",
       "<table border=\"1\" class=\"dataframe\">\n",
       "  <thead>\n",
       "    <tr style=\"text-align: right;\">\n",
       "      <th></th>\n",
       "      <th>District</th>\n",
       "      <th>date_time</th>\n",
       "      <th>heat_index_high</th>\n",
       "      <th>heat_index_low</th>\n",
       "      <th>Population</th>\n",
       "      <th>calls</th>\n",
       "      <th>calls_per_10000</th>\n",
       "      <th>heat_day</th>\n",
       "    </tr>\n",
       "  </thead>\n",
       "  <tbody>\n",
       "    <tr>\n",
       "      <th>0</th>\n",
       "      <td>1</td>\n",
       "      <td>2018-01-01</td>\n",
       "      <td>67.964050</td>\n",
       "      <td>44.975379</td>\n",
       "      <td>37620.0</td>\n",
       "      <td>9</td>\n",
       "      <td>2.392344</td>\n",
       "      <td>False</td>\n",
       "    </tr>\n",
       "    <tr>\n",
       "      <th>1</th>\n",
       "      <td>1</td>\n",
       "      <td>2018-01-02</td>\n",
       "      <td>75.183769</td>\n",
       "      <td>51.330571</td>\n",
       "      <td>37620.0</td>\n",
       "      <td>7</td>\n",
       "      <td>1.860712</td>\n",
       "      <td>False</td>\n",
       "    </tr>\n",
       "    <tr>\n",
       "      <th>2</th>\n",
       "      <td>1</td>\n",
       "      <td>2018-01-03</td>\n",
       "      <td>72.576000</td>\n",
       "      <td>51.703380</td>\n",
       "      <td>37620.0</td>\n",
       "      <td>5</td>\n",
       "      <td>1.329080</td>\n",
       "      <td>False</td>\n",
       "    </tr>\n",
       "    <tr>\n",
       "      <th>3</th>\n",
       "      <td>1</td>\n",
       "      <td>2018-01-04</td>\n",
       "      <td>72.901380</td>\n",
       "      <td>51.761742</td>\n",
       "      <td>37620.0</td>\n",
       "      <td>1</td>\n",
       "      <td>0.265816</td>\n",
       "      <td>False</td>\n",
       "    </tr>\n",
       "    <tr>\n",
       "      <th>4</th>\n",
       "      <td>1</td>\n",
       "      <td>2018-01-05</td>\n",
       "      <td>71.472715</td>\n",
       "      <td>53.012019</td>\n",
       "      <td>37620.0</td>\n",
       "      <td>6</td>\n",
       "      <td>1.594896</td>\n",
       "      <td>False</td>\n",
       "    </tr>\n",
       "  </tbody>\n",
       "</table>\n",
       "</div>"
      ],
      "text/plain": [
       "   District  date_time  heat_index_high  heat_index_low  Population  calls  \\\n",
       "0         1 2018-01-01        67.964050       44.975379     37620.0      9   \n",
       "1         1 2018-01-02        75.183769       51.330571     37620.0      7   \n",
       "2         1 2018-01-03        72.576000       51.703380     37620.0      5   \n",
       "3         1 2018-01-04        72.901380       51.761742     37620.0      1   \n",
       "4         1 2018-01-05        71.472715       53.012019     37620.0      6   \n",
       "\n",
       "   calls_per_10000  heat_day  \n",
       "0         2.392344     False  \n",
       "1         1.860712     False  \n",
       "2         1.329080     False  \n",
       "3         0.265816     False  \n",
       "4         1.594896     False  "
      ]
     },
     "execution_count": 24,
     "metadata": {},
     "output_type": "execute_result"
    }
   ],
   "source": [
    "joined_df['heat_day'] = np.vectorize(cemo.heat_threshold)(daily_high=joined_df['heat_index_high'], high_thresh=90)\n",
    "joined_df.head()"
   ]
  },
  {
   "cell_type": "code",
   "execution_count": 25,
   "metadata": {},
   "outputs": [
    {
     "data": {
      "text/plain": [
       "array([  1,   2,   3,   4,   5,   6,   7,   8,   9,  10,  11,  12,  13,\n",
       "        14,  15,  16,  17,  18,  19,  20,  21,  23,  24,  25,  26,  27,\n",
       "        28,  29,  33,  34,  35,  36,  37,  38,  39,  40,  41,  42,  43,\n",
       "        44,  46,  47,  48,  49,  50,  51,  52,  55,  56,  57,  58,  59,\n",
       "        60,  61,  62,  63,  64,  65,  66,  67,  68,  69,  70,  71,  72,\n",
       "        73,  74,  75,  76,  77,  78,  79,  81,  82,  83,  84,  85,  86,\n",
       "        87,  88,  89,  90,  91,  92,  93,  94,  95,  96,  97,  98,  99,\n",
       "       100, 101, 102, 103, 104, 105, 106, 107, 108, 109, 112])"
      ]
     },
     "execution_count": 25,
     "metadata": {},
     "output_type": "execute_result"
    }
   ],
   "source": [
    "districts = joined_df['District'].unique()\n",
    "\n",
    "districts"
   ]
  },
  {
   "cell_type": "code",
   "execution_count": 26,
   "metadata": {},
   "outputs": [],
   "source": [
    "serieslist=[]\n",
    "for district in districts:\n",
    "    num_days = streak(joined_df[joined_df['District']==district]['heat_day'])\n",
    "    serieslist.append(num_days)\n",
    "\n",
    "streak_series = pd.concat(serieslist).rename('days_of_heat')"
   ]
  },
  {
   "cell_type": "code",
   "execution_count": 27,
   "metadata": {},
   "outputs": [
    {
     "data": {
      "application/vnd.microsoft.datawrangler.viewer.v0+json": {
       "columns": [
        {
         "name": "index",
         "rawType": "int64",
         "type": "integer"
        },
        {
         "name": "District",
         "rawType": "int64",
         "type": "integer"
        },
        {
         "name": "date_time",
         "rawType": "datetime64[ns]",
         "type": "datetime"
        },
        {
         "name": "heat_index_high",
         "rawType": "float64",
         "type": "float"
        },
        {
         "name": "heat_index_low",
         "rawType": "float64",
         "type": "float"
        },
        {
         "name": "Population",
         "rawType": "float64",
         "type": "float"
        },
        {
         "name": "calls",
         "rawType": "int64",
         "type": "integer"
        },
        {
         "name": "calls_per_10000",
         "rawType": "float64",
         "type": "float"
        },
        {
         "name": "heat_day",
         "rawType": "bool",
         "type": "boolean"
        },
        {
         "name": "days_of_heat",
         "rawType": "float64",
         "type": "float"
        }
       ],
       "conversionMethod": "pd.DataFrame",
       "ref": "3a8236d8-a34b-4685-af66-c50f1468b925",
       "rows": [
        [
         "120784",
         "74",
         "2018-07-22 00:00:00",
         "92.48844445307986",
         "68.54593758993576",
         "37158.0",
         "7",
         "1.883847354540072",
         "True",
         "1.0"
        ],
        [
         "166444",
         "100",
         "2018-07-07 00:00:00",
         "107.9108392157814",
         "81.73460017784852",
         "40050.0",
         "9",
         "2.247191011235955",
         "True",
         "3.0"
        ],
        [
         "150025",
         "91",
         "2018-07-31 00:00:00",
         "94.50983150267037",
         "73.80610322376404",
         "88106.0",
         "16",
         "1.8159943704174517",
         "True",
         "10.0"
        ],
        [
         "13408",
         "8",
         "2019-09-12 00:00:00",
         "90.5419522088984",
         "63.28968240506919",
         "17094.0",
         "2",
         "1.17000117000117",
         "True",
         "1.0"
        ],
        [
         "40813",
         "24",
         "2019-09-12 00:00:00",
         "90.01278638900231",
         "64.5679355325471",
         "11060.0",
         "1",
         "0.9041591320072333",
         "True",
         "1.0"
        ],
        [
         "80270",
         "49",
         "2022-09-06 00:00:00",
         "97.03267421209792",
         "73.63076297631298",
         "3490.0",
         "0",
         "0.0",
         "True",
         "6.0"
        ],
        [
         "88685",
         "56",
         "2020-09-16 00:00:00",
         "90.01516263160471",
         "63.56986382347361",
         "27668.0",
         "4",
         "1.4457134595923087",
         "True",
         "1.0"
        ],
        [
         "13751",
         "8",
         "2020-08-20 00:00:00",
         "102.04131666428547",
         "76.23729861071159",
         "17094.0",
         "2",
         "1.17000117000117",
         "True",
         "9.0"
        ],
        [
         "136534",
         "83",
         "2021-08-29 00:00:00",
         "91.87608906763084",
         "67.20775364860425",
         "33073.0",
         "6",
         "1.8141686572128324",
         "True",
         "4.0"
        ],
        [
         "68932",
         "42",
         "2021-08-26 00:00:00",
         "90.5585830643912",
         "66.6932490813859",
         "20599.0",
         "5",
         "2.4273022962279724",
         "True",
         "1.0"
        ]
       ],
       "shape": {
        "columns": 9,
        "rows": 10
       }
      },
      "text/html": [
       "<div>\n",
       "<style scoped>\n",
       "    .dataframe tbody tr th:only-of-type {\n",
       "        vertical-align: middle;\n",
       "    }\n",
       "\n",
       "    .dataframe tbody tr th {\n",
       "        vertical-align: top;\n",
       "    }\n",
       "\n",
       "    .dataframe thead th {\n",
       "        text-align: right;\n",
       "    }\n",
       "</style>\n",
       "<table border=\"1\" class=\"dataframe\">\n",
       "  <thead>\n",
       "    <tr style=\"text-align: right;\">\n",
       "      <th></th>\n",
       "      <th>District</th>\n",
       "      <th>date_time</th>\n",
       "      <th>heat_index_high</th>\n",
       "      <th>heat_index_low</th>\n",
       "      <th>Population</th>\n",
       "      <th>calls</th>\n",
       "      <th>calls_per_10000</th>\n",
       "      <th>heat_day</th>\n",
       "      <th>days_of_heat</th>\n",
       "    </tr>\n",
       "  </thead>\n",
       "  <tbody>\n",
       "    <tr>\n",
       "      <th>120784</th>\n",
       "      <td>74</td>\n",
       "      <td>2018-07-22</td>\n",
       "      <td>92.488444</td>\n",
       "      <td>68.545938</td>\n",
       "      <td>37158.0</td>\n",
       "      <td>7</td>\n",
       "      <td>1.883847</td>\n",
       "      <td>True</td>\n",
       "      <td>1.0</td>\n",
       "    </tr>\n",
       "    <tr>\n",
       "      <th>166444</th>\n",
       "      <td>100</td>\n",
       "      <td>2018-07-07</td>\n",
       "      <td>107.910839</td>\n",
       "      <td>81.734600</td>\n",
       "      <td>40050.0</td>\n",
       "      <td>9</td>\n",
       "      <td>2.247191</td>\n",
       "      <td>True</td>\n",
       "      <td>3.0</td>\n",
       "    </tr>\n",
       "    <tr>\n",
       "      <th>150025</th>\n",
       "      <td>91</td>\n",
       "      <td>2018-07-31</td>\n",
       "      <td>94.509832</td>\n",
       "      <td>73.806103</td>\n",
       "      <td>88106.0</td>\n",
       "      <td>16</td>\n",
       "      <td>1.815994</td>\n",
       "      <td>True</td>\n",
       "      <td>10.0</td>\n",
       "    </tr>\n",
       "    <tr>\n",
       "      <th>13408</th>\n",
       "      <td>8</td>\n",
       "      <td>2019-09-12</td>\n",
       "      <td>90.541952</td>\n",
       "      <td>63.289682</td>\n",
       "      <td>17094.0</td>\n",
       "      <td>2</td>\n",
       "      <td>1.170001</td>\n",
       "      <td>True</td>\n",
       "      <td>1.0</td>\n",
       "    </tr>\n",
       "    <tr>\n",
       "      <th>40813</th>\n",
       "      <td>24</td>\n",
       "      <td>2019-09-12</td>\n",
       "      <td>90.012786</td>\n",
       "      <td>64.567936</td>\n",
       "      <td>11060.0</td>\n",
       "      <td>1</td>\n",
       "      <td>0.904159</td>\n",
       "      <td>True</td>\n",
       "      <td>1.0</td>\n",
       "    </tr>\n",
       "    <tr>\n",
       "      <th>80270</th>\n",
       "      <td>49</td>\n",
       "      <td>2022-09-06</td>\n",
       "      <td>97.032674</td>\n",
       "      <td>73.630763</td>\n",
       "      <td>3490.0</td>\n",
       "      <td>0</td>\n",
       "      <td>0.000000</td>\n",
       "      <td>True</td>\n",
       "      <td>6.0</td>\n",
       "    </tr>\n",
       "    <tr>\n",
       "      <th>88685</th>\n",
       "      <td>56</td>\n",
       "      <td>2020-09-16</td>\n",
       "      <td>90.015163</td>\n",
       "      <td>63.569864</td>\n",
       "      <td>27668.0</td>\n",
       "      <td>4</td>\n",
       "      <td>1.445713</td>\n",
       "      <td>True</td>\n",
       "      <td>1.0</td>\n",
       "    </tr>\n",
       "    <tr>\n",
       "      <th>13751</th>\n",
       "      <td>8</td>\n",
       "      <td>2020-08-20</td>\n",
       "      <td>102.041317</td>\n",
       "      <td>76.237299</td>\n",
       "      <td>17094.0</td>\n",
       "      <td>2</td>\n",
       "      <td>1.170001</td>\n",
       "      <td>True</td>\n",
       "      <td>9.0</td>\n",
       "    </tr>\n",
       "    <tr>\n",
       "      <th>136534</th>\n",
       "      <td>83</td>\n",
       "      <td>2021-08-29</td>\n",
       "      <td>91.876089</td>\n",
       "      <td>67.207754</td>\n",
       "      <td>33073.0</td>\n",
       "      <td>6</td>\n",
       "      <td>1.814169</td>\n",
       "      <td>True</td>\n",
       "      <td>4.0</td>\n",
       "    </tr>\n",
       "    <tr>\n",
       "      <th>68932</th>\n",
       "      <td>42</td>\n",
       "      <td>2021-08-26</td>\n",
       "      <td>90.558583</td>\n",
       "      <td>66.693249</td>\n",
       "      <td>20599.0</td>\n",
       "      <td>5</td>\n",
       "      <td>2.427302</td>\n",
       "      <td>True</td>\n",
       "      <td>1.0</td>\n",
       "    </tr>\n",
       "  </tbody>\n",
       "</table>\n",
       "</div>"
      ],
      "text/plain": [
       "        District  date_time  heat_index_high  heat_index_low  Population  \\\n",
       "120784        74 2018-07-22        92.488444       68.545938     37158.0   \n",
       "166444       100 2018-07-07       107.910839       81.734600     40050.0   \n",
       "150025        91 2018-07-31        94.509832       73.806103     88106.0   \n",
       "13408          8 2019-09-12        90.541952       63.289682     17094.0   \n",
       "40813         24 2019-09-12        90.012786       64.567936     11060.0   \n",
       "80270         49 2022-09-06        97.032674       73.630763      3490.0   \n",
       "88685         56 2020-09-16        90.015163       63.569864     27668.0   \n",
       "13751          8 2020-08-20       102.041317       76.237299     17094.0   \n",
       "136534        83 2021-08-29        91.876089       67.207754     33073.0   \n",
       "68932         42 2021-08-26        90.558583       66.693249     20599.0   \n",
       "\n",
       "        calls  calls_per_10000  heat_day  days_of_heat  \n",
       "120784      7         1.883847      True           1.0  \n",
       "166444      9         2.247191      True           3.0  \n",
       "150025     16         1.815994      True          10.0  \n",
       "13408       2         1.170001      True           1.0  \n",
       "40813       1         0.904159      True           1.0  \n",
       "80270       0         0.000000      True           6.0  \n",
       "88685       4         1.445713      True           1.0  \n",
       "13751       2         1.170001      True           9.0  \n",
       "136534      6         1.814169      True           4.0  \n",
       "68932       5         2.427302      True           1.0  "
      ]
     },
     "execution_count": 27,
     "metadata": {},
     "output_type": "execute_result"
    }
   ],
   "source": [
    "streak_df = joined_df.join(streak_series, how='left')\n",
    "#Cross check random sample to ensure that join aligned appropriately\n",
    "#Any day of 1 or higher should have a high heat index over 90\n",
    "streak_df[streak_df['days_of_heat']>=1].sample(10) "
   ]
  },
  {
   "cell_type": "code",
   "execution_count": 28,
   "metadata": {},
   "outputs": [],
   "source": [
    "def grouping(day):\n",
    "    if day >= 2:\n",
    "        return 'Heat Event'\n",
    "    else:\n",
    "        return 'Not a Heat Event'\n",
    "    \n",
    "streak_df['Event'] = np.vectorize(grouping)(streak_df['days_of_heat'])"
   ]
  },
  {
   "cell_type": "code",
   "execution_count": 32,
   "metadata": {},
   "outputs": [
    {
     "data": {
      "text/plain": [
       "Text(0.5, 1.0, 'Overall Call Distribution (Fewer than 40 per 10,000)')"
      ]
     },
     "execution_count": 32,
     "metadata": {},
     "output_type": "execute_result"
    },
    {
     "data": {
      "image/png": "[encoded data removed]",
      "text/plain": [
       "<Figure size 576x1152 with 1 Axes>"
      ]
     },
     "metadata": {
      "needs_background": "light"
     },
     "output_type": "display_data"
    }
   ],
   "source": [
    "fig, ax = plt.subplots(figsize=(8, 16))\n",
    "sns.boxplot(data=streak_df[streak_df['calls_per_10000']<40], x='Event', y='calls_per_10000', ax=ax)\n",
    "\n",
    "plt.xlabel('Type of Day')\n",
    "plt.ylabel('Calls per 10,000 People')\n",
    "plt.title('Overall Call Distribution (Fewer than 40 per 10,000)')"
   ]
  },
  {
   "cell_type": "code",
   "execution_count": 33,
   "metadata": {},
   "outputs": [
    {
     "data": {
      "text/plain": [
       "Text(0.5, 1.0, 'Call Distribution by Heat Events: District 15')"
      ]
     },
     "execution_count": 33,
     "metadata": {},
     "output_type": "execute_result"
    },
    {
     "data": {
      "image/png": "[encoded data removed]",
      "text/plain": [
       "<Figure size 576x1152 with 1 Axes>"
      ]
     },
     "metadata": {
      "needs_background": "light"
     },
     "output_type": "display_data"
    }
   ],
   "source": [
    "fig, ax = plt.subplots(figsize=(8, 16))\n",
    "sns.boxplot(data=streak_df[streak_df['District']== 15], x='Event', y='calls_per_10000', ax=ax)\n",
    "\n",
    "plt.xlabel('Type of Day')\n",
    "plt.ylabel('Calls per 10,000 People')\n",
    "plt.title('Call Distribution by Heat Events: District 15')"
   ]
  },
  {
   "attachments": {},
   "cell_type": "markdown",
   "metadata": {},
   "source": [
    "There does seem to be at least a little bit of something to this, but identifying correlations across firestation districts may not work well. Districts are too different and the data is very noisy. We can map a ttest to each district though to see if there is a statistically significant correlation."
   ]
  },
  {
   "cell_type": "code",
   "execution_count": 34,
   "metadata": {},
   "outputs": [
    {
     "data": {
      "text/html": [
       "<div>\n",
       "<style scoped>\n",
       "    .dataframe tbody tr th:only-of-type {\n",
       "        vertical-align: middle;\n",
       "    }\n",
       "\n",
       "    .dataframe tbody tr th {\n",
       "        vertical-align: top;\n",
       "    }\n",
       "\n",
       "    .dataframe thead th {\n",
       "        text-align: right;\n",
       "    }\n",
       "</style>\n",
       "<table border=\"1\" class=\"dataframe\">\n",
       "  <thead>\n",
       "    <tr style=\"text-align: right;\">\n",
       "      <th></th>\n",
       "      <th>District</th>\n",
       "      <th>no_heat_mean</th>\n",
       "      <th>heat_mean</th>\n",
       "      <th>t_test</th>\n",
       "    </tr>\n",
       "  </thead>\n",
       "  <tbody>\n",
       "    <tr>\n",
       "      <th>0</th>\n",
       "      <td>1</td>\n",
       "      <td>7.240471</td>\n",
       "      <td>8.372093</td>\n",
       "      <td>0.013194</td>\n",
       "    </tr>\n",
       "    <tr>\n",
       "      <th>1</th>\n",
       "      <td>2</td>\n",
       "      <td>10.548767</td>\n",
       "      <td>12.232558</td>\n",
       "      <td>0.009155</td>\n",
       "    </tr>\n",
       "    <tr>\n",
       "      <th>2</th>\n",
       "      <td>3</td>\n",
       "      <td>11.748322</td>\n",
       "      <td>12.025641</td>\n",
       "      <td>0.315189</td>\n",
       "    </tr>\n",
       "    <tr>\n",
       "      <th>3</th>\n",
       "      <td>4</td>\n",
       "      <td>16.054220</td>\n",
       "      <td>17.210526</td>\n",
       "      <td>0.098621</td>\n",
       "    </tr>\n",
       "    <tr>\n",
       "      <th>4</th>\n",
       "      <td>5</td>\n",
       "      <td>5.536680</td>\n",
       "      <td>5.357143</td>\n",
       "      <td>0.610268</td>\n",
       "    </tr>\n",
       "  </tbody>\n",
       "</table>\n",
       "</div>"
      ],
      "text/plain": [
       "   District  no_heat_mean  heat_mean    t_test\n",
       "0         1      7.240471   8.372093  0.013194\n",
       "1         2     10.548767  12.232558  0.009155\n",
       "2         3     11.748322  12.025641  0.315189\n",
       "3         4     16.054220  17.210526  0.098621\n",
       "4         5      5.536680   5.357143  0.610268"
      ]
     },
     "execution_count": 34,
     "metadata": {},
     "output_type": "execute_result"
    }
   ],
   "source": [
    "#Create Dataframe of heat event and non heat event means with t-test\n",
    "p_value = []\n",
    "no_heat_mean = []\n",
    "heat_mean = []\n",
    "\n",
    "\n",
    "for district in districts:\n",
    "    test_df = streak_df[streak_df['District']==district]\n",
    "    a = test_df[test_df['Event']== 'Not a Heat Event']['calls']\n",
    "    b = test_df[test_df['Event']== 'Heat Event']['calls']\n",
    "\n",
    "    \n",
    "    p = stats.ttest_ind(a, b, equal_var=False, alternative='less')[1]\n",
    "\n",
    "    p_value.append(p)\n",
    "    no_heat_mean.append(a.mean())\n",
    "    heat_mean.append(b.mean())\n",
    "\n",
    "stat_df = pd.DataFrame({'District': districts,\n",
    "                        'no_heat_mean': no_heat_mean,\n",
    "                        'heat_mean': heat_mean,\n",
    "                        't_test': p_value\n",
    "                    }\n",
    ")\n",
    "stat_df.head()"
   ]
  },
  {
   "cell_type": "code",
   "execution_count": 37,
   "metadata": {},
   "outputs": [
    {
     "data": {
      "text/html": [
       "<div>\n",
       "<style scoped>\n",
       "    .dataframe tbody tr th:only-of-type {\n",
       "        vertical-align: middle;\n",
       "    }\n",
       "\n",
       "    .dataframe tbody tr th {\n",
       "        vertical-align: top;\n",
       "    }\n",
       "\n",
       "    .dataframe thead th {\n",
       "        text-align: right;\n",
       "    }\n",
       "</style>\n",
       "<table border=\"1\" class=\"dataframe\">\n",
       "  <thead>\n",
       "    <tr style=\"text-align: right;\">\n",
       "      <th></th>\n",
       "      <th>District</th>\n",
       "      <th>no_heat_mean</th>\n",
       "      <th>heat_mean</th>\n",
       "      <th>t_test</th>\n",
       "    </tr>\n",
       "  </thead>\n",
       "  <tbody>\n",
       "    <tr>\n",
       "      <th>count</th>\n",
       "      <td>102.000000</td>\n",
       "      <td>102.000000</td>\n",
       "      <td>102.000000</td>\n",
       "      <td>102.000000</td>\n",
       "    </tr>\n",
       "    <tr>\n",
       "      <th>mean</th>\n",
       "      <td>56.470588</td>\n",
       "      <td>8.991838</td>\n",
       "      <td>9.679304</td>\n",
       "      <td>0.212650</td>\n",
       "    </tr>\n",
       "    <tr>\n",
       "      <th>std</th>\n",
       "      <td>32.607691</td>\n",
       "      <td>6.592412</td>\n",
       "      <td>7.158930</td>\n",
       "      <td>0.258773</td>\n",
       "    </tr>\n",
       "    <tr>\n",
       "      <th>min</th>\n",
       "      <td>1.000000</td>\n",
       "      <td>0.297507</td>\n",
       "      <td>0.272727</td>\n",
       "      <td>0.000245</td>\n",
       "    </tr>\n",
       "    <tr>\n",
       "      <th>25%</th>\n",
       "      <td>27.250000</td>\n",
       "      <td>4.248887</td>\n",
       "      <td>5.067090</td>\n",
       "      <td>0.018449</td>\n",
       "    </tr>\n",
       "    <tr>\n",
       "      <th>50%</th>\n",
       "      <td>58.500000</td>\n",
       "      <td>7.771043</td>\n",
       "      <td>8.305094</td>\n",
       "      <td>0.098608</td>\n",
       "    </tr>\n",
       "    <tr>\n",
       "      <th>75%</th>\n",
       "      <td>84.750000</td>\n",
       "      <td>11.614106</td>\n",
       "      <td>12.443854</td>\n",
       "      <td>0.313804</td>\n",
       "    </tr>\n",
       "    <tr>\n",
       "      <th>max</th>\n",
       "      <td>112.000000</td>\n",
       "      <td>39.135271</td>\n",
       "      <td>41.657895</td>\n",
       "      <td>0.970652</td>\n",
       "    </tr>\n",
       "  </tbody>\n",
       "</table>\n",
       "</div>"
      ],
      "text/plain": [
       "         District  no_heat_mean   heat_mean      t_test\n",
       "count  102.000000    102.000000  102.000000  102.000000\n",
       "mean    56.470588      8.991838    9.679304    0.212650\n",
       "std     32.607691      6.592412    7.158930    0.258773\n",
       "min      1.000000      0.297507    0.272727    0.000245\n",
       "25%     27.250000      4.248887    5.067090    0.018449\n",
       "50%     58.500000      7.771043    8.305094    0.098608\n",
       "75%     84.750000     11.614106   12.443854    0.313804\n",
       "max    112.000000     39.135271   41.657895    0.970652"
      ]
     },
     "execution_count": 37,
     "metadata": {},
     "output_type": "execute_result"
    }
   ],
   "source": [
    "stat_df.describe()"
   ]
  },
  {
   "cell_type": "markdown",
   "metadata": {},
   "source": [
    "Let's take a look at the distribution of p-values to see roughly how many fire satation districts have a statistically significant difference between call volumes on heat and non-heat event days."
   ]
  },
  {
   "cell_type": "code",
   "execution_count": 48,
   "metadata": {},
   "outputs": [
    {
     "data": {
      "image/png": "[encoded data removed]",
      "text/plain": [
       "<Figure size 1080x720 with 1 Axes>"
      ]
     },
     "metadata": {
      "needs_background": "light"
     },
     "output_type": "display_data"
    }
   ],
   "source": [
    "fig, ax = plt.subplots(figsize=(15,10))\n",
    "sns.histplot(stat_df['t_test'], binwidth=.05, ax=ax)\n",
    "\n",
    "plt.xlabel('P Value')\n",
    "plt.ylabel('Number of Districts')\n",
    "plt.title('District P Value Distribution')\n",
    "\n",
    "plt.xticks(np.arange(0,1, step=.05))\n",
    "\n",
    "plt.show()"
   ]
  },
  {
   "cell_type": "markdown",
   "metadata": {},
   "source": [
    "Many fire districts have statistically fewer emergency calls on non-heat event days on average, which is telling for continuing our research and continuing to explore this trend."
   ]
  },
  {
   "cell_type": "code",
   "execution_count": 55,
   "metadata": {},
   "outputs": [
    {
     "data": {
      "text/html": [
       "<div>\n",
       "<style scoped>\n",
       "    .dataframe tbody tr th:only-of-type {\n",
       "        vertical-align: middle;\n",
       "    }\n",
       "\n",
       "    .dataframe tbody tr th {\n",
       "        vertical-align: top;\n",
       "    }\n",
       "\n",
       "    .dataframe thead th {\n",
       "        text-align: right;\n",
       "    }\n",
       "</style>\n",
       "<table border=\"1\" class=\"dataframe\">\n",
       "  <thead>\n",
       "    <tr style=\"text-align: right;\">\n",
       "      <th></th>\n",
       "      <th>District</th>\n",
       "      <th>date_time</th>\n",
       "      <th>heat_index_high</th>\n",
       "      <th>heat_index_low</th>\n",
       "      <th>Population</th>\n",
       "      <th>calls</th>\n",
       "      <th>calls_per_10000</th>\n",
       "      <th>heat_day</th>\n",
       "      <th>days_of_heat</th>\n",
       "      <th>Event</th>\n",
       "    </tr>\n",
       "  </thead>\n",
       "  <tbody>\n",
       "    <tr>\n",
       "      <th>0</th>\n",
       "      <td>1</td>\n",
       "      <td>2018-01-01</td>\n",
       "      <td>67.964050</td>\n",
       "      <td>44.975379</td>\n",
       "      <td>37620.0</td>\n",
       "      <td>9</td>\n",
       "      <td>2.392344</td>\n",
       "      <td>False</td>\n",
       "      <td>0.0</td>\n",
       "      <td>Not a Heat Event</td>\n",
       "    </tr>\n",
       "    <tr>\n",
       "      <th>1</th>\n",
       "      <td>1</td>\n",
       "      <td>2018-01-02</td>\n",
       "      <td>75.183769</td>\n",
       "      <td>51.330571</td>\n",
       "      <td>37620.0</td>\n",
       "      <td>7</td>\n",
       "      <td>1.860712</td>\n",
       "      <td>False</td>\n",
       "      <td>0.0</td>\n",
       "      <td>Not a Heat Event</td>\n",
       "    </tr>\n",
       "    <tr>\n",
       "      <th>2</th>\n",
       "      <td>1</td>\n",
       "      <td>2018-01-03</td>\n",
       "      <td>72.576000</td>\n",
       "      <td>51.703380</td>\n",
       "      <td>37620.0</td>\n",
       "      <td>5</td>\n",
       "      <td>1.329080</td>\n",
       "      <td>False</td>\n",
       "      <td>0.0</td>\n",
       "      <td>Not a Heat Event</td>\n",
       "    </tr>\n",
       "    <tr>\n",
       "      <th>3</th>\n",
       "      <td>1</td>\n",
       "      <td>2018-01-04</td>\n",
       "      <td>72.901380</td>\n",
       "      <td>51.761742</td>\n",
       "      <td>37620.0</td>\n",
       "      <td>1</td>\n",
       "      <td>0.265816</td>\n",
       "      <td>False</td>\n",
       "      <td>0.0</td>\n",
       "      <td>Not a Heat Event</td>\n",
       "    </tr>\n",
       "    <tr>\n",
       "      <th>4</th>\n",
       "      <td>1</td>\n",
       "      <td>2018-01-05</td>\n",
       "      <td>71.472715</td>\n",
       "      <td>53.012019</td>\n",
       "      <td>37620.0</td>\n",
       "      <td>6</td>\n",
       "      <td>1.594896</td>\n",
       "      <td>False</td>\n",
       "      <td>0.0</td>\n",
       "      <td>Not a Heat Event</td>\n",
       "    </tr>\n",
       "  </tbody>\n",
       "</table>\n",
       "</div>"
      ],
      "text/plain": [
       "   District  date_time  heat_index_high  heat_index_low  Population  calls  \\\n",
       "0         1 2018-01-01        67.964050       44.975379     37620.0      9   \n",
       "1         1 2018-01-02        75.183769       51.330571     37620.0      7   \n",
       "2         1 2018-01-03        72.576000       51.703380     37620.0      5   \n",
       "3         1 2018-01-04        72.901380       51.761742     37620.0      1   \n",
       "4         1 2018-01-05        71.472715       53.012019     37620.0      6   \n",
       "\n",
       "   calls_per_10000  heat_day  days_of_heat             Event  \n",
       "0         2.392344     False           0.0  Not a Heat Event  \n",
       "1         1.860712     False           0.0  Not a Heat Event  \n",
       "2         1.329080     False           0.0  Not a Heat Event  \n",
       "3         0.265816     False           0.0  Not a Heat Event  \n",
       "4         1.594896     False           0.0  Not a Heat Event  "
      ]
     },
     "execution_count": 55,
     "metadata": {},
     "output_type": "execute_result"
    }
   ],
   "source": [
    "streak_df.head()"
   ]
  },
  {
   "cell_type": "code",
   "execution_count": 56,
   "metadata": {},
   "outputs": [],
   "source": [
    "stat_df.to_csv('../data/Analysis/district_t_test.csv', index=False)\n",
    "streak_df.to_csv('../data/Analysis/90degreeheatday.csv', index=False)\n",
    "\n"
   ]
  },
  {
   "cell_type": "code",
   "execution_count": 2,
   "metadata": {},
   "outputs": [
    {
     "data": {
      "text/html": [
       "<div>\n",
       "<style scoped>\n",
       "    .dataframe tbody tr th:only-of-type {\n",
       "        vertical-align: middle;\n",
       "    }\n",
       "\n",
       "    .dataframe tbody tr th {\n",
       "        vertical-align: top;\n",
       "    }\n",
       "\n",
       "    .dataframe thead th {\n",
       "        text-align: right;\n",
       "    }\n",
       "</style>\n",
       "<table border=\"1\" class=\"dataframe\">\n",
       "  <thead>\n",
       "    <tr style=\"text-align: right;\">\n",
       "      <th></th>\n",
       "      <th>date_time</th>\n",
       "      <th>heat_index_high</th>\n",
       "      <th>Population</th>\n",
       "      <th>calls</th>\n",
       "      <th>heat_day</th>\n",
       "      <th>streak</th>\n",
       "      <th>Event</th>\n",
       "    </tr>\n",
       "  </thead>\n",
       "  <tbody>\n",
       "    <tr>\n",
       "      <th>0</th>\n",
       "      <td>2018-01-01</td>\n",
       "      <td>67.802541</td>\n",
       "      <td>3971896.0</td>\n",
       "      <td>1043</td>\n",
       "      <td>False</td>\n",
       "      <td>0.0</td>\n",
       "      <td>Not a Heat Event</td>\n",
       "    </tr>\n",
       "    <tr>\n",
       "      <th>1</th>\n",
       "      <td>2018-01-02</td>\n",
       "      <td>75.385213</td>\n",
       "      <td>3971896.0</td>\n",
       "      <td>947</td>\n",
       "      <td>False</td>\n",
       "      <td>0.0</td>\n",
       "      <td>Not a Heat Event</td>\n",
       "    </tr>\n",
       "    <tr>\n",
       "      <th>2</th>\n",
       "      <td>2018-01-03</td>\n",
       "      <td>72.733515</td>\n",
       "      <td>3971896.0</td>\n",
       "      <td>958</td>\n",
       "      <td>False</td>\n",
       "      <td>0.0</td>\n",
       "      <td>Not a Heat Event</td>\n",
       "    </tr>\n",
       "    <tr>\n",
       "      <th>3</th>\n",
       "      <td>2018-01-04</td>\n",
       "      <td>72.925009</td>\n",
       "      <td>3971896.0</td>\n",
       "      <td>927</td>\n",
       "      <td>False</td>\n",
       "      <td>0.0</td>\n",
       "      <td>Not a Heat Event</td>\n",
       "    </tr>\n",
       "    <tr>\n",
       "      <th>4</th>\n",
       "      <td>2018-01-05</td>\n",
       "      <td>71.398980</td>\n",
       "      <td>3971896.0</td>\n",
       "      <td>983</td>\n",
       "      <td>False</td>\n",
       "      <td>0.0</td>\n",
       "      <td>Not a Heat Event</td>\n",
       "    </tr>\n",
       "  </tbody>\n",
       "</table>\n",
       "</div>"
      ],
      "text/plain": [
       "    date_time  heat_index_high  Population  calls  heat_day  streak  \\\n",
       "0  2018-01-01        67.802541   3971896.0   1043     False     0.0   \n",
       "1  2018-01-02        75.385213   3971896.0    947     False     0.0   \n",
       "2  2018-01-03        72.733515   3971896.0    958     False     0.0   \n",
       "3  2018-01-04        72.925009   3971896.0    927     False     0.0   \n",
       "4  2018-01-05        71.398980   3971896.0    983     False     0.0   \n",
       "\n",
       "              Event  \n",
       "0  Not a Heat Event  \n",
       "1  Not a Heat Event  \n",
       "2  Not a Heat Event  \n",
       "3  Not a Heat Event  \n",
       "4  Not a Heat Event  "
      ]
     },
     "execution_count": 2,
     "metadata": {},
     "output_type": "execute_result"
    }
   ],
   "source": [
    "city_df=pd.read_csv('../data/Analysis/city_summary.csv')\n",
    "city_df.head()"
   ]
  },
  {
   "cell_type": "code",
   "execution_count": 5,
   "metadata": {},
   "outputs": [
    {
     "data": {
      "text/html": [
       "<div>\n",
       "<style scoped>\n",
       "    .dataframe tbody tr th:only-of-type {\n",
       "        vertical-align: middle;\n",
       "    }\n",
       "\n",
       "    .dataframe tbody tr th {\n",
       "        vertical-align: top;\n",
       "    }\n",
       "\n",
       "    .dataframe thead th {\n",
       "        text-align: right;\n",
       "    }\n",
       "</style>\n",
       "<table border=\"1\" class=\"dataframe\">\n",
       "  <thead>\n",
       "    <tr style=\"text-align: right;\">\n",
       "      <th>Event</th>\n",
       "      <th>Heat Event</th>\n",
       "      <th>Not a Heat Event</th>\n",
       "    </tr>\n",
       "  </thead>\n",
       "  <tbody>\n",
       "    <tr>\n",
       "      <th>count</th>\n",
       "      <td>47.000000</td>\n",
       "      <td>1779.000000</td>\n",
       "    </tr>\n",
       "    <tr>\n",
       "      <th>mean</th>\n",
       "      <td>974.808511</td>\n",
       "      <td>918.268128</td>\n",
       "    </tr>\n",
       "    <tr>\n",
       "      <th>std</th>\n",
       "      <td>75.861040</td>\n",
       "      <td>67.618758</td>\n",
       "    </tr>\n",
       "    <tr>\n",
       "      <th>min</th>\n",
       "      <td>860.000000</td>\n",
       "      <td>728.000000</td>\n",
       "    </tr>\n",
       "    <tr>\n",
       "      <th>25%</th>\n",
       "      <td>918.000000</td>\n",
       "      <td>872.000000</td>\n",
       "    </tr>\n",
       "    <tr>\n",
       "      <th>50%</th>\n",
       "      <td>950.000000</td>\n",
       "      <td>918.000000</td>\n",
       "    </tr>\n",
       "    <tr>\n",
       "      <th>75%</th>\n",
       "      <td>1031.000000</td>\n",
       "      <td>965.000000</td>\n",
       "    </tr>\n",
       "    <tr>\n",
       "      <th>max</th>\n",
       "      <td>1158.000000</td>\n",
       "      <td>1153.000000</td>\n",
       "    </tr>\n",
       "  </tbody>\n",
       "</table>\n",
       "</div>"
      ],
      "text/plain": [
       "Event   Heat Event  Not a Heat Event\n",
       "count    47.000000       1779.000000\n",
       "mean    974.808511        918.268128\n",
       "std      75.861040         67.618758\n",
       "min     860.000000        728.000000\n",
       "25%     918.000000        872.000000\n",
       "50%     950.000000        918.000000\n",
       "75%    1031.000000        965.000000\n",
       "max    1158.000000       1153.000000"
      ]
     },
     "execution_count": 5,
     "metadata": {},
     "output_type": "execute_result"
    }
   ],
   "source": [
    "city_df.groupby('Event').calls.describe().transpose()"
   ]
  }
 ],
 "metadata": {
  "kernelspec": {
   "display_name": "cemo",
   "language": "python",
   "name": "python3"
  },
  "language_info": {
   "codemirror_mode": {
    "name": "ipython",
    "version": 3
   },
   "file_extension": ".py",
   "mimetype": "text/x-python",
   "name": "python",
   "nbconvert_exporter": "python",
   "pygments_lexer": "ipython3",
   "version": "3.9.16"
  },
  "orig_nbformat": 4
 },
 "nbformat": 4,
 "nbformat_minor": 2
}
