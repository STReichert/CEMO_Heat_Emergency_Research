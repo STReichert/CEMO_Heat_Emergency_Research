{
 "cells": [
  {
   "cell_type": "code",
   "execution_count": 1,
   "metadata": {},
   "outputs": [],
   "source": [
    "import pandas as pd\n",
    "import geopandas as gpd\n",
    "import numpy as np\n",
    "import osgeo.gdal\n",
    "from rasterstats import zonal_stats\n",
    "import rioxarray as rxr\n",
    "import rasterio as rio\n",
    "from affine import Affine\n",
    "\n",
    "import matplotlib.pyplot as plt\n",
    "import contextily as ctx"
   ]
  },
  {
   "cell_type": "code",
   "execution_count": 2,
   "metadata": {},
   "outputs": [],
   "source": [
    "fire_path = 'data/Fire_Districts/Fire_Districts.shp'\n"
   ]
  },
  {
   "cell_type": "code",
   "execution_count": 3,
   "metadata": {},
   "outputs": [],
   "source": [
    "heat_gdf = gpd.read_file('data/Mesonet/daily_temp.gpkg', layer='temps')\n",
    "heat_gdf['date_time'] = pd.to_datetime(heat_gdf['date_time'])\n",
    "district_gdf = gpd.read_file(fire_path)"
   ]
  },
  {
   "attachments": {},
   "cell_type": "markdown",
   "metadata": {},
   "source": [
    "## Begin Looping Code"
   ]
  },
  {
   "cell_type": "code",
   "execution_count": 16,
   "metadata": {},
   "outputs": [],
   "source": [
    "def InterpolateTemp(temp_gdf:gpd.GeoDataFrame, district_shapes:gpd.GeoDataFrame, date:str, col:str):\n",
    "    \"\"\"\n",
    "    Takes in the the temperature dataframe, fire districts, date to slice by and column to interpolate\n",
    "    Returns geodataframe in shape of districts_shapes with interpolated mean data for date and col\n",
    "\n",
    "    temp_gdf --> Geodataframe of weatherstations with data\n",
    "    districts_shapes --> GeoDataFrame of districts to interpolate to\n",
    "    date --> date to slice temp_gdf by\n",
    "    col --> column to interpolate in temp_gdf\n",
    "    \"\"\"\n",
    "    bounds = district_shapes.total_bounds\n",
    "    temp_station_path = 'data/working/temp_data.shp'\n",
    "    temp_raster_path = 'data/working/temp_raster.tiff'\n",
    "    temp_gdf = temp_gdf[['date_time', col, 'geometry']]\n",
    "    temp_gdf.rename(columns={col:'z_col'}, inplace=True)\n",
    "    temp_gdf['date_time'] = temp_gdf['date_time'].astype(str) #avoids shapefile error with processing datetime types\n",
    "    temp_gdf[temp_gdf['date_time']==date].to_file('data/working/temp_data.shp') # slice data by date and create shapefile for interpolating\n",
    "\n",
    "    rasterDs = osgeo.gdal.Grid(\n",
    "        temp_raster_path,\n",
    "        temp_station_path,\n",
    "        format='GTiff',\n",
    "        zfield='z_col',\n",
    "        outputBounds=bounds,\n",
    "        algorithm='invdist',\n",
    "    )\n",
    "    \n",
    "    rasterDs = None\n",
    "    del rasterDs\n",
    "\n",
    "    ### For some reason GDAL creates a raster with unexpected affine transform that begins in lower left corner\n",
    "    ### we must create an affine transorm with a negative cell height and flip the array to read the data properly for zonal stats\n",
    "\n",
    "    af = Affine(0.002003195255464829, 0.0, -118.66818799560865,\n",
    "       0.0, -0.002475198135987511, 34.33730781636643)\n",
    "    \n",
    "    \n",
    "    with rio.open(temp_raster_path) as src:\n",
    "    # Read the raster data as an array\n",
    "        raster_array = src.read(1)\n",
    "        \n",
    "        # Flip the array vertically\n",
    "        flipped_array = np.flip(raster_array, axis=0)\n",
    "        \n",
    "        # Update the metadata of the raster\n",
    "        kwargs = src.meta.copy()\n",
    "        \n",
    "        # Write the flipped raster to a new file\n",
    "        with rio.open(temp_raster_path, 'w', **kwargs) as dst:\n",
    "            dst.write(flipped_array, 1)\n",
    "            dst.transform = af\n",
    "        \n",
    "    data = rio.open(temp_raster_path)\n",
    "    stats = pd.DataFrame(zonal_stats(district_shapes, data.read(1), affine=af, stats=['mean']))\n",
    "    stats_gdf = district_shapes.join(stats)\n",
    "    stats_gdf.rename(columns={'mean':col}, inplace=True)\n",
    "    stats_gdf['date_time'] = date\n",
    "\n",
    "    return stats_gdf\n",
    "\n"
   ]
  },
  {
   "cell_type": "code",
   "execution_count": 7,
   "metadata": {},
   "outputs": [
    {
     "data": {
      "text/html": [
       "<div>\n",
       "<style scoped>\n",
       "    .dataframe tbody tr th:only-of-type {\n",
       "        vertical-align: middle;\n",
       "    }\n",
       "\n",
       "    .dataframe tbody tr th {\n",
       "        vertical-align: top;\n",
       "    }\n",
       "\n",
       "    .dataframe thead th {\n",
       "        text-align: right;\n",
       "    }\n",
       "</style>\n",
       "<table border=\"1\" class=\"dataframe\">\n",
       "  <thead>\n",
       "    <tr style=\"text-align: right;\">\n",
       "      <th></th>\n",
       "      <th>date_time</th>\n",
       "      <th>stid</th>\n",
       "      <th>relative_humidity_high</th>\n",
       "      <th>air_temp_high</th>\n",
       "      <th>heat_index_high</th>\n",
       "      <th>relative_humidity_low</th>\n",
       "      <th>air_temp_low</th>\n",
       "      <th>heat_index_low</th>\n",
       "      <th>lon</th>\n",
       "      <th>lat</th>\n",
       "      <th>geometry</th>\n",
       "    </tr>\n",
       "  </thead>\n",
       "  <tbody>\n",
       "    <tr>\n",
       "      <th>0</th>\n",
       "      <td>2018-01-01</td>\n",
       "      <td>KBUR</td>\n",
       "      <td>100.00</td>\n",
       "      <td>73.94</td>\n",
       "      <td>72.12299</td>\n",
       "      <td>22.35</td>\n",
       "      <td>44.6</td>\n",
       "      <td>42.07209</td>\n",
       "      <td>-118.36538</td>\n",
       "      <td>34.19967</td>\n",
       "      <td>POINT (-118.36538 34.19967)</td>\n",
       "    </tr>\n",
       "    <tr>\n",
       "      <th>1</th>\n",
       "      <td>2018-01-02</td>\n",
       "      <td>KBUR</td>\n",
       "      <td>82.14</td>\n",
       "      <td>80.96</td>\n",
       "      <td>79.29248</td>\n",
       "      <td>12.73</td>\n",
       "      <td>51.8</td>\n",
       "      <td>49.59400</td>\n",
       "      <td>-118.36538</td>\n",
       "      <td>34.19967</td>\n",
       "      <td>POINT (-118.36538 34.19967)</td>\n",
       "    </tr>\n",
       "    <tr>\n",
       "      <th>2</th>\n",
       "      <td>2018-01-03</td>\n",
       "      <td>KBUR</td>\n",
       "      <td>52.30</td>\n",
       "      <td>75.20</td>\n",
       "      <td>74.11247</td>\n",
       "      <td>16.05</td>\n",
       "      <td>53.6</td>\n",
       "      <td>50.30359</td>\n",
       "      <td>-118.36538</td>\n",
       "      <td>34.19967</td>\n",
       "      <td>POINT (-118.36538 34.19967)</td>\n",
       "    </tr>\n",
       "    <tr>\n",
       "      <th>3</th>\n",
       "      <td>2018-01-04</td>\n",
       "      <td>KBUR</td>\n",
       "      <td>50.37</td>\n",
       "      <td>75.20</td>\n",
       "      <td>74.23091</td>\n",
       "      <td>18.57</td>\n",
       "      <td>51.8</td>\n",
       "      <td>49.03376</td>\n",
       "      <td>-118.36538</td>\n",
       "      <td>34.19967</td>\n",
       "      <td>POINT (-118.36538 34.19967)</td>\n",
       "    </tr>\n",
       "    <tr>\n",
       "      <th>4</th>\n",
       "      <td>2018-01-05</td>\n",
       "      <td>KBUR</td>\n",
       "      <td>93.65</td>\n",
       "      <td>73.40</td>\n",
       "      <td>73.11665</td>\n",
       "      <td>40.92</td>\n",
       "      <td>53.6</td>\n",
       "      <td>52.77579</td>\n",
       "      <td>-118.36538</td>\n",
       "      <td>34.19967</td>\n",
       "      <td>POINT (-118.36538 34.19967)</td>\n",
       "    </tr>\n",
       "  </tbody>\n",
       "</table>\n",
       "</div>"
      ],
      "text/plain": [
       "   date_time  stid  relative_humidity_high  air_temp_high  heat_index_high  \\\n",
       "0 2018-01-01  KBUR                  100.00          73.94         72.12299   \n",
       "1 2018-01-02  KBUR                   82.14          80.96         79.29248   \n",
       "2 2018-01-03  KBUR                   52.30          75.20         74.11247   \n",
       "3 2018-01-04  KBUR                   50.37          75.20         74.23091   \n",
       "4 2018-01-05  KBUR                   93.65          73.40         73.11665   \n",
       "\n",
       "   relative_humidity_low  air_temp_low  heat_index_low        lon       lat  \\\n",
       "0                  22.35          44.6        42.07209 -118.36538  34.19967   \n",
       "1                  12.73          51.8        49.59400 -118.36538  34.19967   \n",
       "2                  16.05          53.6        50.30359 -118.36538  34.19967   \n",
       "3                  18.57          51.8        49.03376 -118.36538  34.19967   \n",
       "4                  40.92          53.6        52.77579 -118.36538  34.19967   \n",
       "\n",
       "                      geometry  \n",
       "0  POINT (-118.36538 34.19967)  \n",
       "1  POINT (-118.36538 34.19967)  \n",
       "2  POINT (-118.36538 34.19967)  \n",
       "3  POINT (-118.36538 34.19967)  \n",
       "4  POINT (-118.36538 34.19967)  "
      ]
     },
     "execution_count": 7,
     "metadata": {},
     "output_type": "execute_result"
    }
   ],
   "source": [
    "heat_gdf.head()"
   ]
  },
  {
   "cell_type": "code",
   "execution_count": 19,
   "metadata": {},
   "outputs": [
    {
     "name": "stderr",
     "output_type": "stream",
     "text": [
      "<ipython-input-16-631b30276114>:15: SettingWithCopyWarning: \n",
      "A value is trying to be set on a copy of a slice from a DataFrame\n",
      "\n",
      "See the caveats in the documentation: https://pandas.pydata.org/pandas-docs/stable/user_guide/indexing.html#returning-a-view-versus-a-copy\n",
      "  temp_gdf.rename(columns={col:'z_col'}, inplace=True)\n",
      "/Users/seth/anaconda3/envs/cemo/lib/python3.9/site-packages/geopandas/geodataframe.py:1322: SettingWithCopyWarning: \n",
      "A value is trying to be set on a copy of a slice from a DataFrame.\n",
      "Try using .loc[row_indexer,col_indexer] = value instead\n",
      "\n",
      "See the caveats in the documentation: https://pandas.pydata.org/pandas-docs/stable/user_guide/indexing.html#returning-a-view-versus-a-copy\n",
      "  super(GeoDataFrame, self).__setitem__(key, value)\n",
      "/Users/seth/anaconda3/envs/cemo/lib/python3.9/site-packages/geopandas/io/file.py:299: FutureWarning: pandas.Int64Index is deprecated and will be removed from pandas in a future version. Use pandas.Index with the appropriate dtype instead.\n",
      "  pd.Int64Index,\n"
     ]
    },
    {
     "data": {
      "text/plain": [
       "<Axes: >"
      ]
     },
     "execution_count": 19,
     "metadata": {},
     "output_type": "execute_result"
    },
    {
     "data": {
      "image/png": "[encoded data removed]",
      "text/plain": [
       "<Figure size 432x288 with 2 Axes>"
      ]
     },
     "metadata": {
      "needs_background": "light"
     },
     "output_type": "display_data"
    }
   ],
   "source": [
    "InterpolateTemp(heat_gdf, district_gdf, '2018-01-02', 'heat_index_high').plot(column = 'heat_index_high', legend = True)"
   ]
  },
  {
   "cell_type": "code",
   "execution_count": null,
   "metadata": {},
   "outputs": [],
   "source": []
  }
 ],
 "metadata": {
  "kernelspec": {
   "display_name": "cemo",
   "language": "python",
   "name": "python3"
  },
  "language_info": {
   "codemirror_mode": {
    "name": "ipython",
    "version": 3
   },
   "file_extension": ".py",
   "mimetype": "text/x-python",
   "name": "python",
   "nbconvert_exporter": "python",
   "pygments_lexer": "ipython3",
   "version": "3.9.16"
  },
  "orig_nbformat": 4
 },
 "nbformat": 4,
 "nbformat_minor": 2
}
