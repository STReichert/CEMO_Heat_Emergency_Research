{
 "cells": [
  {
   "cell_type": "code",
   "execution_count": 1,
   "metadata": {},
   "outputs": [],
   "source": [
    "import pandas as pd\n",
    "import geopandas as gpd\n",
    "import numpy as np\n",
    "import osgeo.gdal\n",
    "from rasterstats import zonal_stats\n",
    "import rioxarray as rxr\n",
    "import rasterio as rio\n",
    "from affine import Affine\n",
    "\n",
    "import matplotlib.pyplot as plt\n",
    "import contextily as ctx\n",
    "import warnings\n",
    "warnings.filterwarnings(\"ignore\", message=\"pandas.Int64Index\")# needed to supress repeated future warning in loop https://github.com/GenericMappingTools/pygmt/issues/1946"
   ]
  },
  {
   "cell_type": "code",
   "execution_count": 2,
   "metadata": {},
   "outputs": [],
   "source": [
    "fire_path = 'data/Fire_Districts/Fire_Districts.shp'\n"
   ]
  },
  {
   "cell_type": "code",
   "execution_count": 48,
   "metadata": {},
   "outputs": [],
   "source": [
    "heat_gdf = gpd.read_file('data/Mesonet/daily_temp.gpkg', layer='temps')\n",
    "heat_gdf['date_time'] = pd.to_datetime(heat_gdf['date_time'])\n",
    "district_gdf = gpd.read_file(fire_path)\n",
    "district_gdf = district_gdf.dissolve(by='District').reset_index() #needed to avoid future merging errors because of split up fire districts"
   ]
  },
  {
   "attachments": {},
   "cell_type": "markdown",
   "metadata": {},
   "source": [
    "## Heat Interpolation"
   ]
  },
  {
   "cell_type": "code",
   "execution_count": 49,
   "metadata": {},
   "outputs": [],
   "source": [
    "def InterpolateTemp(temp_gdf:gpd.GeoDataFrame, district_shapes:gpd.GeoDataFrame, date:str, col:str):\n",
    "    \"\"\"\n",
    "    Takes in the the temperature dataframe, fire districts, date to slice by and column to interpolate\n",
    "    Returns geodataframe in shape of districts_shapes with interpolated mean data for date and col\n",
    "\n",
    "    temp_gdf --> Geodataframe of weatherstations with data\n",
    "    districts_shapes --> GeoDataFrame of districts to interpolate to\n",
    "    date --> date to slice temp_gdf by\n",
    "    col --> column to interpolate in temp_gdf\n",
    "    \"\"\"\n",
    "    bounds = district_shapes.total_bounds\n",
    "    temp_station_path = 'data/working/temp_data.shp'\n",
    "    temp_raster_path = 'data/working/temp_raster.tiff'\n",
    "    temp_gdf = temp_gdf[['date_time', col, 'geometry']]\n",
    "    temp_gdf = temp_gdf.rename(columns={col:'z_col'})\n",
    "    temp_gdf['date_time'] = temp_gdf['date_time'].astype(str) #avoids shapefile error with processing datetime types\n",
    "    temp_gdf[temp_gdf['date_time']==date].to_file('data/working/temp_data.shp') # slice data by date and create shapefile for interpolating\n",
    "\n",
    "    rasterDs = osgeo.gdal.Grid(\n",
    "        temp_raster_path,\n",
    "        temp_station_path,\n",
    "        format='GTiff',\n",
    "        zfield='z_col',\n",
    "        outputBounds=bounds,\n",
    "        algorithm='invdist',\n",
    "    )\n",
    "    \n",
    "    rasterDs = None\n",
    "    del rasterDs\n",
    "\n",
    "    ### For some reason GDAL creates a raster with unexpected affine transform that begins in lower left corner\n",
    "    ### we must create an affine transorm with a negative cell height and flip the array to read the data properly for zonal stats\n",
    "\n",
    "    af = Affine(0.002003195255464829, 0.0, -118.66818799560865,\n",
    "       0.0, -0.002475198135987511, 34.33730781636643)\n",
    "    \n",
    "    \n",
    "    with rio.open(temp_raster_path) as src:\n",
    "    # Read the raster data as an array\n",
    "        raster_array = src.read(1)\n",
    "        \n",
    "        # Flip the array vertically\n",
    "        flipped_array = np.flip(raster_array, axis=0)\n",
    "        \n",
    "        # Update the metadata of the raster\n",
    "        kwargs = src.meta.copy()\n",
    "        \n",
    "        # Write the flipped raster to a new file\n",
    "        with rio.open(temp_raster_path, 'w', **kwargs) as dst:\n",
    "            dst.write(flipped_array, 1)\n",
    "            dst.transform = af\n",
    "        \n",
    "    data = rio.open(temp_raster_path)\n",
    "    stats = pd.DataFrame(zonal_stats(district_shapes, data.read(1), affine=af, stats=['mean']))\n",
    "    stats_gdf = district_shapes.join(stats)\n",
    "    stats_gdf = stats_gdf.rename(columns={'mean':col})\n",
    "    stats_gdf['date_time'] = date\n",
    "\n",
    "    return stats_gdf\n",
    "\n"
   ]
  },
  {
   "cell_type": "code",
   "execution_count": 52,
   "metadata": {},
   "outputs": [
    {
     "data": {
      "text/plain": [
       "<Axes: >"
      ]
     },
     "execution_count": 52,
     "metadata": {},
     "output_type": "execute_result"
    },
    {
     "data": {
      "image/png": "[encoded data removed]",
      "text/plain": [
       "<Figure size 432x288 with 2 Axes>"
      ]
     },
     "metadata": {
      "needs_background": "light"
     },
     "output_type": "display_data"
    }
   ],
   "source": [
    "InterpolateTemp(heat_gdf, district_gdf, '2020-06-02', 'heat_index_high').plot(column = 'heat_index_high', legend = True) # test function on random date"
   ]
  },
  {
   "cell_type": "code",
   "execution_count": 53,
   "metadata": {},
   "outputs": [
    {
     "data": {
      "text/plain": [
       "1827"
      ]
     },
     "execution_count": 53,
     "metadata": {},
     "output_type": "execute_result"
    }
   ],
   "source": [
    "days = heat_gdf['date_time'].astype(str).unique() \n",
    "len(days)"
   ]
  },
  {
   "cell_type": "code",
   "execution_count": 54,
   "metadata": {},
   "outputs": [],
   "source": [
    "high_df_list = []\n",
    "low_df_list = []\n",
    "\n",
    "for day in days:\n",
    "    daily_high_gdf = InterpolateTemp(heat_gdf, district_gdf, day, 'heat_index_high')\n",
    "    high_df_list.append(daily_high_gdf)\n",
    "    daily_low_gdf = InterpolateTemp(heat_gdf, district_gdf, day, 'heat_index_low')\n",
    "    low_df_list.append(daily_low_gdf)\n",
    "\n",
    "high_gdf = pd.concat(high_df_list)\n",
    "low_gdf = pd.concat(low_df_list)"
   ]
  },
  {
   "cell_type": "code",
   "execution_count": 55,
   "metadata": {},
   "outputs": [],
   "source": [
    "complete_gdf = high_gdf.merge(low_gdf[['date_time', 'District', 'heat_index_low']], on=['date_time', 'District'])"
   ]
  },
  {
   "cell_type": "code",
   "execution_count": 56,
   "metadata": {},
   "outputs": [
    {
     "name": "stdout",
     "output_type": "stream",
     "text": [
      "Expected len: 186354 \n",
      " Observed len: 186354\n"
     ]
    }
   ],
   "source": [
    "print(f'Expected len: 186354 \\n Observed len: {len(complete_gdf)}') # check expected length to ensure propper merging"
   ]
  },
  {
   "cell_type": "code",
   "execution_count": 59,
   "metadata": {},
   "outputs": [
    {
     "data": {
      "text/html": [
       "<div>\n",
       "<style scoped>\n",
       "    .dataframe tbody tr th:only-of-type {\n",
       "        vertical-align: middle;\n",
       "    }\n",
       "\n",
       "    .dataframe tbody tr th {\n",
       "        vertical-align: top;\n",
       "    }\n",
       "\n",
       "    .dataframe thead th {\n",
       "        text-align: right;\n",
       "    }\n",
       "</style>\n",
       "<table border=\"1\" class=\"dataframe\">\n",
       "  <thead>\n",
       "    <tr style=\"text-align: right;\">\n",
       "      <th></th>\n",
       "      <th>District</th>\n",
       "      <th>geometry</th>\n",
       "      <th>ObjectID</th>\n",
       "      <th>TOOLTIP</th>\n",
       "      <th>Battalion</th>\n",
       "      <th>Division</th>\n",
       "      <th>Battalion_</th>\n",
       "      <th>District_N</th>\n",
       "      <th>heat_index_high</th>\n",
       "      <th>date_time</th>\n",
       "      <th>heat_index_low</th>\n",
       "    </tr>\n",
       "  </thead>\n",
       "  <tbody>\n",
       "    <tr>\n",
       "      <th>65868</th>\n",
       "      <td>77</td>\n",
       "      <td>POLYGON ((-118.32279 34.25095, -118.32220 34.2...</td>\n",
       "      <td>67</td>\n",
       "      <td>Fire Battalion: 12\\nFire Division: North Divis...</td>\n",
       "      <td>12</td>\n",
       "      <td>North Division</td>\n",
       "      <td>Battalion 12</td>\n",
       "      <td>District 77</td>\n",
       "      <td>81.502548</td>\n",
       "      <td>2019-10-08</td>\n",
       "      <td>58.140069</td>\n",
       "    </tr>\n",
       "    <tr>\n",
       "      <th>70162</th>\n",
       "      <td>87</td>\n",
       "      <td>POLYGON ((-118.51573 34.24309, -118.51564 34.2...</td>\n",
       "      <td>24</td>\n",
       "      <td>Fire Battalion: 15\\nFire Division: North Divis...</td>\n",
       "      <td>15</td>\n",
       "      <td>North Division</td>\n",
       "      <td>Battalion 15</td>\n",
       "      <td>District 87</td>\n",
       "      <td>80.662246</td>\n",
       "      <td>2019-11-19</td>\n",
       "      <td>53.456469</td>\n",
       "    </tr>\n",
       "    <tr>\n",
       "      <th>104212</th>\n",
       "      <td>7</td>\n",
       "      <td>POLYGON ((-118.41014 34.23314, -118.41790 34.2...</td>\n",
       "      <td>101</td>\n",
       "      <td>Fire Battalion: 12\\nFire Division: North Divis...</td>\n",
       "      <td>12</td>\n",
       "      <td>North Division</td>\n",
       "      <td>Battalion 12</td>\n",
       "      <td>District 7</td>\n",
       "      <td>84.775852</td>\n",
       "      <td>2020-10-18</td>\n",
       "      <td>62.698644</td>\n",
       "    </tr>\n",
       "    <tr>\n",
       "      <th>37321</th>\n",
       "      <td>9</td>\n",
       "      <td>POLYGON ((-118.24540 34.04892, -118.24474 34.0...</td>\n",
       "      <td>77</td>\n",
       "      <td>Fire Battalion: 1\\nFire Division: South Divisi...</td>\n",
       "      <td>1</td>\n",
       "      <td>South Division</td>\n",
       "      <td>Battalion 1</td>\n",
       "      <td>District 9</td>\n",
       "      <td>57.537186</td>\n",
       "      <td>2019-01-01</td>\n",
       "      <td>35.080807</td>\n",
       "    </tr>\n",
       "    <tr>\n",
       "      <th>181659</th>\n",
       "      <td>97</td>\n",
       "      <td>POLYGON ((-118.37241 34.13411, -118.37229 34.1...</td>\n",
       "      <td>59</td>\n",
       "      <td>Fire Battalion: 14\\nFire Division: North Divis...</td>\n",
       "      <td>14</td>\n",
       "      <td>North Division</td>\n",
       "      <td>Battalion 14</td>\n",
       "      <td>District 97</td>\n",
       "      <td>73.205192</td>\n",
       "      <td>2022-11-17</td>\n",
       "      <td>45.350525</td>\n",
       "    </tr>\n",
       "  </tbody>\n",
       "</table>\n",
       "</div>"
      ],
      "text/plain": [
       "       District                                           geometry  ObjectID  \\\n",
       "65868        77  POLYGON ((-118.32279 34.25095, -118.32220 34.2...        67   \n",
       "70162        87  POLYGON ((-118.51573 34.24309, -118.51564 34.2...        24   \n",
       "104212        7  POLYGON ((-118.41014 34.23314, -118.41790 34.2...       101   \n",
       "37321         9  POLYGON ((-118.24540 34.04892, -118.24474 34.0...        77   \n",
       "181659       97  POLYGON ((-118.37241 34.13411, -118.37229 34.1...        59   \n",
       "\n",
       "                                                  TOOLTIP  Battalion  \\\n",
       "65868   Fire Battalion: 12\\nFire Division: North Divis...         12   \n",
       "70162   Fire Battalion: 15\\nFire Division: North Divis...         15   \n",
       "104212  Fire Battalion: 12\\nFire Division: North Divis...         12   \n",
       "37321   Fire Battalion: 1\\nFire Division: South Divisi...          1   \n",
       "181659  Fire Battalion: 14\\nFire Division: North Divis...         14   \n",
       "\n",
       "              Division    Battalion_   District_N  heat_index_high  \\\n",
       "65868   North Division  Battalion 12  District 77        81.502548   \n",
       "70162   North Division  Battalion 15  District 87        80.662246   \n",
       "104212  North Division  Battalion 12   District 7        84.775852   \n",
       "37321   South Division   Battalion 1   District 9        57.537186   \n",
       "181659  North Division  Battalion 14  District 97        73.205192   \n",
       "\n",
       "         date_time  heat_index_low  \n",
       "65868   2019-10-08       58.140069  \n",
       "70162   2019-11-19       53.456469  \n",
       "104212  2020-10-18       62.698644  \n",
       "37321   2019-01-01       35.080807  \n",
       "181659  2022-11-17       45.350525  "
      ]
     },
     "execution_count": 59,
     "metadata": {},
     "output_type": "execute_result"
    }
   ],
   "source": [
    "complete_gdf.sample(5) "
   ]
  },
  {
   "cell_type": "code",
   "execution_count": 60,
   "metadata": {},
   "outputs": [],
   "source": [
    "complete_gdf.to_file('data/Final_Data/District_Heat.gpkg', driver='GPKG', layer='heat')"
   ]
  },
  {
   "cell_type": "code",
   "execution_count": 61,
   "metadata": {},
   "outputs": [],
   "source": [
    "complete_gdf.to_csv('data/Final_Data/District_Heat.csv')"
   ]
  }
 ],
 "metadata": {
  "kernelspec": {
   "display_name": "cemo",
   "language": "python",
   "name": "python3"
  },
  "language_info": {
   "codemirror_mode": {
    "name": "ipython",
    "version": 3
   },
   "file_extension": ".py",
   "mimetype": "text/x-python",
   "name": "python",
   "nbconvert_exporter": "python",
   "pygments_lexer": "ipython3",
   "version": "3.9.16"
  },
  "orig_nbformat": 4
 },
 "nbformat": 4,
 "nbformat_minor": 2
}
