{
 "cells": [
  {
   "cell_type": "code",
   "execution_count": 1,
   "metadata": {},
   "outputs": [],
   "source": [
    "import pandas as pd\n",
    "import geopandas as gpd\n",
    "import contextily as ctx"
   ]
  },
  {
   "cell_type": "code",
   "execution_count": 2,
   "metadata": {},
   "outputs": [
    {
     "data": {
      "text/html": [
       "<div>\n",
       "<style scoped>\n",
       "    .dataframe tbody tr th:only-of-type {\n",
       "        vertical-align: middle;\n",
       "    }\n",
       "\n",
       "    .dataframe tbody tr th {\n",
       "        vertical-align: top;\n",
       "    }\n",
       "\n",
       "    .dataframe thead th {\n",
       "        text-align: right;\n",
       "    }\n",
       "</style>\n",
       "<table border=\"1\" class=\"dataframe\">\n",
       "  <thead>\n",
       "    <tr style=\"text-align: right;\">\n",
       "      <th></th>\n",
       "      <th>date_time</th>\n",
       "      <th>stid</th>\n",
       "      <th>relative_humidity_high</th>\n",
       "      <th>air_temp_high</th>\n",
       "      <th>heat_index_high</th>\n",
       "      <th>relative_humidity_low</th>\n",
       "      <th>air_temp_low</th>\n",
       "      <th>heat_index_low</th>\n",
       "      <th>lon</th>\n",
       "      <th>lat</th>\n",
       "      <th>geometry</th>\n",
       "    </tr>\n",
       "  </thead>\n",
       "  <tbody>\n",
       "    <tr>\n",
       "      <th>0</th>\n",
       "      <td>2018-01-01T00:00:00</td>\n",
       "      <td>KBUR</td>\n",
       "      <td>100.00</td>\n",
       "      <td>73.94</td>\n",
       "      <td>72.12299</td>\n",
       "      <td>22.35</td>\n",
       "      <td>44.6</td>\n",
       "      <td>42.07209</td>\n",
       "      <td>-118.36538</td>\n",
       "      <td>34.19967</td>\n",
       "      <td>POINT (-118.36538 34.19967)</td>\n",
       "    </tr>\n",
       "    <tr>\n",
       "      <th>1</th>\n",
       "      <td>2018-01-02T00:00:00</td>\n",
       "      <td>KBUR</td>\n",
       "      <td>82.14</td>\n",
       "      <td>80.96</td>\n",
       "      <td>79.29248</td>\n",
       "      <td>12.73</td>\n",
       "      <td>51.8</td>\n",
       "      <td>49.59400</td>\n",
       "      <td>-118.36538</td>\n",
       "      <td>34.19967</td>\n",
       "      <td>POINT (-118.36538 34.19967)</td>\n",
       "    </tr>\n",
       "    <tr>\n",
       "      <th>2</th>\n",
       "      <td>2018-01-03T00:00:00</td>\n",
       "      <td>KBUR</td>\n",
       "      <td>52.30</td>\n",
       "      <td>75.20</td>\n",
       "      <td>74.11247</td>\n",
       "      <td>16.05</td>\n",
       "      <td>53.6</td>\n",
       "      <td>50.30359</td>\n",
       "      <td>-118.36538</td>\n",
       "      <td>34.19967</td>\n",
       "      <td>POINT (-118.36538 34.19967)</td>\n",
       "    </tr>\n",
       "    <tr>\n",
       "      <th>3</th>\n",
       "      <td>2018-01-04T00:00:00</td>\n",
       "      <td>KBUR</td>\n",
       "      <td>50.37</td>\n",
       "      <td>75.20</td>\n",
       "      <td>74.23091</td>\n",
       "      <td>18.57</td>\n",
       "      <td>51.8</td>\n",
       "      <td>49.03376</td>\n",
       "      <td>-118.36538</td>\n",
       "      <td>34.19967</td>\n",
       "      <td>POINT (-118.36538 34.19967)</td>\n",
       "    </tr>\n",
       "    <tr>\n",
       "      <th>4</th>\n",
       "      <td>2018-01-05T00:00:00</td>\n",
       "      <td>KBUR</td>\n",
       "      <td>93.65</td>\n",
       "      <td>73.40</td>\n",
       "      <td>73.11665</td>\n",
       "      <td>40.92</td>\n",
       "      <td>53.6</td>\n",
       "      <td>52.77579</td>\n",
       "      <td>-118.36538</td>\n",
       "      <td>34.19967</td>\n",
       "      <td>POINT (-118.36538 34.19967)</td>\n",
       "    </tr>\n",
       "  </tbody>\n",
       "</table>\n",
       "</div>"
      ],
      "text/plain": [
       "             date_time  stid  relative_humidity_high  air_temp_high  \\\n",
       "0  2018-01-01T00:00:00  KBUR                  100.00          73.94   \n",
       "1  2018-01-02T00:00:00  KBUR                   82.14          80.96   \n",
       "2  2018-01-03T00:00:00  KBUR                   52.30          75.20   \n",
       "3  2018-01-04T00:00:00  KBUR                   50.37          75.20   \n",
       "4  2018-01-05T00:00:00  KBUR                   93.65          73.40   \n",
       "\n",
       "   heat_index_high  relative_humidity_low  air_temp_low  heat_index_low  \\\n",
       "0         72.12299                  22.35          44.6        42.07209   \n",
       "1         79.29248                  12.73          51.8        49.59400   \n",
       "2         74.11247                  16.05          53.6        50.30359   \n",
       "3         74.23091                  18.57          51.8        49.03376   \n",
       "4         73.11665                  40.92          53.6        52.77579   \n",
       "\n",
       "         lon       lat                     geometry  \n",
       "0 -118.36538  34.19967  POINT (-118.36538 34.19967)  \n",
       "1 -118.36538  34.19967  POINT (-118.36538 34.19967)  \n",
       "2 -118.36538  34.19967  POINT (-118.36538 34.19967)  \n",
       "3 -118.36538  34.19967  POINT (-118.36538 34.19967)  \n",
       "4 -118.36538  34.19967  POINT (-118.36538 34.19967)  "
      ]
     },
     "execution_count": 2,
     "metadata": {},
     "output_type": "execute_result"
    }
   ],
   "source": [
    "station_gdf = gpd.read_file('data/Mesonet/daily_temp.gpkg')\n",
    "station_gdf.head()"
   ]
  },
  {
   "cell_type": "code",
   "execution_count": 10,
   "metadata": {},
   "outputs": [],
   "source": [
    "station_loc = station_gdf.groupby('stid').first().reset_index()[['stid', 'geometry', 'lat', 'lon']]"
   ]
  },
  {
   "cell_type": "code",
   "execution_count": 11,
   "metadata": {},
   "outputs": [],
   "source": [
    "stations = { # Selected by \n",
    "    'Downtown LA/USC' : 'KCQT',\n",
    "    'LAX': 'KLAX',\n",
    "    'Hawthorn': 'KHHR',\n",
    "    'Van Nuys': 'KVNY',\n",
    "    'Burbank': 'KBUR',\n",
    "    'Whiteman': 'KWHP',\n",
    "    'Santa Monica': 'KSMO',\n",
    "    'Torence': 'KTOA',\n",
    "    'Long Beach': 'KLGB',\n",
    "    'El Monte': 'KEMT'\n",
    "    #'Camarillo': 'KCMA', Potential station on the north west of the city (near malibu)\n",
    "    }"
   ]
  },
  {
   "cell_type": "code",
   "execution_count": 12,
   "metadata": {},
   "outputs": [],
   "source": [
    "station_dict = {v:k for k, v in stations.items()}"
   ]
  },
  {
   "cell_type": "code",
   "execution_count": 15,
   "metadata": {},
   "outputs": [],
   "source": [
    "station_loc['name'] = station_loc['stid'].map(station_dict)"
   ]
  },
  {
   "cell_type": "code",
   "execution_count": 18,
   "metadata": {},
   "outputs": [],
   "source": [
    "station_loc.to_file('data/Mesonet/stations.gpkg', driver='GPKG', index=False)"
   ]
  },
  {
   "cell_type": "code",
   "execution_count": null,
   "metadata": {},
   "outputs": [],
   "source": []
  }
 ],
 "metadata": {
  "kernelspec": {
   "display_name": "cemo",
   "language": "python",
   "name": "python3"
  },
  "language_info": {
   "codemirror_mode": {
    "name": "ipython",
    "version": 3
   },
   "file_extension": ".py",
   "mimetype": "text/x-python",
   "name": "python",
   "nbconvert_exporter": "python",
   "pygments_lexer": "ipython3",
   "version": "3.9.16"
  },
  "orig_nbformat": 4
 },
 "nbformat": 4,
 "nbformat_minor": 2
}
