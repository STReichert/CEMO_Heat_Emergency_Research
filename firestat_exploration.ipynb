{
 "cells": [
  {
   "cell_type": "code",
   "execution_count": 3,
   "metadata": {},
   "outputs": [],
   "source": [
    "import pandas as pd"
   ]
  },
  {
   "cell_type": "code",
   "execution_count": 4,
   "metadata": {},
   "outputs": [
    {
     "data": {
      "text/html": [
       "<div>\n",
       "<style scoped>\n",
       "    .dataframe tbody tr th:only-of-type {\n",
       "        vertical-align: middle;\n",
       "    }\n",
       "\n",
       "    .dataframe tbody tr th {\n",
       "        vertical-align: top;\n",
       "    }\n",
       "\n",
       "    .dataframe thead th {\n",
       "        text-align: right;\n",
       "    }\n",
       "</style>\n",
       "<table border=\"1\" class=\"dataframe\">\n",
       "  <thead>\n",
       "    <tr style=\"text-align: right;\">\n",
       "      <th></th>\n",
       "      <th>Incident Date</th>\n",
       "      <th>FSDistrict</th>\n",
       "      <th>IncidentCategory</th>\n",
       "      <th>IncidentCount</th>\n",
       "    </tr>\n",
       "  </thead>\n",
       "  <tbody>\n",
       "    <tr>\n",
       "      <th>0</th>\n",
       "      <td>2018-01-01</td>\n",
       "      <td>1</td>\n",
       "      <td>AUTOMOBILE</td>\n",
       "      <td>1</td>\n",
       "    </tr>\n",
       "    <tr>\n",
       "      <th>1</th>\n",
       "      <td>2018-01-01</td>\n",
       "      <td>1</td>\n",
       "      <td>BURNS</td>\n",
       "      <td>1</td>\n",
       "    </tr>\n",
       "    <tr>\n",
       "      <th>2</th>\n",
       "      <td>2018-01-01</td>\n",
       "      <td>1</td>\n",
       "      <td>CHEST DISCOMFORT/HEART PROBLEM</td>\n",
       "      <td>1</td>\n",
       "    </tr>\n",
       "    <tr>\n",
       "      <th>3</th>\n",
       "      <td>2018-01-01</td>\n",
       "      <td>1</td>\n",
       "      <td>DIABETIC</td>\n",
       "      <td>1</td>\n",
       "    </tr>\n",
       "    <tr>\n",
       "      <th>4</th>\n",
       "      <td>2018-01-01</td>\n",
       "      <td>1</td>\n",
       "      <td>FALL</td>\n",
       "      <td>2</td>\n",
       "    </tr>\n",
       "  </tbody>\n",
       "</table>\n",
       "</div>"
      ],
      "text/plain": [
       "  Incident Date  FSDistrict                IncidentCategory  IncidentCount\n",
       "0    2018-01-01           1                      AUTOMOBILE              1\n",
       "1    2018-01-01           1                           BURNS              1\n",
       "2    2018-01-01           1  CHEST DISCOMFORT/HEART PROBLEM              1\n",
       "3    2018-01-01           1                        DIABETIC              1\n",
       "4    2018-01-01           1                            FALL              2"
      ]
     },
     "execution_count": 4,
     "metadata": {},
     "output_type": "execute_result"
    }
   ],
   "source": [
    "df = pd.read_csv('data/FireStatLA/UCLA Heat Days - Daily Incident Summary.csv', parse_dates=['Incident Date'])\n",
    "\n",
    "df.head()"
   ]
  },
  {
   "cell_type": "code",
   "execution_count": 5,
   "metadata": {},
   "outputs": [
    {
     "data": {
      "text/html": [
       "<div>\n",
       "<style scoped>\n",
       "    .dataframe tbody tr th:only-of-type {\n",
       "        vertical-align: middle;\n",
       "    }\n",
       "\n",
       "    .dataframe tbody tr th {\n",
       "        vertical-align: top;\n",
       "    }\n",
       "\n",
       "    .dataframe thead th {\n",
       "        text-align: right;\n",
       "    }\n",
       "</style>\n",
       "<table border=\"1\" class=\"dataframe\">\n",
       "  <thead>\n",
       "    <tr style=\"text-align: right;\">\n",
       "      <th></th>\n",
       "      <th>Incident Date</th>\n",
       "      <th>FSDistrict</th>\n",
       "      <th>IncidentCategory</th>\n",
       "      <th>IncidentCount</th>\n",
       "    </tr>\n",
       "  </thead>\n",
       "  <tbody>\n",
       "    <tr>\n",
       "      <th>1475661</th>\n",
       "      <td>2022-12-31</td>\n",
       "      <td>109</td>\n",
       "      <td>TRAFFIC</td>\n",
       "      <td>1</td>\n",
       "    </tr>\n",
       "    <tr>\n",
       "      <th>1475662</th>\n",
       "      <td>2022-12-31</td>\n",
       "      <td>112</td>\n",
       "      <td>ASSAULT</td>\n",
       "      <td>1</td>\n",
       "    </tr>\n",
       "    <tr>\n",
       "      <th>1475663</th>\n",
       "      <td>2022-12-31</td>\n",
       "      <td>112</td>\n",
       "      <td>CHEST DISCOMFORT/HEART PROBLEM</td>\n",
       "      <td>1</td>\n",
       "    </tr>\n",
       "    <tr>\n",
       "      <th>1475664</th>\n",
       "      <td>2022-12-31</td>\n",
       "      <td>112</td>\n",
       "      <td>FALL</td>\n",
       "      <td>3</td>\n",
       "    </tr>\n",
       "    <tr>\n",
       "      <th>1475665</th>\n",
       "      <td>2022-12-31</td>\n",
       "      <td>112</td>\n",
       "      <td>O.D./POISONING</td>\n",
       "      <td>1</td>\n",
       "    </tr>\n",
       "  </tbody>\n",
       "</table>\n",
       "</div>"
      ],
      "text/plain": [
       "        Incident Date  FSDistrict                IncidentCategory  \\\n",
       "1475661    2022-12-31         109                         TRAFFIC   \n",
       "1475662    2022-12-31         112                         ASSAULT   \n",
       "1475663    2022-12-31         112  CHEST DISCOMFORT/HEART PROBLEM   \n",
       "1475664    2022-12-31         112                            FALL   \n",
       "1475665    2022-12-31         112                  O.D./POISONING   \n",
       "\n",
       "         IncidentCount  \n",
       "1475661              1  \n",
       "1475662              1  \n",
       "1475663              1  \n",
       "1475664              3  \n",
       "1475665              1  "
      ]
     },
     "execution_count": 5,
     "metadata": {},
     "output_type": "execute_result"
    }
   ],
   "source": [
    "df.tail()"
   ]
  },
  {
   "cell_type": "code",
   "execution_count": 6,
   "metadata": {},
   "outputs": [
    {
     "name": "stdout",
     "output_type": "stream",
     "text": [
      "<class 'pandas.core.frame.DataFrame'>\n",
      "RangeIndex: 1475666 entries, 0 to 1475665\n",
      "Data columns (total 4 columns):\n",
      " #   Column            Non-Null Count    Dtype         \n",
      "---  ------            --------------    -----         \n",
      " 0   Incident Date     1475666 non-null  datetime64[ns]\n",
      " 1   FSDistrict        1475666 non-null  int64         \n",
      " 2   IncidentCategory  1474711 non-null  object        \n",
      " 3   IncidentCount     1475666 non-null  int64         \n",
      "dtypes: datetime64[ns](1), int64(2), object(1)\n",
      "memory usage: 45.0+ MB\n"
     ]
    }
   ],
   "source": [
    "df.info()"
   ]
  },
  {
   "cell_type": "code",
   "execution_count": 7,
   "metadata": {},
   "outputs": [
    {
     "data": {
      "text/plain": [
       "array(['AUTOMOBILE', 'BURNS', 'CHEST DISCOMFORT/HEART PROBLEM',\n",
       "       'DIABETIC', 'FALL', 'INTERFACILITY TRANSFER', 'O.D./POISONING',\n",
       "       'RUBBISH', 'TRAFFIC', 'TREE', 'UNCONSCIOUS/FAINTING',\n",
       "       'UNKNOWN PROBLEM', 'PEDIATRICS', 'SICK', 'STRUCTURE',\n",
       "       'WATER-RELATED', 'ABDOMINAL', 'ASSAULT', 'AUTOMATIC ALARM',\n",
       "       'CHEMICAL', 'SEIZURE', 'STABBING', 'STROKE', 'TOXIC',\n",
       "       'PSYCH/SA/EMOTIONAL', 'BREATHING DIFFICULTY', 'INJURY', 'ELEVATOR',\n",
       "       'BLEEDING (NON-TRAUMATIC)', 'SMOKE DETECTOR', 'GRASS',\n",
       "       'ALLERGY/ENVENOMATION', 'CARDIAC/RESP. ARREST', 'CHOKING',\n",
       "       'ANIMAL BITE', 'LOCKOUT', 'ELECTRICAL', 'BELLS RINGING',\n",
       "       'SHOOTING', 'OB/GYN', 'SMOKE', 'STRUCTURE-AA', 'VEHICULAR', 'POLE',\n",
       "       'HEADACHE', 'OVEN', 'BRUSH', 'H/C EXPOSURE', 'WATER FLOW',\n",
       "       'BACK PAIN', 'HELP', 'TRANSFORMER', 'JUMPER', 'ELECTROCUTION',\n",
       "       'AIRCRAFT', 'TOXIC EXPOSURE', 'INFECTIOUS DISEASE', 'CLIFF/HIKER',\n",
       "       'DEBRIS', 'BOAT', 'BURN', 'BRUSHAA', 'TAR', 'METRO EL', 'ASST-E',\n",
       "       'CONFINED SPACE', nan, 'STANDBY', 'BUS', 'MAILBOX', 'EXPLOSION',\n",
       "       'DROWNING/WATER INJURY', 'INVEST-E', 'RAILCAR', 'RIVER',\n",
       "       'METRO GL', 'ASST-NE', 'GENERAL', 'HAZARDOUS MATERIAL', 'METRO RL',\n",
       "       'P', 'TANKER', 'STRUCTURAL', 'METRO BL', 'BIOLOGICAL',\n",
       "       'EARTHQUAKE', 'TECHNICAL', 'TRAIN', 'METRO GR', 'TRENCH', 'BOMB',\n",
       "       'METRO PL', 'INVEST-NE', 'TUNNEL ', 'LUMBER', 'METRO OR'],\n",
       "      dtype=object)"
      ]
     },
     "execution_count": 7,
     "metadata": {},
     "output_type": "execute_result"
    }
   ],
   "source": [
    "df.IncidentCategory.unique()"
   ]
  },
  {
   "cell_type": "code",
   "execution_count": 8,
   "metadata": {},
   "outputs": [
    {
     "data": {
      "text/html": [
       "<div>\n",
       "<style scoped>\n",
       "    .dataframe tbody tr th:only-of-type {\n",
       "        vertical-align: middle;\n",
       "    }\n",
       "\n",
       "    .dataframe tbody tr th {\n",
       "        vertical-align: top;\n",
       "    }\n",
       "\n",
       "    .dataframe thead th {\n",
       "        text-align: right;\n",
       "    }\n",
       "</style>\n",
       "<table border=\"1\" class=\"dataframe\">\n",
       "  <thead>\n",
       "    <tr style=\"text-align: right;\">\n",
       "      <th></th>\n",
       "      <th>severity</th>\n",
       "      <th>EMS</th>\n",
       "    </tr>\n",
       "  </thead>\n",
       "  <tbody>\n",
       "    <tr>\n",
       "      <th>0</th>\n",
       "      <td>AHR</td>\n",
       "      <td>ABDOMINAL</td>\n",
       "    </tr>\n",
       "    <tr>\n",
       "      <th>1</th>\n",
       "      <td>AHR</td>\n",
       "      <td>ALLERGY/ENVENOMATION</td>\n",
       "    </tr>\n",
       "    <tr>\n",
       "      <th>2</th>\n",
       "      <td>AHR</td>\n",
       "      <td>ANIMAL BITE</td>\n",
       "    </tr>\n",
       "    <tr>\n",
       "      <th>3</th>\n",
       "      <td>AHR</td>\n",
       "      <td>ASSAULT</td>\n",
       "    </tr>\n",
       "    <tr>\n",
       "      <th>4</th>\n",
       "      <td>AHR</td>\n",
       "      <td>BLEEDING(NON-TRAUMATIC)</td>\n",
       "    </tr>\n",
       "  </tbody>\n",
       "</table>\n",
       "</div>"
      ],
      "text/plain": [
       "  severity                      EMS\n",
       "0      AHR                ABDOMINAL\n",
       "1      AHR     ALLERGY/ENVENOMATION\n",
       "2      AHR              ANIMAL BITE\n",
       "3      AHR                  ASSAULT\n",
       "4      AHR  BLEEDING(NON-TRAUMATIC)"
      ]
     },
     "execution_count": 8,
     "metadata": {},
     "output_type": "execute_result"
    }
   ],
   "source": [
    "ems_codes = pd.read_csv('data/FireStatLA/EMS Codes.csv')\n",
    "ems_codes = ems_codes.melt() # creates 'long' dataframe of all ems values\n",
    "ems_codes.dropna(inplace=True) #get rid of extra na values\n",
    "ems_codes.rename(columns={'value': 'EMS', 'variable': 'severity'}, inplace=True) # renames columns to more intuitive names\n",
    "\n",
    "ems_codes.head()"
   ]
  },
  {
   "cell_type": "code",
   "execution_count": 9,
   "metadata": {},
   "outputs": [
    {
     "data": {
      "text/html": [
       "<div>\n",
       "<style scoped>\n",
       "    .dataframe tbody tr th:only-of-type {\n",
       "        vertical-align: middle;\n",
       "    }\n",
       "\n",
       "    .dataframe tbody tr th {\n",
       "        vertical-align: top;\n",
       "    }\n",
       "\n",
       "    .dataframe thead th {\n",
       "        text-align: right;\n",
       "    }\n",
       "</style>\n",
       "<table border=\"1\" class=\"dataframe\">\n",
       "  <thead>\n",
       "    <tr style=\"text-align: right;\">\n",
       "      <th></th>\n",
       "      <th>Incident Date</th>\n",
       "      <th>FSDistrict</th>\n",
       "      <th>IncidentCategory</th>\n",
       "      <th>IncidentCount</th>\n",
       "    </tr>\n",
       "  </thead>\n",
       "  <tbody>\n",
       "    <tr>\n",
       "      <th>1</th>\n",
       "      <td>2018-01-01</td>\n",
       "      <td>1</td>\n",
       "      <td>BURNS</td>\n",
       "      <td>1</td>\n",
       "    </tr>\n",
       "    <tr>\n",
       "      <th>2</th>\n",
       "      <td>2018-01-01</td>\n",
       "      <td>1</td>\n",
       "      <td>CHEST DISCOMFORT/HEART PROBLEM</td>\n",
       "      <td>1</td>\n",
       "    </tr>\n",
       "    <tr>\n",
       "      <th>3</th>\n",
       "      <td>2018-01-01</td>\n",
       "      <td>1</td>\n",
       "      <td>DIABETIC</td>\n",
       "      <td>1</td>\n",
       "    </tr>\n",
       "    <tr>\n",
       "      <th>4</th>\n",
       "      <td>2018-01-01</td>\n",
       "      <td>1</td>\n",
       "      <td>FALL</td>\n",
       "      <td>2</td>\n",
       "    </tr>\n",
       "    <tr>\n",
       "      <th>5</th>\n",
       "      <td>2018-01-01</td>\n",
       "      <td>1</td>\n",
       "      <td>INTERFACILITY TRANSFER</td>\n",
       "      <td>1</td>\n",
       "    </tr>\n",
       "  </tbody>\n",
       "</table>\n",
       "</div>"
      ],
      "text/plain": [
       "  Incident Date  FSDistrict                IncidentCategory  IncidentCount\n",
       "1    2018-01-01           1                           BURNS              1\n",
       "2    2018-01-01           1  CHEST DISCOMFORT/HEART PROBLEM              1\n",
       "3    2018-01-01           1                        DIABETIC              1\n",
       "4    2018-01-01           1                            FALL              2\n",
       "5    2018-01-01           1          INTERFACILITY TRANSFER              1"
      ]
     },
     "execution_count": 9,
     "metadata": {},
     "output_type": "execute_result"
    }
   ],
   "source": [
    "ems_df = df[df['IncidentCategory'].isin(ems_codes['EMS'])]\n",
    "ems_df.head()"
   ]
  },
  {
   "cell_type": "markdown",
   "metadata": {},
   "source": [
    "I think the next step here will be to group by date and FS district with the aggregation being a sum of Incident Count, since it seems like that is the volume for the day in that district."
   ]
  },
  {
   "cell_type": "code",
   "execution_count": 10,
   "metadata": {},
   "outputs": [
    {
     "name": "stdout",
     "output_type": "stream",
     "text": [
      "The number of EMS records is: 1095001\n",
      "The number of individual EMS calls is: 1679765\n"
     ]
    }
   ],
   "source": [
    "print('The number of EMS records is: {}'.format(len(ems_df)))\n",
    "print('The number of individual EMS calls is: {}'.format(ems_df['IncidentCount'].sum()))"
   ]
  },
  {
   "cell_type": "code",
   "execution_count": 11,
   "metadata": {},
   "outputs": [],
   "source": [
    "# i deleted the column FSDistrict in the beggining just to not be displayed in the result , then i applied the groupby function\n",
    "#on the columns date and incident category to show for each day which accident category occured\n",
    "\n",
    "res = df.drop('FSDistrict', axis=1).groupby([\"Incident Date\",'IncidentCategory']).sum()"
   ]
  },
  {
   "cell_type": "code",
   "execution_count": 28,
   "metadata": {},
   "outputs": [],
   "source": [
    "ems_df.to_csv('data/FireStatLA/ems_with_categories.csv', index=False)"
   ]
  },
  {
   "cell_type": "code",
   "execution_count": 31,
   "metadata": {},
   "outputs": [
    {
     "name": "stderr",
     "output_type": "stream",
     "text": [
      "<ipython-input-31-8f77c45d80d5>:1: FutureWarning: The default value of numeric_only in DataFrameGroupBy.sum is deprecated. In a future version, numeric_only will default to False. Either specify numeric_only or select only columns which should be valid for the function.\n",
      "  ems_counts_df = ems_df.groupby(['FSDistrict', 'Incident Date']).sum().reset_index()\n"
     ]
    }
   ],
   "source": [
    "ems_counts_df = ems_df.groupby(['FSDistrict', 'Incident Date']).sum().reset_index()"
   ]
  },
  {
   "cell_type": "code",
   "execution_count": 33,
   "metadata": {},
   "outputs": [
    {
     "data": {
      "text/plain": [
       "count    178052.000000\n",
       "mean          9.434126\n",
       "std           7.254822\n",
       "min           1.000000\n",
       "25%           4.000000\n",
       "50%           8.000000\n",
       "75%          12.000000\n",
       "max          66.000000\n",
       "Name: IncidentCount, dtype: float64"
      ]
     },
     "execution_count": 33,
     "metadata": {},
     "output_type": "execute_result"
    }
   ],
   "source": [
    "ems_counts_df['IncidentCount'].describe()"
   ]
  },
  {
   "attachments": {},
   "cell_type": "markdown",
   "metadata": {},
   "source": [
    "This is very interesting, the max value feels like it comes out of nowhere, and at least without in relation to the whole system the standard deviation is very wide. That said we haven't accounted for the deviation within a given fire district within a given day. What is going on with that max value though? Let's take a look."
   ]
  },
  {
   "cell_type": "code",
   "execution_count": 34,
   "metadata": {},
   "outputs": [
    {
     "data": {
      "text/html": [
       "<div>\n",
       "<style scoped>\n",
       "    .dataframe tbody tr th:only-of-type {\n",
       "        vertical-align: middle;\n",
       "    }\n",
       "\n",
       "    .dataframe tbody tr th {\n",
       "        vertical-align: top;\n",
       "    }\n",
       "\n",
       "    .dataframe thead th {\n",
       "        text-align: right;\n",
       "    }\n",
       "</style>\n",
       "<table border=\"1\" class=\"dataframe\">\n",
       "  <thead>\n",
       "    <tr style=\"text-align: right;\">\n",
       "      <th></th>\n",
       "      <th>FSDistrict</th>\n",
       "      <th>Incident Date</th>\n",
       "      <th>IncidentCount</th>\n",
       "    </tr>\n",
       "  </thead>\n",
       "  <tbody>\n",
       "    <tr>\n",
       "      <th>14859</th>\n",
       "      <td>9</td>\n",
       "      <td>2019-06-04</td>\n",
       "      <td>66</td>\n",
       "    </tr>\n",
       "    <tr>\n",
       "      <th>14920</th>\n",
       "      <td>9</td>\n",
       "      <td>2019-08-04</td>\n",
       "      <td>66</td>\n",
       "    </tr>\n",
       "  </tbody>\n",
       "</table>\n",
       "</div>"
      ],
      "text/plain": [
       "       FSDistrict Incident Date  IncidentCount\n",
       "14859           9    2019-06-04             66\n",
       "14920           9    2019-08-04             66"
      ]
     },
     "execution_count": 34,
     "metadata": {},
     "output_type": "execute_result"
    }
   ],
   "source": [
    "ems_counts_df.query('IncidentCount == 66')"
   ]
  },
  {
   "attachments": {},
   "cell_type": "markdown",
   "metadata": {},
   "source": [
    "Hmmm, so there are two days, in the same district that had 66 incidents. Let's go back to the disagregated dataframe to see what types of incidents these are."
   ]
  },
  {
   "cell_type": "code",
   "execution_count": 44,
   "metadata": {},
   "outputs": [
    {
     "data": {
      "text/html": [
       "<div>\n",
       "<style scoped>\n",
       "    .dataframe tbody tr th:only-of-type {\n",
       "        vertical-align: middle;\n",
       "    }\n",
       "\n",
       "    .dataframe tbody tr th {\n",
       "        vertical-align: top;\n",
       "    }\n",
       "\n",
       "    .dataframe thead th {\n",
       "        text-align: right;\n",
       "    }\n",
       "</style>\n",
       "<table border=\"1\" class=\"dataframe\">\n",
       "  <thead>\n",
       "    <tr style=\"text-align: right;\">\n",
       "      <th></th>\n",
       "      <th>Incident Date</th>\n",
       "      <th>FSDistrict</th>\n",
       "      <th>IncidentCategory</th>\n",
       "      <th>IncidentCount</th>\n",
       "    </tr>\n",
       "  </thead>\n",
       "  <tbody>\n",
       "    <tr>\n",
       "      <th>863500</th>\n",
       "      <td>2019-08-04</td>\n",
       "      <td>9</td>\n",
       "      <td>ABDOMINAL</td>\n",
       "      <td>3</td>\n",
       "    </tr>\n",
       "    <tr>\n",
       "      <th>863501</th>\n",
       "      <td>2019-08-04</td>\n",
       "      <td>9</td>\n",
       "      <td>ALLERGY/ENVENOMATION</td>\n",
       "      <td>2</td>\n",
       "    </tr>\n",
       "    <tr>\n",
       "      <th>863502</th>\n",
       "      <td>2019-08-04</td>\n",
       "      <td>9</td>\n",
       "      <td>ASSAULT</td>\n",
       "      <td>7</td>\n",
       "    </tr>\n",
       "    <tr>\n",
       "      <th>863505</th>\n",
       "      <td>2019-08-04</td>\n",
       "      <td>9</td>\n",
       "      <td>BREATHING DIFFICULTY</td>\n",
       "      <td>2</td>\n",
       "    </tr>\n",
       "    <tr>\n",
       "      <th>863506</th>\n",
       "      <td>2019-08-04</td>\n",
       "      <td>9</td>\n",
       "      <td>CHEST DISCOMFORT/HEART PROBLEM</td>\n",
       "      <td>5</td>\n",
       "    </tr>\n",
       "    <tr>\n",
       "      <th>863507</th>\n",
       "      <td>2019-08-04</td>\n",
       "      <td>9</td>\n",
       "      <td>DIABETIC</td>\n",
       "      <td>2</td>\n",
       "    </tr>\n",
       "    <tr>\n",
       "      <th>863508</th>\n",
       "      <td>2019-08-04</td>\n",
       "      <td>9</td>\n",
       "      <td>FALL</td>\n",
       "      <td>1</td>\n",
       "    </tr>\n",
       "    <tr>\n",
       "      <th>863509</th>\n",
       "      <td>2019-08-04</td>\n",
       "      <td>9</td>\n",
       "      <td>H/C EXPOSURE</td>\n",
       "      <td>1</td>\n",
       "    </tr>\n",
       "    <tr>\n",
       "      <th>863510</th>\n",
       "      <td>2019-08-04</td>\n",
       "      <td>9</td>\n",
       "      <td>HEADACHE</td>\n",
       "      <td>1</td>\n",
       "    </tr>\n",
       "    <tr>\n",
       "      <th>863511</th>\n",
       "      <td>2019-08-04</td>\n",
       "      <td>9</td>\n",
       "      <td>INJURY</td>\n",
       "      <td>5</td>\n",
       "    </tr>\n",
       "    <tr>\n",
       "      <th>863512</th>\n",
       "      <td>2019-08-04</td>\n",
       "      <td>9</td>\n",
       "      <td>O.D./POISONING</td>\n",
       "      <td>9</td>\n",
       "    </tr>\n",
       "    <tr>\n",
       "      <th>863513</th>\n",
       "      <td>2019-08-04</td>\n",
       "      <td>9</td>\n",
       "      <td>OB/GYN</td>\n",
       "      <td>1</td>\n",
       "    </tr>\n",
       "    <tr>\n",
       "      <th>863514</th>\n",
       "      <td>2019-08-04</td>\n",
       "      <td>9</td>\n",
       "      <td>PSYCH/SA/EMOTIONAL</td>\n",
       "      <td>3</td>\n",
       "    </tr>\n",
       "    <tr>\n",
       "      <th>863516</th>\n",
       "      <td>2019-08-04</td>\n",
       "      <td>9</td>\n",
       "      <td>SEIZURE</td>\n",
       "      <td>8</td>\n",
       "    </tr>\n",
       "    <tr>\n",
       "      <th>863517</th>\n",
       "      <td>2019-08-04</td>\n",
       "      <td>9</td>\n",
       "      <td>SICK</td>\n",
       "      <td>6</td>\n",
       "    </tr>\n",
       "    <tr>\n",
       "      <th>863518</th>\n",
       "      <td>2019-08-04</td>\n",
       "      <td>9</td>\n",
       "      <td>STABBING</td>\n",
       "      <td>1</td>\n",
       "    </tr>\n",
       "    <tr>\n",
       "      <th>863519</th>\n",
       "      <td>2019-08-04</td>\n",
       "      <td>9</td>\n",
       "      <td>STROKE</td>\n",
       "      <td>1</td>\n",
       "    </tr>\n",
       "    <tr>\n",
       "      <th>863521</th>\n",
       "      <td>2019-08-04</td>\n",
       "      <td>9</td>\n",
       "      <td>UNKNOWN PROBLEM</td>\n",
       "      <td>8</td>\n",
       "    </tr>\n",
       "  </tbody>\n",
       "</table>\n",
       "</div>"
      ],
      "text/plain": [
       "       Incident Date  FSDistrict                IncidentCategory  \\\n",
       "863500    2019-08-04           9                       ABDOMINAL   \n",
       "863501    2019-08-04           9            ALLERGY/ENVENOMATION   \n",
       "863502    2019-08-04           9                         ASSAULT   \n",
       "863505    2019-08-04           9            BREATHING DIFFICULTY   \n",
       "863506    2019-08-04           9  CHEST DISCOMFORT/HEART PROBLEM   \n",
       "863507    2019-08-04           9                        DIABETIC   \n",
       "863508    2019-08-04           9                            FALL   \n",
       "863509    2019-08-04           9                    H/C EXPOSURE   \n",
       "863510    2019-08-04           9                        HEADACHE   \n",
       "863511    2019-08-04           9                          INJURY   \n",
       "863512    2019-08-04           9                  O.D./POISONING   \n",
       "863513    2019-08-04           9                          OB/GYN   \n",
       "863514    2019-08-04           9              PSYCH/SA/EMOTIONAL   \n",
       "863516    2019-08-04           9                         SEIZURE   \n",
       "863517    2019-08-04           9                            SICK   \n",
       "863518    2019-08-04           9                        STABBING   \n",
       "863519    2019-08-04           9                          STROKE   \n",
       "863521    2019-08-04           9                 UNKNOWN PROBLEM   \n",
       "\n",
       "        IncidentCount  \n",
       "863500              3  \n",
       "863501              2  \n",
       "863502              7  \n",
       "863505              2  \n",
       "863506              5  \n",
       "863507              2  \n",
       "863508              1  \n",
       "863509              1  \n",
       "863510              1  \n",
       "863511              5  \n",
       "863512              9  \n",
       "863513              1  \n",
       "863514              3  \n",
       "863516              8  \n",
       "863517              6  \n",
       "863518              1  \n",
       "863519              1  \n",
       "863521              8  "
      ]
     },
     "execution_count": 44,
     "metadata": {},
     "output_type": "execute_result"
    }
   ],
   "source": [
    "ems_df[(ems_df['Incident Date']=='2019-08-04') & (ems_df['FSDistrict']==9)]"
   ]
  },
  {
   "attachments": {},
   "cell_type": "markdown",
   "metadata": {},
   "source": [
    "Intersting, there are a lot of incidents in a lot of categories, but no apparent data problems, just a very active fire district. Maybe this area is in downtown or another very dense neighborhood? Let's take a look at the general distribution of call volumes in this district."
   ]
  },
  {
   "cell_type": "code",
   "execution_count": 49,
   "metadata": {},
   "outputs": [
    {
     "data": {
      "text/plain": [
       "<Axes: >"
      ]
     },
     "execution_count": 49,
     "metadata": {},
     "output_type": "execute_result"
    },
    {
     "data": {
      "image/png": "[encoded data removed]",
      "text/plain": [
       "<Figure size 432x288 with 1 Axes>"
      ]
     },
     "metadata": {
      "needs_background": "light"
     },
     "output_type": "display_data"
    }
   ],
   "source": [
    "ems_counts_df[ems_counts_df['FSDistrict']==9]['IncidentCount'].hist(bins=15)"
   ]
  },
  {
   "attachments": {},
   "cell_type": "markdown",
   "metadata": {},
   "source": [
    "Fascinating. This district just has a very high volume of calls, but it follows something aproximating a normal distribution, it just has a higher volume overall. I suppose this is why we need to adjust our expected volume by fire district. We can also take a look at the descriptive statistics for the number of calls per day for each fire district. "
   ]
  },
  {
   "cell_type": "code",
   "execution_count": 54,
   "metadata": {},
   "outputs": [
    {
     "data": {
      "text/html": [
       "<div>\n",
       "<style scoped>\n",
       "    .dataframe tbody tr th:only-of-type {\n",
       "        vertical-align: middle;\n",
       "    }\n",
       "\n",
       "    .dataframe tbody tr th {\n",
       "        vertical-align: top;\n",
       "    }\n",
       "\n",
       "    .dataframe thead tr th {\n",
       "        text-align: left;\n",
       "    }\n",
       "\n",
       "    .dataframe thead tr:last-of-type th {\n",
       "        text-align: right;\n",
       "    }\n",
       "</style>\n",
       "<table border=\"1\" class=\"dataframe\">\n",
       "  <thead>\n",
       "    <tr>\n",
       "      <th></th>\n",
       "      <th colspan=\"8\" halign=\"left\">IncidentCount</th>\n",
       "    </tr>\n",
       "    <tr>\n",
       "      <th></th>\n",
       "      <th>count</th>\n",
       "      <th>mean</th>\n",
       "      <th>std</th>\n",
       "      <th>min</th>\n",
       "      <th>25%</th>\n",
       "      <th>50%</th>\n",
       "      <th>75%</th>\n",
       "      <th>max</th>\n",
       "    </tr>\n",
       "    <tr>\n",
       "      <th>FSDistrict</th>\n",
       "      <th></th>\n",
       "      <th></th>\n",
       "      <th></th>\n",
       "      <th></th>\n",
       "      <th></th>\n",
       "      <th></th>\n",
       "      <th></th>\n",
       "      <th></th>\n",
       "    </tr>\n",
       "  </thead>\n",
       "  <tbody>\n",
       "    <tr>\n",
       "      <th>1</th>\n",
       "      <td>1825.0</td>\n",
       "      <td>7.275068</td>\n",
       "      <td>2.754374</td>\n",
       "      <td>1.0</td>\n",
       "      <td>5.0</td>\n",
       "      <td>7.0</td>\n",
       "      <td>9.0</td>\n",
       "      <td>17.0</td>\n",
       "    </tr>\n",
       "    <tr>\n",
       "      <th>2</th>\n",
       "      <td>1826.0</td>\n",
       "      <td>10.594195</td>\n",
       "      <td>3.432983</td>\n",
       "      <td>1.0</td>\n",
       "      <td>8.0</td>\n",
       "      <td>10.0</td>\n",
       "      <td>13.0</td>\n",
       "      <td>25.0</td>\n",
       "    </tr>\n",
       "    <tr>\n",
       "      <th>3</th>\n",
       "      <td>1826.0</td>\n",
       "      <td>11.760679</td>\n",
       "      <td>3.742713</td>\n",
       "      <td>1.0</td>\n",
       "      <td>9.0</td>\n",
       "      <td>12.0</td>\n",
       "      <td>14.0</td>\n",
       "      <td>25.0</td>\n",
       "    </tr>\n",
       "    <tr>\n",
       "      <th>4</th>\n",
       "      <td>1826.0</td>\n",
       "      <td>16.087076</td>\n",
       "      <td>4.688029</td>\n",
       "      <td>3.0</td>\n",
       "      <td>13.0</td>\n",
       "      <td>16.0</td>\n",
       "      <td>19.0</td>\n",
       "      <td>34.0</td>\n",
       "    </tr>\n",
       "    <tr>\n",
       "      <th>5</th>\n",
       "      <td>1817.0</td>\n",
       "      <td>5.565768</td>\n",
       "      <td>2.436008</td>\n",
       "      <td>1.0</td>\n",
       "      <td>4.0</td>\n",
       "      <td>5.0</td>\n",
       "      <td>7.0</td>\n",
       "      <td>16.0</td>\n",
       "    </tr>\n",
       "    <tr>\n",
       "      <th>...</th>\n",
       "      <td>...</td>\n",
       "      <td>...</td>\n",
       "      <td>...</td>\n",
       "      <td>...</td>\n",
       "      <td>...</td>\n",
       "      <td>...</td>\n",
       "      <td>...</td>\n",
       "      <td>...</td>\n",
       "    </tr>\n",
       "    <tr>\n",
       "      <th>108</th>\n",
       "      <td>669.0</td>\n",
       "      <td>1.270553</td>\n",
       "      <td>0.568681</td>\n",
       "      <td>1.0</td>\n",
       "      <td>1.0</td>\n",
       "      <td>1.0</td>\n",
       "      <td>1.0</td>\n",
       "      <td>5.0</td>\n",
       "    </tr>\n",
       "    <tr>\n",
       "      <th>109</th>\n",
       "      <td>1337.0</td>\n",
       "      <td>1.783096</td>\n",
       "      <td>0.966156</td>\n",
       "      <td>1.0</td>\n",
       "      <td>1.0</td>\n",
       "      <td>2.0</td>\n",
       "      <td>2.0</td>\n",
       "      <td>6.0</td>\n",
       "    </tr>\n",
       "    <tr>\n",
       "      <th>110</th>\n",
       "      <td>77.0</td>\n",
       "      <td>1.012987</td>\n",
       "      <td>0.113961</td>\n",
       "      <td>1.0</td>\n",
       "      <td>1.0</td>\n",
       "      <td>1.0</td>\n",
       "      <td>1.0</td>\n",
       "      <td>2.0</td>\n",
       "    </tr>\n",
       "    <tr>\n",
       "      <th>111</th>\n",
       "      <td>242.0</td>\n",
       "      <td>1.123967</td>\n",
       "      <td>0.387999</td>\n",
       "      <td>1.0</td>\n",
       "      <td>1.0</td>\n",
       "      <td>1.0</td>\n",
       "      <td>1.0</td>\n",
       "      <td>3.0</td>\n",
       "    </tr>\n",
       "    <tr>\n",
       "      <th>112</th>\n",
       "      <td>1776.0</td>\n",
       "      <td>3.826577</td>\n",
       "      <td>1.946985</td>\n",
       "      <td>1.0</td>\n",
       "      <td>2.0</td>\n",
       "      <td>4.0</td>\n",
       "      <td>5.0</td>\n",
       "      <td>13.0</td>\n",
       "    </tr>\n",
       "  </tbody>\n",
       "</table>\n",
       "<p>104 rows × 8 columns</p>\n",
       "</div>"
      ],
      "text/plain": [
       "           IncidentCount                                                  \n",
       "                   count       mean       std  min   25%   50%   75%   max\n",
       "FSDistrict                                                                \n",
       "1                 1825.0   7.275068  2.754374  1.0   5.0   7.0   9.0  17.0\n",
       "2                 1826.0  10.594195  3.432983  1.0   8.0  10.0  13.0  25.0\n",
       "3                 1826.0  11.760679  3.742713  1.0   9.0  12.0  14.0  25.0\n",
       "4                 1826.0  16.087076  4.688029  3.0  13.0  16.0  19.0  34.0\n",
       "5                 1817.0   5.565768  2.436008  1.0   4.0   5.0   7.0  16.0\n",
       "...                  ...        ...       ...  ...   ...   ...   ...   ...\n",
       "108                669.0   1.270553  0.568681  1.0   1.0   1.0   1.0   5.0\n",
       "109               1337.0   1.783096  0.966156  1.0   1.0   2.0   2.0   6.0\n",
       "110                 77.0   1.012987  0.113961  1.0   1.0   1.0   1.0   2.0\n",
       "111                242.0   1.123967  0.387999  1.0   1.0   1.0   1.0   3.0\n",
       "112               1776.0   3.826577  1.946985  1.0   2.0   4.0   5.0  13.0\n",
       "\n",
       "[104 rows x 8 columns]"
      ]
     },
     "execution_count": 54,
     "metadata": {},
     "output_type": "execute_result"
    }
   ],
   "source": [
    "ems_counts_df.groupby('FSDistrict').describe()"
   ]
  },
  {
   "cell_type": "code",
   "execution_count": 58,
   "metadata": {},
   "outputs": [
    {
     "data": {
      "text/plain": [
       "104"
      ]
     },
     "execution_count": 58,
     "metadata": {},
     "output_type": "execute_result"
    }
   ],
   "source": [
    "len(ems_counts_df['FSDistrict'].unique())"
   ]
  },
  {
   "attachments": {},
   "cell_type": "markdown",
   "metadata": {},
   "source": [
    "Some things to note are that there are a handful of districts that have had days with no calls (shown by inconsistent \"counts\"). In this data, absence of a day indicates the lack of calls on that day.\n",
    "\n",
    "We also should expect to see 102 fire districts based on the shape file available on the city website, when we join the data together we should explore which districts don't match up and see if we can figure out why. \n",
    "\n",
    "When I look online the current LAFD \"First In\" districts show 106 records but the split districts we had in the fire station district file were disolved, so using that version may solve the problem."
   ]
  },
  {
   "cell_type": "code",
   "execution_count": null,
   "metadata": {},
   "outputs": [],
   "source": [
    "ems_counts_df.to_csv('data/FireStatLA/ems_call_counts.csv', index=False)"
   ]
  },
  {
   "cell_type": "code",
   "execution_count": null,
   "metadata": {},
   "outputs": [],
   "source": []
  }
 ],
 "metadata": {
  "kernelspec": {
   "display_name": "new_uds",
   "language": "python",
   "name": "python3"
  },
  "language_info": {
   "codemirror_mode": {
    "name": "ipython",
    "version": 3
   },
   "file_extension": ".py",
   "mimetype": "text/x-python",
   "name": "python",
   "nbconvert_exporter": "python",
   "pygments_lexer": "ipython3",
   "version": "3.9.16"
  },
  "vscode": {
   "interpreter": {
    "hash": "18b43faa458b6d17be84aa9891c17eb3ca87ea09568445f6b9d92372208610de"
   }
  }
 },
 "nbformat": 4,
 "nbformat_minor": 4
}
