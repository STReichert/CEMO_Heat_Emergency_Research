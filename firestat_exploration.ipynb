{
 "cells": [
  {
   "cell_type": "code",
   "execution_count": 1,
   "metadata": {},
   "outputs": [],
   "source": [
    "import pandas as pd"
   ]
  },
  {
   "cell_type": "code",
   "execution_count": 2,
   "metadata": {},
   "outputs": [
    {
     "data": {
      "text/html": [
       "<div>\n",
       "<style scoped>\n",
       "    .dataframe tbody tr th:only-of-type {\n",
       "        vertical-align: middle;\n",
       "    }\n",
       "\n",
       "    .dataframe tbody tr th {\n",
       "        vertical-align: top;\n",
       "    }\n",
       "\n",
       "    .dataframe thead th {\n",
       "        text-align: right;\n",
       "    }\n",
       "</style>\n",
       "<table border=\"1\" class=\"dataframe\">\n",
       "  <thead>\n",
       "    <tr style=\"text-align: right;\">\n",
       "      <th></th>\n",
       "      <th>Incident Date</th>\n",
       "      <th>FSDistrict</th>\n",
       "      <th>IncidentCategory</th>\n",
       "      <th>IncidentCount</th>\n",
       "    </tr>\n",
       "  </thead>\n",
       "  <tbody>\n",
       "    <tr>\n",
       "      <th>0</th>\n",
       "      <td>2018-01-01</td>\n",
       "      <td>1</td>\n",
       "      <td>AUTOMOBILE</td>\n",
       "      <td>1</td>\n",
       "    </tr>\n",
       "    <tr>\n",
       "      <th>1</th>\n",
       "      <td>2018-01-01</td>\n",
       "      <td>1</td>\n",
       "      <td>BURNS</td>\n",
       "      <td>1</td>\n",
       "    </tr>\n",
       "    <tr>\n",
       "      <th>2</th>\n",
       "      <td>2018-01-01</td>\n",
       "      <td>1</td>\n",
       "      <td>CHEST DISCOMFORT/HEART PROBLEM</td>\n",
       "      <td>1</td>\n",
       "    </tr>\n",
       "    <tr>\n",
       "      <th>3</th>\n",
       "      <td>2018-01-01</td>\n",
       "      <td>1</td>\n",
       "      <td>DIABETIC</td>\n",
       "      <td>1</td>\n",
       "    </tr>\n",
       "    <tr>\n",
       "      <th>4</th>\n",
       "      <td>2018-01-01</td>\n",
       "      <td>1</td>\n",
       "      <td>FALL</td>\n",
       "      <td>2</td>\n",
       "    </tr>\n",
       "  </tbody>\n",
       "</table>\n",
       "</div>"
      ],
      "text/plain": [
       "  Incident Date  FSDistrict                IncidentCategory  IncidentCount\n",
       "0    2018-01-01           1                      AUTOMOBILE              1\n",
       "1    2018-01-01           1                           BURNS              1\n",
       "2    2018-01-01           1  CHEST DISCOMFORT/HEART PROBLEM              1\n",
       "3    2018-01-01           1                        DIABETIC              1\n",
       "4    2018-01-01           1                            FALL              2"
      ]
     },
     "execution_count": 2,
     "metadata": {},
     "output_type": "execute_result"
    }
   ],
   "source": [
    "df = pd.read_csv('data/FireStatLA/UCLA Heat Days - Daily Incident Summary.csv', parse_dates=['Incident Date'])\n",
    "\n",
    "df.head()"
   ]
  },
  {
   "cell_type": "code",
   "execution_count": 3,
   "metadata": {},
   "outputs": [
    {
     "data": {
      "text/html": [
       "<div>\n",
       "<style scoped>\n",
       "    .dataframe tbody tr th:only-of-type {\n",
       "        vertical-align: middle;\n",
       "    }\n",
       "\n",
       "    .dataframe tbody tr th {\n",
       "        vertical-align: top;\n",
       "    }\n",
       "\n",
       "    .dataframe thead th {\n",
       "        text-align: right;\n",
       "    }\n",
       "</style>\n",
       "<table border=\"1\" class=\"dataframe\">\n",
       "  <thead>\n",
       "    <tr style=\"text-align: right;\">\n",
       "      <th></th>\n",
       "      <th>Incident Date</th>\n",
       "      <th>FSDistrict</th>\n",
       "      <th>IncidentCategory</th>\n",
       "      <th>IncidentCount</th>\n",
       "    </tr>\n",
       "  </thead>\n",
       "  <tbody>\n",
       "    <tr>\n",
       "      <th>1475661</th>\n",
       "      <td>2022-12-31</td>\n",
       "      <td>109</td>\n",
       "      <td>TRAFFIC</td>\n",
       "      <td>1</td>\n",
       "    </tr>\n",
       "    <tr>\n",
       "      <th>1475662</th>\n",
       "      <td>2022-12-31</td>\n",
       "      <td>112</td>\n",
       "      <td>ASSAULT</td>\n",
       "      <td>1</td>\n",
       "    </tr>\n",
       "    <tr>\n",
       "      <th>1475663</th>\n",
       "      <td>2022-12-31</td>\n",
       "      <td>112</td>\n",
       "      <td>CHEST DISCOMFORT/HEART PROBLEM</td>\n",
       "      <td>1</td>\n",
       "    </tr>\n",
       "    <tr>\n",
       "      <th>1475664</th>\n",
       "      <td>2022-12-31</td>\n",
       "      <td>112</td>\n",
       "      <td>FALL</td>\n",
       "      <td>3</td>\n",
       "    </tr>\n",
       "    <tr>\n",
       "      <th>1475665</th>\n",
       "      <td>2022-12-31</td>\n",
       "      <td>112</td>\n",
       "      <td>O.D./POISONING</td>\n",
       "      <td>1</td>\n",
       "    </tr>\n",
       "  </tbody>\n",
       "</table>\n",
       "</div>"
      ],
      "text/plain": [
       "        Incident Date  FSDistrict                IncidentCategory  \\\n",
       "1475661    2022-12-31         109                         TRAFFIC   \n",
       "1475662    2022-12-31         112                         ASSAULT   \n",
       "1475663    2022-12-31         112  CHEST DISCOMFORT/HEART PROBLEM   \n",
       "1475664    2022-12-31         112                            FALL   \n",
       "1475665    2022-12-31         112                  O.D./POISONING   \n",
       "\n",
       "         IncidentCount  \n",
       "1475661              1  \n",
       "1475662              1  \n",
       "1475663              1  \n",
       "1475664              3  \n",
       "1475665              1  "
      ]
     },
     "execution_count": 3,
     "metadata": {},
     "output_type": "execute_result"
    }
   ],
   "source": [
    "df.tail()"
   ]
  },
  {
   "cell_type": "code",
   "execution_count": 4,
   "metadata": {},
   "outputs": [
    {
     "name": "stdout",
     "output_type": "stream",
     "text": [
      "<class 'pandas.core.frame.DataFrame'>\n",
      "RangeIndex: 1475666 entries, 0 to 1475665\n",
      "Data columns (total 4 columns):\n",
      " #   Column            Non-Null Count    Dtype         \n",
      "---  ------            --------------    -----         \n",
      " 0   Incident Date     1475666 non-null  datetime64[ns]\n",
      " 1   FSDistrict        1475666 non-null  int64         \n",
      " 2   IncidentCategory  1474711 non-null  object        \n",
      " 3   IncidentCount     1475666 non-null  int64         \n",
      "dtypes: datetime64[ns](1), int64(2), object(1)\n",
      "memory usage: 45.0+ MB\n"
     ]
    }
   ],
   "source": [
    "df.info()"
   ]
  },
  {
   "cell_type": "code",
   "execution_count": 5,
   "metadata": {},
   "outputs": [
    {
     "data": {
      "text/plain": [
       "array(['AUTOMOBILE', 'BURNS', 'CHEST DISCOMFORT/HEART PROBLEM',\n",
       "       'DIABETIC', 'FALL', 'INTERFACILITY TRANSFER', 'O.D./POISONING',\n",
       "       'RUBBISH', 'TRAFFIC', 'TREE', 'UNCONSCIOUS/FAINTING',\n",
       "       'UNKNOWN PROBLEM', 'PEDIATRICS', 'SICK', 'STRUCTURE',\n",
       "       'WATER-RELATED', 'ABDOMINAL', 'ASSAULT', 'AUTOMATIC ALARM',\n",
       "       'CHEMICAL', 'SEIZURE', 'STABBING', 'STROKE', 'TOXIC',\n",
       "       'PSYCH/SA/EMOTIONAL', 'BREATHING DIFFICULTY', 'INJURY', 'ELEVATOR',\n",
       "       'BLEEDING (NON-TRAUMATIC)', 'SMOKE DETECTOR', 'GRASS',\n",
       "       'ALLERGY/ENVENOMATION', 'CARDIAC/RESP. ARREST', 'CHOKING',\n",
       "       'ANIMAL BITE', 'LOCKOUT', 'ELECTRICAL', 'BELLS RINGING',\n",
       "       'SHOOTING', 'OB/GYN', 'SMOKE', 'STRUCTURE-AA', 'VEHICULAR', 'POLE',\n",
       "       'HEADACHE', 'OVEN', 'BRUSH', 'H/C EXPOSURE', 'WATER FLOW',\n",
       "       'BACK PAIN', 'HELP', 'TRANSFORMER', 'JUMPER', 'ELECTROCUTION',\n",
       "       'AIRCRAFT', 'TOXIC EXPOSURE', 'INFECTIOUS DISEASE', 'CLIFF/HIKER',\n",
       "       'DEBRIS', 'BOAT', 'BURN', 'BRUSHAA', 'TAR', 'METRO EL', 'ASST-E',\n",
       "       'CONFINED SPACE', nan, 'STANDBY', 'BUS', 'MAILBOX', 'EXPLOSION',\n",
       "       'DROWNING/WATER INJURY', 'INVEST-E', 'RAILCAR', 'RIVER',\n",
       "       'METRO GL', 'ASST-NE', 'GENERAL', 'HAZARDOUS MATERIAL', 'METRO RL',\n",
       "       'P', 'TANKER', 'STRUCTURAL', 'METRO BL', 'BIOLOGICAL',\n",
       "       'EARTHQUAKE', 'TECHNICAL', 'TRAIN', 'METRO GR', 'TRENCH', 'BOMB',\n",
       "       'METRO PL', 'INVEST-NE', 'TUNNEL ', 'LUMBER', 'METRO OR'],\n",
       "      dtype=object)"
      ]
     },
     "execution_count": 5,
     "metadata": {},
     "output_type": "execute_result"
    }
   ],
   "source": [
    "df.IncidentCategory.unique()"
   ]
  },
  {
   "cell_type": "code",
   "execution_count": 6,
   "metadata": {},
   "outputs": [
    {
     "data": {
      "text/html": [
       "<div>\n",
       "<style scoped>\n",
       "    .dataframe tbody tr th:only-of-type {\n",
       "        vertical-align: middle;\n",
       "    }\n",
       "\n",
       "    .dataframe tbody tr th {\n",
       "        vertical-align: top;\n",
       "    }\n",
       "\n",
       "    .dataframe thead th {\n",
       "        text-align: right;\n",
       "    }\n",
       "</style>\n",
       "<table border=\"1\" class=\"dataframe\">\n",
       "  <thead>\n",
       "    <tr style=\"text-align: right;\">\n",
       "      <th></th>\n",
       "      <th>severity</th>\n",
       "      <th>EMS</th>\n",
       "    </tr>\n",
       "  </thead>\n",
       "  <tbody>\n",
       "    <tr>\n",
       "      <th>0</th>\n",
       "      <td>AHR</td>\n",
       "      <td>ABDOMINAL</td>\n",
       "    </tr>\n",
       "    <tr>\n",
       "      <th>1</th>\n",
       "      <td>AHR</td>\n",
       "      <td>ALLERGY/ENVENOMATION</td>\n",
       "    </tr>\n",
       "    <tr>\n",
       "      <th>2</th>\n",
       "      <td>AHR</td>\n",
       "      <td>ANIMAL BITE</td>\n",
       "    </tr>\n",
       "    <tr>\n",
       "      <th>3</th>\n",
       "      <td>AHR</td>\n",
       "      <td>ASSAULT</td>\n",
       "    </tr>\n",
       "    <tr>\n",
       "      <th>4</th>\n",
       "      <td>AHR</td>\n",
       "      <td>BLEEDING(NON-TRAUMATIC)</td>\n",
       "    </tr>\n",
       "  </tbody>\n",
       "</table>\n",
       "</div>"
      ],
      "text/plain": [
       "  severity                      EMS\n",
       "0      AHR                ABDOMINAL\n",
       "1      AHR     ALLERGY/ENVENOMATION\n",
       "2      AHR              ANIMAL BITE\n",
       "3      AHR                  ASSAULT\n",
       "4      AHR  BLEEDING(NON-TRAUMATIC)"
      ]
     },
     "execution_count": 6,
     "metadata": {},
     "output_type": "execute_result"
    }
   ],
   "source": [
    "ems_codes = pd.read_csv('data/FireStatLA/EMS Codes.csv')\n",
    "ems_codes = ems_codes.melt() # creates 'long' dataframe of all ems values\n",
    "ems_codes.dropna(inplace=True) #get rid of extra na values\n",
    "ems_codes.rename(columns={'value': 'EMS', 'variable': 'severity'}, inplace=True) # renames columns to more intuitive names\n",
    "\n",
    "ems_codes.head()"
   ]
  },
  {
   "cell_type": "code",
   "execution_count": 7,
   "metadata": {},
   "outputs": [
    {
     "data": {
      "text/html": [
       "<div>\n",
       "<style scoped>\n",
       "    .dataframe tbody tr th:only-of-type {\n",
       "        vertical-align: middle;\n",
       "    }\n",
       "\n",
       "    .dataframe tbody tr th {\n",
       "        vertical-align: top;\n",
       "    }\n",
       "\n",
       "    .dataframe thead th {\n",
       "        text-align: right;\n",
       "    }\n",
       "</style>\n",
       "<table border=\"1\" class=\"dataframe\">\n",
       "  <thead>\n",
       "    <tr style=\"text-align: right;\">\n",
       "      <th></th>\n",
       "      <th>Incident Date</th>\n",
       "      <th>FSDistrict</th>\n",
       "      <th>IncidentCategory</th>\n",
       "      <th>IncidentCount</th>\n",
       "    </tr>\n",
       "  </thead>\n",
       "  <tbody>\n",
       "    <tr>\n",
       "      <th>1</th>\n",
       "      <td>2018-01-01</td>\n",
       "      <td>1</td>\n",
       "      <td>BURNS</td>\n",
       "      <td>1</td>\n",
       "    </tr>\n",
       "    <tr>\n",
       "      <th>2</th>\n",
       "      <td>2018-01-01</td>\n",
       "      <td>1</td>\n",
       "      <td>CHEST DISCOMFORT/HEART PROBLEM</td>\n",
       "      <td>1</td>\n",
       "    </tr>\n",
       "    <tr>\n",
       "      <th>3</th>\n",
       "      <td>2018-01-01</td>\n",
       "      <td>1</td>\n",
       "      <td>DIABETIC</td>\n",
       "      <td>1</td>\n",
       "    </tr>\n",
       "    <tr>\n",
       "      <th>4</th>\n",
       "      <td>2018-01-01</td>\n",
       "      <td>1</td>\n",
       "      <td>FALL</td>\n",
       "      <td>2</td>\n",
       "    </tr>\n",
       "    <tr>\n",
       "      <th>5</th>\n",
       "      <td>2018-01-01</td>\n",
       "      <td>1</td>\n",
       "      <td>INTERFACILITY TRANSFER</td>\n",
       "      <td>1</td>\n",
       "    </tr>\n",
       "  </tbody>\n",
       "</table>\n",
       "</div>"
      ],
      "text/plain": [
       "  Incident Date  FSDistrict                IncidentCategory  IncidentCount\n",
       "1    2018-01-01           1                           BURNS              1\n",
       "2    2018-01-01           1  CHEST DISCOMFORT/HEART PROBLEM              1\n",
       "3    2018-01-01           1                        DIABETIC              1\n",
       "4    2018-01-01           1                            FALL              2\n",
       "5    2018-01-01           1          INTERFACILITY TRANSFER              1"
      ]
     },
     "execution_count": 7,
     "metadata": {},
     "output_type": "execute_result"
    }
   ],
   "source": [
    "ems_df = df[df['IncidentCategory'].isin(ems_codes['EMS'])]\n",
    "ems_df.head()"
   ]
  },
  {
   "attachments": {},
   "cell_type": "markdown",
   "metadata": {},
   "source": [
    "I think the next step here will be to group by date and FS district with the aggregation being a sum of Incident Count, since it seems like that is the volume for the day in that district."
   ]
  },
  {
   "cell_type": "code",
   "execution_count": 10,
   "metadata": {},
   "outputs": [
    {
     "name": "stdout",
     "output_type": "stream",
     "text": [
      "The number of EMS records is: 1095001\n",
      "The number of individual EMS calls is: 1679765\n"
     ]
    }
   ],
   "source": [
    "print('The number of EMS records is: {}'.format(len(ems_df)))\n",
    "print('The number of individual EMS calls is: {}'.format(ems_df['IncidentCount'].sum()))"
   ]
  },
  {
   "cell_type": "code",
   "execution_count": null,
   "metadata": {},
   "outputs": [],
   "source": []
  }
 ],
 "metadata": {
  "kernelspec": {
   "display_name": "new_uds",
   "language": "python",
   "name": "python3"
  },
  "language_info": {
   "codemirror_mode": {
    "name": "ipython",
    "version": 3
   },
   "file_extension": ".py",
   "mimetype": "text/x-python",
   "name": "python",
   "nbconvert_exporter": "python",
   "pygments_lexer": "ipython3",
   "version": "3.11.0"
  },
  "orig_nbformat": 4,
  "vscode": {
   "interpreter": {
    "hash": "18b43faa458b6d17be84aa9891c17eb3ca87ea09568445f6b9d92372208610de"
   }
  }
 },
 "nbformat": 4,
 "nbformat_minor": 2
}
